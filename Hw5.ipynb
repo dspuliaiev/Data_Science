{
 "cells": [
  {
   "cell_type": "code",
   "id": "initial_id",
   "metadata": {
    "collapsed": true,
    "ExecuteTime": {
     "end_time": "2024-06-17T13:37:59.669706Z",
     "start_time": "2024-06-17T13:37:59.665048Z"
    }
   },
   "source": [
    "import pandas as pd\n",
    "import numpy as np\n",
    "import matplotlib.pyplot as plt\n",
    "import seaborn as sns\n",
    "from sklearn.model_selection import train_test_split\n",
    "from sklearn.svm import SVC\n",
    "from sklearn.preprocessing import StandardScaler\n",
    "from sklearn.ensemble import RandomForestClassifier\n",
    "from sklearn.metrics import classification_report"
   ],
   "outputs": [],
   "execution_count": 36
  },
  {
   "metadata": {},
   "cell_type": "markdown",
   "source": "Обробка(об'єднання) вихідних даних",
   "id": "cd027522d38c184e"
  },
  {
   "metadata": {
    "ExecuteTime": {
     "end_time": "2024-06-17T13:38:04.238370Z",
     "start_time": "2024-06-17T13:37:59.687903Z"
    }
   },
   "cell_type": "code",
   "source": [
    "from pathlib import Path\n",
    "data_features = ['idle', 'running', 'stairs', 'walking']\n",
    "data = []\n",
    "\n",
    "for i, feature in enumerate(data_features):\n",
    "    activity_path = Path('data', feature)\n",
    "    csv_files = list(activity_path.glob('*.csv'))\n",
    "    df = pd.concat((pd.read_csv(file) for file in csv_files), ignore_index=True)\n",
    "    df['activity'] = feature\n",
    "    data.append(df)\n",
    "    \n",
    "activity_data = pd.concat(data, ignore_index=True)\n",
    "activity_data.head(10)       "
   ],
   "id": "b865b5395abbad53",
   "outputs": [
    {
     "data": {
      "text/plain": [
       "   accelerometer_X  accelerometer_Y  accelerometer_Z activity\n",
       "0         1.000776         4.616021         8.576031     idle\n",
       "1         0.718261         4.209007         8.446744     idle\n",
       "2        -0.909797        -0.282516         9.203311     idle\n",
       "3         5.099650         0.148441         8.418014     idle\n",
       "4         1.762132        -0.162806         9.251195     idle\n",
       "5        -0.086191        -0.148441         9.787497     idle\n",
       "6        -0.062249        -0.191536         9.773131     idle\n",
       "7        -0.057461        -0.114922         9.763555     idle\n",
       "8        -0.124498        -0.162806         9.782708     idle\n",
       "9        -0.138864        -0.124498         9.768343     idle"
      ],
      "text/html": [
       "<div>\n",
       "<style scoped>\n",
       "    .dataframe tbody tr th:only-of-type {\n",
       "        vertical-align: middle;\n",
       "    }\n",
       "\n",
       "    .dataframe tbody tr th {\n",
       "        vertical-align: top;\n",
       "    }\n",
       "\n",
       "    .dataframe thead th {\n",
       "        text-align: right;\n",
       "    }\n",
       "</style>\n",
       "<table border=\"1\" class=\"dataframe\">\n",
       "  <thead>\n",
       "    <tr style=\"text-align: right;\">\n",
       "      <th></th>\n",
       "      <th>accelerometer_X</th>\n",
       "      <th>accelerometer_Y</th>\n",
       "      <th>accelerometer_Z</th>\n",
       "      <th>activity</th>\n",
       "    </tr>\n",
       "  </thead>\n",
       "  <tbody>\n",
       "    <tr>\n",
       "      <th>0</th>\n",
       "      <td>1.000776</td>\n",
       "      <td>4.616021</td>\n",
       "      <td>8.576031</td>\n",
       "      <td>idle</td>\n",
       "    </tr>\n",
       "    <tr>\n",
       "      <th>1</th>\n",
       "      <td>0.718261</td>\n",
       "      <td>4.209007</td>\n",
       "      <td>8.446744</td>\n",
       "      <td>idle</td>\n",
       "    </tr>\n",
       "    <tr>\n",
       "      <th>2</th>\n",
       "      <td>-0.909797</td>\n",
       "      <td>-0.282516</td>\n",
       "      <td>9.203311</td>\n",
       "      <td>idle</td>\n",
       "    </tr>\n",
       "    <tr>\n",
       "      <th>3</th>\n",
       "      <td>5.099650</td>\n",
       "      <td>0.148441</td>\n",
       "      <td>8.418014</td>\n",
       "      <td>idle</td>\n",
       "    </tr>\n",
       "    <tr>\n",
       "      <th>4</th>\n",
       "      <td>1.762132</td>\n",
       "      <td>-0.162806</td>\n",
       "      <td>9.251195</td>\n",
       "      <td>idle</td>\n",
       "    </tr>\n",
       "    <tr>\n",
       "      <th>5</th>\n",
       "      <td>-0.086191</td>\n",
       "      <td>-0.148441</td>\n",
       "      <td>9.787497</td>\n",
       "      <td>idle</td>\n",
       "    </tr>\n",
       "    <tr>\n",
       "      <th>6</th>\n",
       "      <td>-0.062249</td>\n",
       "      <td>-0.191536</td>\n",
       "      <td>9.773131</td>\n",
       "      <td>idle</td>\n",
       "    </tr>\n",
       "    <tr>\n",
       "      <th>7</th>\n",
       "      <td>-0.057461</td>\n",
       "      <td>-0.114922</td>\n",
       "      <td>9.763555</td>\n",
       "      <td>idle</td>\n",
       "    </tr>\n",
       "    <tr>\n",
       "      <th>8</th>\n",
       "      <td>-0.124498</td>\n",
       "      <td>-0.162806</td>\n",
       "      <td>9.782708</td>\n",
       "      <td>idle</td>\n",
       "    </tr>\n",
       "    <tr>\n",
       "      <th>9</th>\n",
       "      <td>-0.138864</td>\n",
       "      <td>-0.124498</td>\n",
       "      <td>9.768343</td>\n",
       "      <td>idle</td>\n",
       "    </tr>\n",
       "  </tbody>\n",
       "</table>\n",
       "</div>"
      ]
     },
     "execution_count": 37,
     "metadata": {},
     "output_type": "execute_result"
    }
   ],
   "execution_count": 37
  },
  {
   "metadata": {},
   "cell_type": "markdown",
   "source": "Нормалізація даних, створення копії оригінальних даних ",
   "id": "97bf302325e6921a"
  },
  {
   "metadata": {
    "ExecuteTime": {
     "end_time": "2024-06-17T13:38:04.260513Z",
     "start_time": "2024-06-17T13:38:04.240380Z"
    }
   },
   "cell_type": "code",
   "source": [
    "features = ['accelerometer_X', 'accelerometer_Y', 'accelerometer_Z']\n",
    "scaler = StandardScaler()\n",
    "data_to_norm = activity_data[features]\n",
    "normalized_data = scaler.fit_transform(data_to_norm)\n",
    "\n",
    "new_data = activity_data.copy()\n",
    "new_data[features] = normalized_data\n",
    "new_data.head(10)"
   ],
   "id": "128b1f0da63a7913",
   "outputs": [
    {
     "data": {
      "text/plain": [
       "   accelerometer_X  accelerometer_Y  accelerometer_Z activity\n",
       "0        -0.109791         0.241917         0.941538     idle\n",
       "1        -0.143404         0.209288         0.923560     idle\n",
       "2        -0.337109        -0.150782         1.028762     idle\n",
       "3         0.377889        -0.116234         0.919565     idle\n",
       "4        -0.019205        -0.141185         1.035420     idle\n",
       "5        -0.239117        -0.140034         1.109994     idle\n",
       "6        -0.236268        -0.143489         1.107996     idle\n",
       "7        -0.235699        -0.137347         1.106665     idle\n",
       "8        -0.243675        -0.141185         1.109328     idle\n",
       "9        -0.245384        -0.138114         1.107331     idle"
      ],
      "text/html": [
       "<div>\n",
       "<style scoped>\n",
       "    .dataframe tbody tr th:only-of-type {\n",
       "        vertical-align: middle;\n",
       "    }\n",
       "\n",
       "    .dataframe tbody tr th {\n",
       "        vertical-align: top;\n",
       "    }\n",
       "\n",
       "    .dataframe thead th {\n",
       "        text-align: right;\n",
       "    }\n",
       "</style>\n",
       "<table border=\"1\" class=\"dataframe\">\n",
       "  <thead>\n",
       "    <tr style=\"text-align: right;\">\n",
       "      <th></th>\n",
       "      <th>accelerometer_X</th>\n",
       "      <th>accelerometer_Y</th>\n",
       "      <th>accelerometer_Z</th>\n",
       "      <th>activity</th>\n",
       "    </tr>\n",
       "  </thead>\n",
       "  <tbody>\n",
       "    <tr>\n",
       "      <th>0</th>\n",
       "      <td>-0.109791</td>\n",
       "      <td>0.241917</td>\n",
       "      <td>0.941538</td>\n",
       "      <td>idle</td>\n",
       "    </tr>\n",
       "    <tr>\n",
       "      <th>1</th>\n",
       "      <td>-0.143404</td>\n",
       "      <td>0.209288</td>\n",
       "      <td>0.923560</td>\n",
       "      <td>idle</td>\n",
       "    </tr>\n",
       "    <tr>\n",
       "      <th>2</th>\n",
       "      <td>-0.337109</td>\n",
       "      <td>-0.150782</td>\n",
       "      <td>1.028762</td>\n",
       "      <td>idle</td>\n",
       "    </tr>\n",
       "    <tr>\n",
       "      <th>3</th>\n",
       "      <td>0.377889</td>\n",
       "      <td>-0.116234</td>\n",
       "      <td>0.919565</td>\n",
       "      <td>idle</td>\n",
       "    </tr>\n",
       "    <tr>\n",
       "      <th>4</th>\n",
       "      <td>-0.019205</td>\n",
       "      <td>-0.141185</td>\n",
       "      <td>1.035420</td>\n",
       "      <td>idle</td>\n",
       "    </tr>\n",
       "    <tr>\n",
       "      <th>5</th>\n",
       "      <td>-0.239117</td>\n",
       "      <td>-0.140034</td>\n",
       "      <td>1.109994</td>\n",
       "      <td>idle</td>\n",
       "    </tr>\n",
       "    <tr>\n",
       "      <th>6</th>\n",
       "      <td>-0.236268</td>\n",
       "      <td>-0.143489</td>\n",
       "      <td>1.107996</td>\n",
       "      <td>idle</td>\n",
       "    </tr>\n",
       "    <tr>\n",
       "      <th>7</th>\n",
       "      <td>-0.235699</td>\n",
       "      <td>-0.137347</td>\n",
       "      <td>1.106665</td>\n",
       "      <td>idle</td>\n",
       "    </tr>\n",
       "    <tr>\n",
       "      <th>8</th>\n",
       "      <td>-0.243675</td>\n",
       "      <td>-0.141185</td>\n",
       "      <td>1.109328</td>\n",
       "      <td>idle</td>\n",
       "    </tr>\n",
       "    <tr>\n",
       "      <th>9</th>\n",
       "      <td>-0.245384</td>\n",
       "      <td>-0.138114</td>\n",
       "      <td>1.107331</td>\n",
       "      <td>idle</td>\n",
       "    </tr>\n",
       "  </tbody>\n",
       "</table>\n",
       "</div>"
      ]
     },
     "execution_count": 38,
     "metadata": {},
     "output_type": "execute_result"
    }
   ],
   "execution_count": 38
  },
  {
   "metadata": {},
   "cell_type": "markdown",
   "source": "Розділення даних на тестові та тренувальні набори",
   "id": "3971f9c1be19c523"
  },
  {
   "metadata": {
    "ExecuteTime": {
     "end_time": "2024-06-17T13:38:04.286297Z",
     "start_time": "2024-06-17T13:38:04.262012Z"
    }
   },
   "cell_type": "code",
   "source": "X_train, X_test, y_train, y_test = train_test_split(new_data[features], new_data['activity'], test_size=0.3, random_state=42)",
   "id": "92b3af94f92d8bcc",
   "outputs": [],
   "execution_count": 39
  },
  {
   "metadata": {},
   "cell_type": "markdown",
   "source": "Навчання на тренувальних даних за алгоритмом SVM",
   "id": "64d26e1fe99948bb"
  },
  {
   "metadata": {
    "ExecuteTime": {
     "end_time": "2024-06-17T13:42:29.085237Z",
     "start_time": "2024-06-17T13:38:04.287307Z"
    }
   },
   "cell_type": "code",
   "source": [
    "svm_model = SVC()\n",
    "svm_model.fit(X_train, y_train)\n",
    "svm_model.score(X_test, y_test)"
   ],
   "id": "27ad32c783db200",
   "outputs": [
    {
     "data": {
      "text/plain": [
       "0.8928264383231885"
      ]
     },
     "execution_count": 40,
     "metadata": {},
     "output_type": "execute_result"
    }
   ],
   "execution_count": 40
  },
  {
   "metadata": {},
   "cell_type": "markdown",
   "source": "Навчання на тренувальних даних за алгоритмом Random Forest",
   "id": "2ce21a795bfec52a"
  },
  {
   "metadata": {
    "ExecuteTime": {
     "end_time": "2024-06-17T13:42:39.069087Z",
     "start_time": "2024-06-17T13:42:29.088242Z"
    }
   },
   "cell_type": "code",
   "source": [
    "rf_model = RandomForestClassifier()\n",
    "rf_model.fit(X_train, y_train)\n",
    "rf_model.score(X_test, y_test)"
   ],
   "id": "fe292915d2c33ff2",
   "outputs": [
    {
     "data": {
      "text/plain": [
       "0.9995873310636542"
      ]
     },
     "execution_count": 41,
     "metadata": {},
     "output_type": "execute_result"
    }
   ],
   "execution_count": 41
  },
  {
   "metadata": {},
   "cell_type": "markdown",
   "source": "Передбачення",
   "id": "b308c8d481a89439"
  },
  {
   "metadata": {
    "ExecuteTime": {
     "end_time": "2024-06-17T13:54:03.820721Z",
     "start_time": "2024-06-17T13:52:14.521766Z"
    }
   },
   "cell_type": "code",
   "source": [
    "svm_predictions = svm_model.predict(X_test)\n",
    "rf_predictions = rf_model.predict(X_test)"
   ],
   "id": "5d672d860da7fa3c",
   "outputs": [],
   "execution_count": 42
  },
  {
   "metadata": {},
   "cell_type": "markdown",
   "source": "Звіт класифікації",
   "id": "d7bfd3dc289d7314"
  },
  {
   "metadata": {
    "ExecuteTime": {
     "end_time": "2024-06-17T13:57:38.976005Z",
     "start_time": "2024-06-17T13:57:37.658530Z"
    }
   },
   "cell_type": "code",
   "source": [
    "svm_report = classification_report(y_test, svm_predictions)\n",
    "print(svm_report)\n"
   ],
   "id": "53950167db39f4a5",
   "outputs": [
    {
     "name": "stdout",
     "output_type": "stream",
     "text": [
      "              precision    recall  f1-score   support\n",
      "\n",
      "        idle       0.96      0.98      0.97      9306\n",
      "     running       0.93      0.91      0.92     30609\n",
      "      stairs       1.00      0.01      0.01      1537\n",
      "     walking       0.80      0.90      0.85     16706\n",
      "\n",
      "    accuracy                           0.89     58158\n",
      "   macro avg       0.92      0.70      0.69     58158\n",
      "weighted avg       0.90      0.89      0.88     58158\n",
      "\n"
     ]
    }
   ],
   "execution_count": 46
  },
  {
   "metadata": {
    "ExecuteTime": {
     "end_time": "2024-06-17T13:57:44.162730Z",
     "start_time": "2024-06-17T13:57:42.840636Z"
    }
   },
   "cell_type": "code",
   "source": [
    "rf_report = classification_report(y_test, rf_predictions)\n",
    "print(rf_report)"
   ],
   "id": "4a7a364f9df4f544",
   "outputs": [
    {
     "name": "stdout",
     "output_type": "stream",
     "text": [
      "              precision    recall  f1-score   support\n",
      "\n",
      "        idle       1.00      1.00      1.00      9306\n",
      "     running       1.00      1.00      1.00     30609\n",
      "      stairs       1.00      0.99      1.00      1537\n",
      "     walking       1.00      1.00      1.00     16706\n",
      "\n",
      "    accuracy                           1.00     58158\n",
      "   macro avg       1.00      1.00      1.00     58158\n",
      "weighted avg       1.00      1.00      1.00     58158\n",
      "\n"
     ]
    }
   ],
   "execution_count": 47
  },
  {
   "metadata": {},
   "cell_type": "markdown",
   "source": [
    "## Висновки: \n",
    "Модель випадкового лісу демонструє високу точність, що наближається до 100%. У моделі опорних векторів точність менша, приблизно 89%. В моделі випадкового лісу значення precision та f1-score становлять 1, що свідчить про високу точність передбачення класів. У моделі опорних векторів спостерігаються гірші результати, precision показує недостатню точність, що може вказувати на наявність помилок у передбаченнях. "
   ],
   "id": "4062c2f5f4f66180"
  }
 ],
 "metadata": {
  "kernelspec": {
   "display_name": "Python 3",
   "language": "python",
   "name": "python3"
  },
  "language_info": {
   "codemirror_mode": {
    "name": "ipython",
    "version": 2
   },
   "file_extension": ".py",
   "mimetype": "text/x-python",
   "name": "python",
   "nbconvert_exporter": "python",
   "pygments_lexer": "ipython2",
   "version": "2.7.6"
  }
 },
 "nbformat": 4,
 "nbformat_minor": 5
}
