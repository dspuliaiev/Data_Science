{
 "cells": [
  {
   "cell_type": "code",
   "id": "initial_id",
   "metadata": {
    "collapsed": true,
    "jupyter": {
     "outputs_hidden": true
    },
    "ExecuteTime": {
     "end_time": "2024-05-26T09:39:00.283412Z",
     "start_time": "2024-05-26T09:39:00.270913Z"
    }
   },
   "source": [
    "import random\n",
    "import numpy as np\n",
    "\n",
    "\"Створіть одновимірний масив (вектор) з першими 10-ма натуральними числами та виведіть його значення.\"\n",
    "vector = np.arange(1, 11)\n",
    "print(vector)"
   ],
   "outputs": [
    {
     "name": "stdout",
     "output_type": "stream",
     "text": [
      "[ 1  2  3  4  5  6  7  8  9 10]\n"
     ]
    }
   ],
   "execution_count": 1
  },
  {
   "cell_type": "code",
   "id": "109296e9c209ac2c",
   "metadata": {
    "ExecuteTime": {
     "end_time": "2024-05-26T09:39:00.289475Z",
     "start_time": "2024-05-26T09:39:00.284551Z"
    }
   },
   "source": [
    "\"Створіть двовимірний масив (матрицю) розміром 3x3, заповніть його нулями та виведіть його значення.\"\n",
    "matrix = np.zeros((3, 3))\n",
    "print(matrix)"
   ],
   "outputs": [
    {
     "name": "stdout",
     "output_type": "stream",
     "text": [
      "[[0. 0. 0.]\n",
      " [0. 0. 0.]\n",
      " [0. 0. 0.]]\n"
     ]
    }
   ],
   "execution_count": 2
  },
  {
   "cell_type": "code",
   "id": "63d16e822d29ec52",
   "metadata": {
    "ExecuteTime": {
     "end_time": "2024-05-26T09:39:00.295752Z",
     "start_time": "2024-05-26T09:39:00.290978Z"
    }
   },
   "source": [
    "\"Створіть масив розміром 5x5, заповніть його випадковими цілими числами в діапазоні від 1 до 10 та виведіть його значення.\"\n",
    "matrix = np.random.randint(11, size=(5, 5))\n",
    "print(matrix)"
   ],
   "outputs": [
    {
     "name": "stdout",
     "output_type": "stream",
     "text": [
      "[[ 3  0  2  8  1]\n",
      " [ 1  6  1  5  9]\n",
      " [ 1  9  6  4  2]\n",
      " [ 3  8  2  5 10]\n",
      " [10  1  4  2  5]]\n"
     ]
    }
   ],
   "execution_count": 3
  },
  {
   "cell_type": "code",
   "id": "6d9a320e4be07581",
   "metadata": {
    "ExecuteTime": {
     "end_time": "2024-05-26T09:39:00.300862Z",
     "start_time": "2024-05-26T09:39:00.296759Z"
    }
   },
   "source": [
    "\"Створіть масив розміром 4x4, заповніть його випадковими дійсними числами в діапазоні від 0 до 1 та виведіть його значення.\"\n",
    "matrix = np.random.randint(2, size=(4, 4))\n",
    "print(matrix)"
   ],
   "outputs": [
    {
     "name": "stdout",
     "output_type": "stream",
     "text": [
      "[[0 1 1 1]\n",
      " [1 1 0 1]\n",
      " [1 0 1 0]\n",
      " [0 1 1 0]]\n"
     ]
    }
   ],
   "execution_count": 4
  },
  {
   "cell_type": "code",
   "id": "498c1a6e781e009a",
   "metadata": {
    "ExecuteTime": {
     "end_time": "2024-05-26T09:39:00.307419Z",
     "start_time": "2024-05-26T09:39:00.301868Z"
    }
   },
   "source": [
    "\"Створіть два одновимірних масиви розміром 5, заповніть їх випадковими цілими числами в діапазоні від 1 до 10 та виконайте на них поелементні операції додавання, віднімання та множення.\"\n",
    "a = np.array([np.random.randint(1, 11) for i in range(5)])\n",
    "b = np.array([np.random.randint(1, 11) for i in range(5)])\n",
    "\n",
    "print(a + b)\n",
    "print(a - b)\n",
    "print(a * b)"
   ],
   "outputs": [
    {
     "name": "stdout",
     "output_type": "stream",
     "text": [
      "[ 8 11  5 17 11]\n",
      "[-6 -1 -1  1 -3]\n",
      "[ 7 30  6 72 28]\n"
     ]
    }
   ],
   "execution_count": 5
  },
  {
   "cell_type": "code",
   "id": "5465bacec0bccc0c",
   "metadata": {
    "ExecuteTime": {
     "end_time": "2024-05-26T09:39:00.313900Z",
     "start_time": "2024-05-26T09:39:00.308886Z"
    }
   },
   "source": [
    "\"Створіть два вектори розміром 7, заповніть довільними числами та знайдіть їх скалярний добуток.\"\n",
    "a = np.array([np.random.randint(1, 11) for i in range(7)])\n",
    "b = np.array([np.random.randint(1, 11) for i in range(7)])\n",
    "\n",
    "print(np.dot(a, b))\n"
   ],
   "outputs": [
    {
     "name": "stdout",
     "output_type": "stream",
     "text": [
      "175\n"
     ]
    }
   ],
   "execution_count": 6
  },
  {
   "cell_type": "code",
   "id": "ef52dff4cdcdb150",
   "metadata": {
    "ExecuteTime": {
     "end_time": "2024-05-26T09:39:00.320773Z",
     "start_time": "2024-05-26T09:39:00.315181Z"
    }
   },
   "source": [
    "\"Створіть дві матриці розміром 2x2 та 2x3, заповніть їх випадковими цілими числами в діапазоні від 1 до 10 та перемножте їх між собою.\"\n",
    "a = np.random.randint(11, size=(2,2))\n",
    "b = np.random.randint(11, size=(2,3))\n",
    "result = np.dot(a, b)\n",
    "print(result)\n"
   ],
   "outputs": [
    {
     "name": "stdout",
     "output_type": "stream",
     "text": [
      "[[  0   0   0]\n",
      " [ 29  42 122]]\n"
     ]
    }
   ],
   "execution_count": 7
  },
  {
   "cell_type": "code",
   "id": "153edcdb9c2e7ad3",
   "metadata": {
    "ExecuteTime": {
     "end_time": "2024-05-26T09:39:00.328675Z",
     "start_time": "2024-05-26T09:39:00.322220Z"
    }
   },
   "source": [
    "\"Створіть матрицю розміром 3x3, заповніть її випадковими цілими числами в діапазоні від 1 до 10 та знайдіть її обернену матрицю.\"\n",
    "matrix = np.random.randint(1, 11, size=(3, 3))\n",
    "inverse_matrix = np.linalg.inv(matrix)\n",
    "print(matrix)\n",
    "print(inverse_matrix)"
   ],
   "outputs": [
    {
     "name": "stdout",
     "output_type": "stream",
     "text": [
      "[[6 2 9]\n",
      " [3 4 4]\n",
      " [2 1 6]]\n",
      "[[ 0.36363636 -0.05454545 -0.50909091]\n",
      " [-0.18181818  0.32727273  0.05454545]\n",
      " [-0.09090909 -0.03636364  0.32727273]]\n"
     ]
    }
   ],
   "execution_count": 8
  },
  {
   "cell_type": "code",
   "id": "633be00e4f417a6f",
   "metadata": {
    "ExecuteTime": {
     "end_time": "2024-05-26T09:39:00.335926Z",
     "start_time": "2024-05-26T09:39:00.329829Z"
    }
   },
   "source": [
    "\"Створіть матрицю розміром 4x4, заповніть її випадковими дійсними числами в діапазоні від 0 до 1 та транспонуйте її.\"\n",
    "matrix = np.random.rand(4, 4)\n",
    "transposed_matrix = np.transpose(matrix)\n",
    "print(\"Оригінальна матриця (4x4):\")\n",
    "print(matrix)\n",
    "print(\"Транспонована матриця (4x4):\")\n",
    "print(transposed_matrix)"
   ],
   "outputs": [
    {
     "name": "stdout",
     "output_type": "stream",
     "text": [
      "Оригінальна матриця (4x4):\n",
      "[[0.15862081 0.42074148 0.66366855 0.66289677]\n",
      " [0.32130277 0.94327373 0.27115965 0.14273034]\n",
      " [0.25376785 0.25832541 0.41396406 0.48003555]\n",
      " [0.07979834 0.48844624 0.62212824 0.10331526]]\n",
      "Транспонована матриця (4x4):\n",
      "[[0.15862081 0.32130277 0.25376785 0.07979834]\n",
      " [0.42074148 0.94327373 0.25832541 0.48844624]\n",
      " [0.66366855 0.27115965 0.41396406 0.62212824]\n",
      " [0.66289677 0.14273034 0.48003555 0.10331526]]\n"
     ]
    }
   ],
   "execution_count": 9
  },
  {
   "cell_type": "code",
   "id": "8070854d667f20db",
   "metadata": {
    "ExecuteTime": {
     "end_time": "2024-05-26T09:39:00.342319Z",
     "start_time": "2024-05-26T09:39:00.336933Z"
    }
   },
   "source": [
    "\"Створіть матрицю розміром 3x4 та вектор розміром 4, заповніть їх випадковими цілими числами в діапазоні від 1 до 10 та перемножте матрицю на вектор.\"\n",
    "vector = np.array([np.random.randint(1, 11) for i in range(4)])\n",
    "matrix = np.array(np.random.randint(1, 11, size=(3, 4)))\n",
    "print(\"Вектор:\")\n",
    "print(vector)\n",
    "print(\"Матриця:\")\n",
    "print(matrix)"
   ],
   "outputs": [
    {
     "name": "stdout",
     "output_type": "stream",
     "text": [
      "Вектор:\n",
      "[3 2 8 7]\n",
      "Матриця:\n",
      "[[ 2  1  2  7]\n",
      " [ 3  8  8 10]\n",
      " [ 3  1  5  1]]\n"
     ]
    }
   ],
   "execution_count": 10
  },
  {
   "cell_type": "code",
   "id": "5c212548053cd8ff",
   "metadata": {
    "ExecuteTime": {
     "end_time": "2024-05-26T09:39:00.350923Z",
     "start_time": "2024-05-26T09:39:00.346203Z"
    }
   },
   "source": [
    "\"Створіть матрицю розміром 2x3 та вектор розміром 3, заповніть їх випадковими дійсними числами в діапазоні від 0 до 1 та перемножте матрицю на вектор\"\n",
    "vector = np.array([np.random.randint(0, 2) for i in range (3)])\n",
    "matrix = np.array(np.random.randint(0, 2, size=(2, 3)))\n",
    "print(\"Вектор:\")\n",
    "print(vector)\n",
    "print(\"Матриця:\")\n",
    "print(matrix)\n",
    "result = (matrix * vector)\n",
    "print(\"Результат:\")\n",
    "print(result)   "
   ],
   "outputs": [
    {
     "name": "stdout",
     "output_type": "stream",
     "text": [
      "Вектор:\n",
      "[1 1 0]\n",
      "Матриця:\n",
      "[[1 1 1]\n",
      " [1 1 1]]\n",
      "Результат:\n",
      "[[1 1 0]\n",
      " [1 1 0]]\n"
     ]
    }
   ],
   "execution_count": 11
  },
  {
   "cell_type": "code",
   "id": "999ed71546b54dbd",
   "metadata": {
    "ExecuteTime": {
     "end_time": "2024-05-26T09:39:00.357345Z",
     "start_time": "2024-05-26T09:39:00.352144Z"
    }
   },
   "source": [
    "\"Створіть дві матриці розміром 2x2, заповніть їх випадковими цілими числами в діапазоні від 1 до 10 та виконайте їхнє поелементне множення.\"\n",
    "matrix_1 = np.array(np.random.randint(1, 11, size=(2, 2)))\n",
    "matrix_2 = np.array(np.random.randint(1, 11, size=(2, 2)))\n",
    "print(\"Матриця 1:\")\n",
    "print(matrix_1)\n",
    "print(\"Матриця 2:\")\n",
    "print(matrix_2)\n",
    "result = (matrix_1 * matrix_2)\n",
    "print(\"Результат:\")\n",
    "print(result)"
   ],
   "outputs": [
    {
     "name": "stdout",
     "output_type": "stream",
     "text": [
      "Матриця 1:\n",
      "[[2 2]\n",
      " [4 9]]\n",
      "Матриця 2:\n",
      "[[10  4]\n",
      " [ 5  7]]\n",
      "Результат:\n",
      "[[20  8]\n",
      " [20 63]]\n"
     ]
    }
   ],
   "execution_count": 12
  },
  {
   "cell_type": "code",
   "id": "1cd6187268bcb802",
   "metadata": {
    "ExecuteTime": {
     "end_time": "2024-05-26T09:39:00.363666Z",
     "start_time": "2024-05-26T09:39:00.357851Z"
    }
   },
   "source": [
    "\"Створіть дві матриці розміром 2x2, заповніть їх випадковими цілими числами в діапазоні від 1 до 10 та знайдіть їх добуток.\"\n",
    "matrix_1 = np.array(np.random.randint(1, 11, size=(2, 2)))\n",
    "matrix_2 = np.array(np.random.randint(1, 11, size=(2, 2)))\n",
    "print(\"Матриця 1:\")\n",
    "print(matrix_1)\n",
    "print(\"Матриця 2:\")\n",
    "print(matrix_2)\n",
    "result = np.dot(matrix_1, matrix_2)\n",
    "print(\"Результат:\")\n",
    "print(result)"
   ],
   "outputs": [
    {
     "name": "stdout",
     "output_type": "stream",
     "text": [
      "Матриця 1:\n",
      "[[8 9]\n",
      " [9 7]]\n",
      "Матриця 2:\n",
      "[[2 4]\n",
      " [9 8]]\n",
      "Результат:\n",
      "[[ 97 104]\n",
      " [ 81  92]]\n"
     ]
    }
   ],
   "execution_count": 13
  },
  {
   "cell_type": "code",
   "id": "cb836366680c0c14",
   "metadata": {
    "ExecuteTime": {
     "end_time": "2024-05-26T09:39:00.369395Z",
     "start_time": "2024-05-26T09:39:00.364702Z"
    }
   },
   "source": [
    "\"Створіть матрицю розміром 5x5, заповніть її випадковими цілими числами в діапазоні від 1 до 100 та знайдіть суму елементів матриці.\"\n",
    "matrix = np.random.randint(1, 100, size=(5, 5))\n",
    "matrix_sum = np.sum(matrix)\n",
    "print(\"Матриця:\")\n",
    "print(matrix)\n",
    "print(\"Сума елементів матриці:\")\n",
    "print(matrix_sum)"
   ],
   "outputs": [
    {
     "name": "stdout",
     "output_type": "stream",
     "text": [
      "Матриця:\n",
      "[[15 92 27 29 12]\n",
      " [87 28 88 54 70]\n",
      " [66 20 30 18 76]\n",
      " [28 89 66  4  6]\n",
      " [23 13 42 48 51]]\n",
      "Сума елементів матриці:\n",
      "1082\n"
     ]
    }
   ],
   "execution_count": 14
  },
  {
   "cell_type": "code",
   "id": "65e1c1e3e0468ecf",
   "metadata": {
    "ExecuteTime": {
     "end_time": "2024-05-26T09:39:00.375816Z",
     "start_time": "2024-05-26T09:39:00.370402Z"
    }
   },
   "source": [
    "\"Створіть дві матриці розміром 4x4, заповніть їх випадковими цілими числами в діапазоні від 1 до 10 та знайдіть їхню різницю.\"\n",
    "matrix_1 = np.array(np.random.randint(1, 10, size=(4, 4)))\n",
    "matrix_2 = np.array(np.random.randint(1, 10, size=(4, 4)))\n",
    "print(\"Матриця 1:\")\n",
    "print(matrix_1)\n",
    "print(\"Матриця 2:\")\n",
    "print(matrix_2)\n",
    "result = (matrix_1 - matrix_2)\n",
    "print(\"Результат:\")\n",
    "print(result)"
   ],
   "outputs": [
    {
     "name": "stdout",
     "output_type": "stream",
     "text": [
      "Матриця 1:\n",
      "[[1 7 6 5]\n",
      " [7 9 8 9]\n",
      " [5 7 3 8]\n",
      " [6 5 2 9]]\n",
      "Матриця 2:\n",
      "[[1 7 8 4]\n",
      " [2 2 3 5]\n",
      " [9 7 2 7]\n",
      " [4 5 5 2]]\n",
      "Результат:\n",
      "[[ 0  0 -2  1]\n",
      " [ 5  7  5  4]\n",
      " [-4  0  1  1]\n",
      " [ 2  0 -3  7]]\n"
     ]
    }
   ],
   "execution_count": 15
  },
  {
   "cell_type": "code",
   "id": "7e338219e9cf60e2",
   "metadata": {
    "ExecuteTime": {
     "end_time": "2024-05-26T09:39:00.382140Z",
     "start_time": "2024-05-26T09:39:00.377076Z"
    }
   },
   "source": [
    "\"Створіть матрицю розміром 3x3, заповніть її випадковими дійсними числами в діапазоні від 0 до 1 та знайдіть вектор-стовпчик, що містить суму елементів кожного рядка матриці.\"\n",
    "matrix = np.array(np.random.randint(0, 2, size=(3, 3)))\n",
    "vector = np.array([matrix[0].sum(), matrix[1].sum(), matrix[2].sum()]).reshape(-1, 1)\n",
    "print(\"Вектор:\")\n",
    "print(vector)"
   ],
   "outputs": [
    {
     "name": "stdout",
     "output_type": "stream",
     "text": [
      "Вектор:\n",
      "[[2]\n",
      " [2]\n",
      " [2]]\n"
     ]
    }
   ],
   "execution_count": 16
  },
  {
   "cell_type": "code",
   "id": "c7995a930edb667d",
   "metadata": {
    "ExecuteTime": {
     "end_time": "2024-05-26T09:39:00.391200Z",
     "start_time": "2024-05-26T09:39:00.383150Z"
    }
   },
   "source": [
    "\"Створіть матрицю розміром 3x4 з довільними цілими числами і створінь матрицю з квадратами цих чисел.\"\n",
    "matrix = np.random.randint(0, 10, size=(3, 4))\n",
    "squared_matrix = np.square(matrix)\n",
    "\n",
    "print(\"Вихідна матриця:\")\n",
    "print(matrix)\n",
    "\n",
    "print(\"Матриця з квадратами чисел:\")\n",
    "print(squared_matrix)"
   ],
   "outputs": [
    {
     "name": "stdout",
     "output_type": "stream",
     "text": [
      "Вихідна матриця:\n",
      "[[8 8 0 5]\n",
      " [6 5 2 4]\n",
      " [4 6 2 3]]\n",
      "Матриця з квадратами чисел:\n",
      "[[64 64  0 25]\n",
      " [36 25  4 16]\n",
      " [16 36  4  9]]\n"
     ]
    }
   ],
   "execution_count": 17
  },
  {
   "cell_type": "code",
   "id": "d58affff26701238",
   "metadata": {
    "ExecuteTime": {
     "end_time": "2024-05-26T09:39:00.402231Z",
     "start_time": "2024-05-26T09:39:00.392212Z"
    }
   },
   "source": [
    "\"Створіть вектор розміром 4, заповніть його випадковими цілими числами в діапазоні від 1 до 50 та знайдіть вектор з квадратними коренями цих чисел.\"\n",
    "vector = np.array([np.random.randint(1, 50+1) for i in range (4)])\n",
    "squared_vector = np.square(vector)\n",
    "print(\"Вектор:\")\n",
    "print(vector)\n",
    "print(\"Вектор з квадратами чисел:\")\n",
    "print(squared_vector)"
   ],
   "outputs": [
    {
     "name": "stdout",
     "output_type": "stream",
     "text": [
      "Вектор:\n",
      "[11  9 49 17]\n",
      "Вектор з квадратами чисел:\n",
      "[ 121   81 2401  289]\n"
     ]
    }
   ],
   "execution_count": 18
  }
 ],
 "metadata": {
  "kernelspec": {
   "display_name": "Python 3 (ipykernel)",
   "language": "python",
   "name": "python3"
  },
  "language_info": {
   "codemirror_mode": {
    "name": "ipython",
    "version": 3
   },
   "file_extension": ".py",
   "mimetype": "text/x-python",
   "name": "python",
   "nbconvert_exporter": "python",
   "pygments_lexer": "ipython3",
   "version": "3.11.9"
  }
 },
 "nbformat": 4,
 "nbformat_minor": 5
}
