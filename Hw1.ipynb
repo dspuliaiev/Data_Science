{
 "cells": [
  {
   "cell_type": "code",
   "id": "initial_id",
   "metadata": {
    "collapsed": true,
    "ExecuteTime": {
     "end_time": "2024-05-20T11:04:16.926927Z",
     "start_time": "2024-05-20T11:04:16.922695Z"
    }
   },
   "source": [
    "import random\n",
    "import numpy as np\n",
    "\n",
    "\"Створіть одновимірний масив (вектор) з першими 10-ма натуральними числами та виведіть його значення.\"\n",
    "vector = np.arange(1, 11)\n",
    "print(vector)"
   ],
   "outputs": [
    {
     "name": "stdout",
     "output_type": "stream",
     "text": [
      "[ 1  2  3  4  5  6  7  8  9 10]\n"
     ]
    }
   ],
   "execution_count": 6
  },
  {
   "metadata": {
    "ExecuteTime": {
     "end_time": "2024-05-20T10:57:13.828833Z",
     "start_time": "2024-05-20T10:57:13.822443Z"
    }
   },
   "cell_type": "code",
   "source": [
    "\"Створіть двовимірний масив (матрицю) розміром 3x3, заповніть його нулями та виведіть його значення.\"\n",
    "matrix = np.zeros((3, 3))\n",
    "print(matrix)"
   ],
   "id": "109296e9c209ac2c",
   "outputs": [
    {
     "name": "stdout",
     "output_type": "stream",
     "text": [
      "[[0. 0. 0.]\n",
      " [0. 0. 0.]\n",
      " [0. 0. 0.]]\n"
     ]
    }
   ],
   "execution_count": 4
  },
  {
   "metadata": {
    "ExecuteTime": {
     "end_time": "2024-05-20T11:06:48.432431Z",
     "start_time": "2024-05-20T11:06:48.427250Z"
    }
   },
   "cell_type": "code",
   "source": [
    "\"Створіть масив розміром 5x5, заповніть його випадковими цілими числами в діапазоні від 1 до 10 та виведіть його значення.\"\n",
    "matrix = np.random.randint(11, size=(5, 5))\n",
    "print(matrix)"
   ],
   "id": "63d16e822d29ec52",
   "outputs": [
    {
     "name": "stdout",
     "output_type": "stream",
     "text": [
      "[[10  0  5  7  5]\n",
      " [ 7  5  9  7  6]\n",
      " [ 4  8  3  4  1]\n",
      " [ 4  6  9 10  6]\n",
      " [ 5  3  1  6 10]]\n"
     ]
    }
   ],
   "execution_count": 8
  },
  {
   "metadata": {
    "ExecuteTime": {
     "end_time": "2024-05-20T11:41:26.409332Z",
     "start_time": "2024-05-20T11:41:26.405495Z"
    }
   },
   "cell_type": "code",
   "source": [
    "\"Створіть масив розміром 4x4, заповніть його випадковими дійсними числами в діапазоні від 0 до 1 та виведіть його значення.\"\n",
    "matrix = np.random.randint(2, size=(4, 4))\n",
    "print(matrix)"
   ],
   "id": "6d9a320e4be07581",
   "outputs": [
    {
     "name": "stdout",
     "output_type": "stream",
     "text": [
      "[[0 0 0 0]\n",
      " [1 1 1 0]\n",
      " [1 1 1 1]\n",
      " [0 1 1 1]]\n"
     ]
    }
   ],
   "execution_count": 10
  },
  {
   "metadata": {
    "ExecuteTime": {
     "end_time": "2024-05-20T11:49:09.730405Z",
     "start_time": "2024-05-20T11:49:09.724589Z"
    }
   },
   "cell_type": "code",
   "source": [
    "\"Створіть два одновимірних масиви розміром 5, заповніть їх випадковими цілими числами в діапазоні від 1 до 10 та виконайте на них поелементні операції додавання, віднімання та множення.\"\n",
    "a = np.array([np.random.randint(1, 11) for i in range(5)])\n",
    "b = np.array([np.random.randint(1, 11) for i in range(5)])\n",
    "\n",
    "print(a + b)\n",
    "print(a - b)\n",
    "print(a * b)"
   ],
   "id": "498c1a6e781e009a",
   "outputs": [
    {
     "name": "stdout",
     "output_type": "stream",
     "text": [
      "[ 6  5 11 13 11]\n",
      "[-4  1  7 -7  7]\n",
      "[ 5  6 18 30 18]\n"
     ]
    }
   ],
   "execution_count": 20
  },
  {
   "metadata": {
    "ExecuteTime": {
     "end_time": "2024-05-20T11:55:54.648799Z",
     "start_time": "2024-05-20T11:55:54.643819Z"
    }
   },
   "cell_type": "code",
   "source": [
    "\"Створіть два вектори розміром 7, заповніть довільними числами та знайдіть їх скалярний добуток.\"\n",
    "a = np.array([np.random.randint(1, 11) for i in range(7)])\n",
    "b = np.array([np.random.randint(1, 11) for i in range(7)])\n",
    "\n",
    "print(np.dot(a, b))\n"
   ],
   "id": "5465bacec0bccc0c",
   "outputs": [
    {
     "name": "stdout",
     "output_type": "stream",
     "text": [
      "241\n"
     ]
    }
   ],
   "execution_count": 29
  },
  {
   "metadata": {
    "ExecuteTime": {
     "end_time": "2024-05-20T11:55:45.753795Z",
     "start_time": "2024-05-20T11:55:45.749489Z"
    }
   },
   "cell_type": "code",
   "source": [
    "\"Створіть дві матриці розміром 2x2 та 2x3, заповніть їх випадковими цілими числами в діапазоні від 1 до 10 та перемножте їх між собою.\"\n",
    "a = np.random.randint(11, size=(2,2))\n",
    "b = np.random.randint(11, size=(2,3))\n",
    "result = np.dot(a, b)\n",
    "print(result)\n"
   ],
   "id": "ef52dff4cdcdb150",
   "outputs": [
    {
     "name": "stdout",
     "output_type": "stream",
     "text": [
      "[[37 42 16]\n",
      " [64 66 28]]\n"
     ]
    }
   ],
   "execution_count": 27
  },
  {
   "metadata": {
    "ExecuteTime": {
     "end_time": "2024-05-20T12:02:04.897874Z",
     "start_time": "2024-05-20T12:02:04.893625Z"
    }
   },
   "cell_type": "code",
   "source": [
    "\"Створіть матрицю розміром 3x3, заповніть її випадковими цілими числами в діапазоні від 1 до 10 та знайдіть її обернену матрицю.\"\n",
    "matrix = np.random.randint(1, 11, size=(3, 3))\n",
    "inverse_matrix = np.linalg.inv(matrix)\n",
    "print(matrix)\n",
    "print(inverse_matrix)"
   ],
   "id": "153edcdb9c2e7ad3",
   "outputs": [
    {
     "name": "stdout",
     "output_type": "stream",
     "text": [
      "[[ 4  6  9]\n",
      " [ 4 10  7]\n",
      " [ 9  1  1]]\n",
      "[[-0.00735294 -0.00735294  0.11764706]\n",
      " [-0.14460784  0.18872549 -0.01960784]\n",
      " [ 0.21078431 -0.12254902 -0.03921569]]\n"
     ]
    }
   ],
   "execution_count": 35
  },
  {
   "metadata": {
    "ExecuteTime": {
     "end_time": "2024-05-20T12:07:40.354787Z",
     "start_time": "2024-05-20T12:07:40.349468Z"
    }
   },
   "cell_type": "code",
   "source": [
    "\"Створіть матрицю розміром 4x4, заповніть її випадковими дійсними числами в діапазоні від 0 до 1 та транспонуйте її.\"\n",
    "matrix = np.random.rand(4, 4)\n",
    "transposed_matrix = np.transpose(matrix)\n",
    "print(\"Оригінальна матриця (4x4):\")\n",
    "print(matrix)\n",
    "print(\"Транспонована матриця (4x4):\")\n",
    "print(transposed_matrix)"
   ],
   "id": "633be00e4f417a6f",
   "outputs": [
    {
     "name": "stdout",
     "output_type": "stream",
     "text": [
      "Оригінальна матриця (4x4):\n",
      "[[0.21701832 0.79897095 0.13215178 0.86856171]\n",
      " [0.66731211 0.57509169 0.72137473 0.68059875]\n",
      " [0.95018574 0.31392386 0.71073567 0.65327102]\n",
      " [0.9129699  0.87600303 0.88933237 0.19264938]]\n",
      "Транспонована матриця (4x4):\n",
      "[[0.21701832 0.66731211 0.95018574 0.9129699 ]\n",
      " [0.79897095 0.57509169 0.31392386 0.87600303]\n",
      " [0.13215178 0.72137473 0.71073567 0.88933237]\n",
      " [0.86856171 0.68059875 0.65327102 0.19264938]]\n"
     ]
    }
   ],
   "execution_count": 42
  },
  {
   "metadata": {
    "ExecuteTime": {
     "end_time": "2024-05-20T13:00:37.544560Z",
     "start_time": "2024-05-20T13:00:37.540158Z"
    }
   },
   "cell_type": "code",
   "source": [
    "\"Створіть матрицю розміром 3x4 та вектор розміром 4, заповніть їх випадковими цілими числами в діапазоні від 1 до 10 та перемножте матрицю на вектор.\"\n",
    "vector = np.array([np.random.randint(1, 11) for i in range(4)])\n",
    "matrix = np.array(np.random.randint(1, 11, size=(3, 4)))\n",
    "print(\"Вектор:\")\n",
    "print(vector)\n",
    "print(\"Матриця:\")\n",
    "print(matrix)"
   ],
   "id": "8070854d667f20db",
   "outputs": [
    {
     "name": "stdout",
     "output_type": "stream",
     "text": [
      "Вектор:\n",
      "[9 8 4 5]\n",
      "Матриця:\n",
      "[[ 6  9 10  6]\n",
      " [ 1  7  3  6]\n",
      " [ 2  7  1  3]]\n"
     ]
    }
   ],
   "execution_count": 56
  },
  {
   "metadata": {
    "ExecuteTime": {
     "end_time": "2024-05-20T12:59:58.865471Z",
     "start_time": "2024-05-20T12:59:58.860377Z"
    }
   },
   "cell_type": "code",
   "source": [
    "\"Створіть матрицю розміром 2x3 та вектор розміром 3, заповніть їх випадковими дійсними числами в діапазоні від 0 до 1 та перемножте матрицю на вектор\"\n",
    "vector = np.array([np.random.randint(0, 2) for i in range (3)])\n",
    "matrix = np.array(np.random.randint(0, 2, size=(2, 3)))\n",
    "print(\"Вектор:\")\n",
    "print(vector)\n",
    "print(\"Матриця:\")\n",
    "print(matrix)\n",
    "result = (matrix * vector)\n",
    "print(\"Результат:\")\n",
    "print(result)   "
   ],
   "id": "5c212548053cd8ff",
   "outputs": [
    {
     "name": "stdout",
     "output_type": "stream",
     "text": [
      "Вектор:\n",
      "[1 1 0]\n",
      "Матриця:\n",
      "[[0 0 0]\n",
      " [1 1 1]]\n",
      "Результат:\n",
      "[[0 0 0]\n",
      " [1 1 0]]\n"
     ]
    }
   ],
   "execution_count": 55
  },
  {
   "metadata": {
    "ExecuteTime": {
     "end_time": "2024-05-20T13:03:39.334880Z",
     "start_time": "2024-05-20T13:03:39.329211Z"
    }
   },
   "cell_type": "code",
   "source": [
    "\"Створіть дві матриці розміром 2x2, заповніть їх випадковими цілими числами в діапазоні від 1 до 10 та виконайте їхнє поелементне множення.\"\n",
    "matrix_1 = np.array(np.random.randint(1, 11, size=(2, 2)))\n",
    "matrix_2 = np.array(np.random.randint(1, 11, size=(2, 2)))\n",
    "print(\"Матриця 1:\")\n",
    "print(matrix_1)\n",
    "print(\"Матриця 2:\")\n",
    "print(matrix_2)\n",
    "result = (matrix_1 * matrix_2)\n",
    "print(\"Результат:\")\n",
    "print(result)"
   ],
   "id": "999ed71546b54dbd",
   "outputs": [
    {
     "name": "stdout",
     "output_type": "stream",
     "text": [
      "Матриця 1:\n",
      "[[5 3]\n",
      " [9 9]]\n",
      "Матриця 2:\n",
      "[[3 3]\n",
      " [8 1]]\n",
      "Результат:\n",
      "[[15  9]\n",
      " [72  9]]\n"
     ]
    }
   ],
   "execution_count": 58
  },
  {
   "metadata": {
    "ExecuteTime": {
     "end_time": "2024-05-20T13:10:36.600493Z",
     "start_time": "2024-05-20T13:10:36.594568Z"
    }
   },
   "cell_type": "code",
   "source": [
    "\"Створіть дві матриці розміром 2x2, заповніть їх випадковими цілими числами в діапазоні від 1 до 10 та знайдіть їх добуток.\"\n",
    "matrix_1 = np.array(np.random.randint(1, 11, size=(2, 2)))\n",
    "matrix_2 = np.array(np.random.randint(1, 11, size=(2, 2)))\n",
    "print(\"Матриця 1:\")\n",
    "print(matrix_1)\n",
    "print(\"Матриця 2:\")\n",
    "print(matrix_2)\n",
    "result = np.dot(matrix_1, matrix_2)\n",
    "print(\"Результат:\")\n",
    "print(result)"
   ],
   "id": "1cd6187268bcb802",
   "outputs": [
    {
     "name": "stdout",
     "output_type": "stream",
     "text": [
      "Матриця 1:\n",
      "[[8 7]\n",
      " [3 1]]\n",
      "Матриця 2:\n",
      "[[ 6 10]\n",
      " [ 5  4]]\n",
      "Результат:\n",
      "[[ 83 108]\n",
      " [ 23  34]]\n"
     ]
    }
   ],
   "execution_count": 59
  },
  {
   "metadata": {
    "ExecuteTime": {
     "end_time": "2024-05-20T13:21:18.654550Z",
     "start_time": "2024-05-20T13:21:18.649744Z"
    }
   },
   "cell_type": "code",
   "source": [
    "\"Створіть матрицю розміром 5x5, заповніть її випадковими цілими числами в діапазоні від 1 до 100 та знайдіть суму елементів матриці.\"\n",
    "matrix = np.random.randint(1, 100, size=(5, 5))\n",
    "matrix_sum = np.sum(matrix)\n",
    "print(\"Матриця:\")\n",
    "print(matrix)\n",
    "print(\"Сума елементів матриці:\")\n",
    "print(matrix_sum)"
   ],
   "id": "cb836366680c0c14",
   "outputs": [
    {
     "name": "stdout",
     "output_type": "stream",
     "text": [
      "Матриця:\n",
      "[[24 22 14 66 98]\n",
      " [39  8 77 70 35]\n",
      " [73 79 17 81 30]\n",
      " [56 78 42 71 13]\n",
      " [53 12 71 83  4]]\n",
      "Сума елементів матриці:\n",
      "1216\n"
     ]
    }
   ],
   "execution_count": 60
  },
  {
   "metadata": {
    "ExecuteTime": {
     "end_time": "2024-05-20T13:30:52.572307Z",
     "start_time": "2024-05-20T13:30:52.566395Z"
    }
   },
   "cell_type": "code",
   "source": [
    "\"Створіть дві матриці розміром 4x4, заповніть їх випадковими цілими числами в діапазоні від 1 до 10 та знайдіть їхню різницю.\"\n",
    "matrix_1 = np.array(np.random.randint(1, 10, size=(4, 4)))\n",
    "matrix_2 = np.array(np.random.randint(1, 10, size=(4, 4)))\n",
    "print(\"Матриця 1:\")\n",
    "print(matrix_1)\n",
    "print(\"Матриця 2:\")\n",
    "print(matrix_2)\n",
    "result = (matrix_1 - matrix_2)\n",
    "print(\"Результат:\")\n",
    "print(result)"
   ],
   "id": "65e1c1e3e0468ecf",
   "outputs": [
    {
     "name": "stdout",
     "output_type": "stream",
     "text": [
      "Матриця 1:\n",
      "[[3 2 9 4]\n",
      " [5 1 8 6]\n",
      " [6 6 7 7]\n",
      " [2 7 5 4]]\n",
      "Матриця 2:\n",
      "[[8 7 8 6]\n",
      " [6 1 2 8]\n",
      " [1 1 2 5]\n",
      " [6 7 8 4]]\n",
      "Результат:\n",
      "[[-5 -5  1 -2]\n",
      " [-1  0  6 -2]\n",
      " [ 5  5  5  2]\n",
      " [-4  0 -3  0]]\n"
     ]
    }
   ],
   "execution_count": 63
  },
  {
   "metadata": {
    "ExecuteTime": {
     "end_time": "2024-05-20T13:44:52.261950Z",
     "start_time": "2024-05-20T13:44:52.257139Z"
    }
   },
   "cell_type": "code",
   "source": [
    "\"Створіть матрицю розміром 3x3, заповніть її випадковими дійсними числами в діапазоні від 0 до 1 та знайдіть вектор-стовпчик, що містить суму елементів кожного рядка матриці.\"\n",
    "matrix = np.array(np.random.randint(0, 2, size=(3, 3)))\n",
    "vector = np.array([matrix[0].sum(), matrix[1].sum(), matrix[2].sum()]).reshape(-1, 1)\n",
    "print(\"Вектор:\")\n",
    "print(vector)"
   ],
   "id": "7e338219e9cf60e2",
   "outputs": [
    {
     "name": "stdout",
     "output_type": "stream",
     "text": [
      "Вектор:\n",
      "[[0]\n",
      " [1]\n",
      " [2]]\n"
     ]
    }
   ],
   "execution_count": 66
  },
  {
   "metadata": {
    "ExecuteTime": {
     "end_time": "2024-05-20T13:51:22.740317Z",
     "start_time": "2024-05-20T13:51:22.733362Z"
    }
   },
   "cell_type": "code",
   "source": [
    "\"Створіть матрицю розміром 3x4 з довільними цілими числами і створінь матрицю з квадратами цих чисел.\"\n",
    "matrix = np.random.randint(0, 10, size=(3, 4))\n",
    "squared_matrix = np.square(matrix)\n",
    "\n",
    "print(\"Вихідна матриця:\")\n",
    "print(matrix)\n",
    "\n",
    "print(\"Матриця з квадратами чисел:\")\n",
    "print(squared_matrix)"
   ],
   "id": "c7995a930edb667d",
   "outputs": [
    {
     "name": "stdout",
     "output_type": "stream",
     "text": [
      "Вихідна матриця:\n",
      "[[5 4 4 2]\n",
      " [1 6 4 5]\n",
      " [1 9 9 8]]\n",
      "Матриця з квадратами чисел:\n",
      "[[25 16 16  4]\n",
      " [ 1 36 16 25]\n",
      " [ 1 81 81 64]]\n"
     ]
    }
   ],
   "execution_count": 67
  },
  {
   "metadata": {
    "ExecuteTime": {
     "end_time": "2024-05-20T13:55:59.500883Z",
     "start_time": "2024-05-20T13:55:59.495842Z"
    }
   },
   "cell_type": "code",
   "source": [
    "\n",
    "vector = np.array([np.random.randint(1, 50+1) for i in range (4)])\n",
    "squared_vector = np.square(vector)\n",
    "print(\"Вектор:\")\n",
    "print(vector)\n",
    "print(\"Вектор з квадратами чисел:\")\n",
    "print(squared_vector)"
   ],
   "id": "d58affff26701238",
   "outputs": [
    {
     "name": "stdout",
     "output_type": "stream",
     "text": [
      "Вектор:\n",
      "[ 9 13 27 21]\n",
      "Вектор з квадратами чисел:\n",
      "[ 81 169 729 441]\n"
     ]
    }
   ],
   "execution_count": 70
  }
 ],
 "metadata": {
  "kernelspec": {
   "display_name": "Python 3",
   "language": "python",
   "name": "python3"
  },
  "language_info": {
   "codemirror_mode": {
    "name": "ipython",
    "version": 2
   },
   "file_extension": ".py",
   "mimetype": "text/x-python",
   "name": "python",
   "nbconvert_exporter": "python",
   "pygments_lexer": "ipython2",
   "version": "2.7.6"
  }
 },
 "nbformat": 4,
 "nbformat_minor": 5
}
