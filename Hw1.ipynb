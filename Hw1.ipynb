{
 "cells": [
  {
   "cell_type": "code",
   "execution_count": 6,
   "id": "initial_id",
   "metadata": {
    "ExecuteTime": {
     "end_time": "2024-05-20T11:04:16.926927Z",
     "start_time": "2024-05-20T11:04:16.922695Z"
    },
    "collapsed": true,
    "jupyter": {
     "outputs_hidden": true
    }
   },
   "outputs": [
    {
     "name": "stdout",
     "output_type": "stream",
     "text": [
      "[ 1  2  3  4  5  6  7  8  9 10]\n"
     ]
    }
   ],
   "source": [
    "import random\n",
    "import numpy as np\n",
    "\n",
    "\"Створіть одновимірний масив (вектор) з першими 10-ма натуральними числами та виведіть його значення.\"\n",
    "vector = np.arange(1, 11)\n",
    "print(vector)"
   ]
  },
  {
   "cell_type": "code",
   "execution_count": 4,
   "id": "109296e9c209ac2c",
   "metadata": {
    "ExecuteTime": {
     "end_time": "2024-05-20T10:57:13.828833Z",
     "start_time": "2024-05-20T10:57:13.822443Z"
    }
   },
   "outputs": [
    {
     "name": "stdout",
     "output_type": "stream",
     "text": [
      "[[0. 0. 0.]\n",
      " [0. 0. 0.]\n",
      " [0. 0. 0.]]\n"
     ]
    }
   ],
   "source": [
    "\"Створіть двовимірний масив (матрицю) розміром 3x3, заповніть його нулями та виведіть його значення.\"\n",
    "matrix = np.zeros((3, 3))\n",
    "print(matrix)"
   ]
  },
  {
   "cell_type": "code",
   "execution_count": 8,
   "id": "63d16e822d29ec52",
   "metadata": {
    "ExecuteTime": {
     "end_time": "2024-05-20T11:06:48.432431Z",
     "start_time": "2024-05-20T11:06:48.427250Z"
    }
   },
   "outputs": [
    {
     "name": "stdout",
     "output_type": "stream",
     "text": [
      "[[10  0  5  7  5]\n",
      " [ 7  5  9  7  6]\n",
      " [ 4  8  3  4  1]\n",
      " [ 4  6  9 10  6]\n",
      " [ 5  3  1  6 10]]\n"
     ]
    }
   ],
   "source": [
    "\"Створіть масив розміром 5x5, заповніть його випадковими цілими числами в діапазоні від 1 до 10 та виведіть його значення.\"\n",
    "matrix = np.random.randint(11, size=(5, 5))\n",
    "print(matrix)"
   ]
  },
  {
   "cell_type": "code",
   "execution_count": 10,
   "id": "6d9a320e4be07581",
   "metadata": {
    "ExecuteTime": {
     "end_time": "2024-05-20T11:41:26.409332Z",
     "start_time": "2024-05-20T11:41:26.405495Z"
    }
   },
   "outputs": [
    {
     "name": "stdout",
     "output_type": "stream",
     "text": [
      "[[0 0 0 0]\n",
      " [1 1 1 0]\n",
      " [1 1 1 1]\n",
      " [0 1 1 1]]\n"
     ]
    }
   ],
   "source": [
    "\"Створіть масив розміром 4x4, заповніть його випадковими дійсними числами в діапазоні від 0 до 1 та виведіть його значення.\"\n",
    "matrix = np.random.randint(2, size=(4, 4))\n",
    "print(matrix)"
   ]
  },
  {
   "cell_type": "code",
   "execution_count": 20,
   "id": "498c1a6e781e009a",
   "metadata": {
    "ExecuteTime": {
     "end_time": "2024-05-20T11:49:09.730405Z",
     "start_time": "2024-05-20T11:49:09.724589Z"
    }
   },
   "outputs": [
    {
     "name": "stdout",
     "output_type": "stream",
     "text": [
      "[ 6  5 11 13 11]\n",
      "[-4  1  7 -7  7]\n",
      "[ 5  6 18 30 18]\n"
     ]
    }
   ],
   "source": [
    "\"Створіть два одновимірних масиви розміром 5, заповніть їх випадковими цілими числами в діапазоні від 1 до 10 та виконайте на них поелементні операції додавання, віднімання та множення.\"\n",
    "a = np.array([np.random.randint(1, 11) for i in range(5)])\n",
    "b = np.array([np.random.randint(1, 11) for i in range(5)])\n",
    "\n",
    "print(a + b)\n",
    "print(a - b)\n",
    "print(a * b)"
   ]
  },
  {
   "cell_type": "code",
   "execution_count": 29,
   "id": "5465bacec0bccc0c",
   "metadata": {
    "ExecuteTime": {
     "end_time": "2024-05-20T11:55:54.648799Z",
     "start_time": "2024-05-20T11:55:54.643819Z"
    }
   },
   "outputs": [
    {
     "name": "stdout",
     "output_type": "stream",
     "text": [
      "241\n"
     ]
    }
   ],
   "source": [
    "\"Створіть два вектори розміром 7, заповніть довільними числами та знайдіть їх скалярний добуток.\"\n",
    "a = np.array([np.random.randint(1, 11) for i in range(7)])\n",
    "b = np.array([np.random.randint(1, 11) for i in range(7)])\n",
    "\n",
    "print(np.dot(a, b))\n"
   ]
  },
  {
   "cell_type": "code",
   "execution_count": 27,
   "id": "ef52dff4cdcdb150",
   "metadata": {
    "ExecuteTime": {
     "end_time": "2024-05-20T11:55:45.753795Z",
     "start_time": "2024-05-20T11:55:45.749489Z"
    }
   },
   "outputs": [
    {
     "name": "stdout",
     "output_type": "stream",
     "text": [
      "[[37 42 16]\n",
      " [64 66 28]]\n"
     ]
    }
   ],
   "source": [
    "\"Створіть дві матриці розміром 2x2 та 2x3, заповніть їх випадковими цілими числами в діапазоні від 1 до 10 та перемножте їх між собою.\"\n",
    "a = np.random.randint(11, size=(2,2))\n",
    "b = np.random.randint(11, size=(2,3))\n",
    "result = np.dot(a, b)\n",
    "print(result)\n"
   ]
  },
  {
   "cell_type": "code",
   "execution_count": 35,
   "id": "153edcdb9c2e7ad3",
   "metadata": {
    "ExecuteTime": {
     "end_time": "2024-05-20T12:02:04.897874Z",
     "start_time": "2024-05-20T12:02:04.893625Z"
    }
   },
   "outputs": [
    {
     "name": "stdout",
     "output_type": "stream",
     "text": [
      "[[ 4  6  9]\n",
      " [ 4 10  7]\n",
      " [ 9  1  1]]\n",
      "[[-0.00735294 -0.00735294  0.11764706]\n",
      " [-0.14460784  0.18872549 -0.01960784]\n",
      " [ 0.21078431 -0.12254902 -0.03921569]]\n"
     ]
    }
   ],
   "source": [
    "\"Створіть матрицю розміром 3x3, заповніть її випадковими цілими числами в діапазоні від 1 до 10 та знайдіть її обернену матрицю.\"\n",
    "matrix = np.random.randint(1, 11, size=(3, 3))\n",
    "inverse_matrix = np.linalg.inv(matrix)\n",
    "print(matrix)\n",
    "print(inverse_matrix)"
   ]
  },
  {
   "cell_type": "code",
   "execution_count": 42,
   "id": "633be00e4f417a6f",
   "metadata": {
    "ExecuteTime": {
     "end_time": "2024-05-20T12:07:40.354787Z",
     "start_time": "2024-05-20T12:07:40.349468Z"
    }
   },
   "outputs": [
    {
     "name": "stdout",
     "output_type": "stream",
     "text": [
      "Оригінальна матриця (4x4):\n",
      "[[0.21701832 0.79897095 0.13215178 0.86856171]\n",
      " [0.66731211 0.57509169 0.72137473 0.68059875]\n",
      " [0.95018574 0.31392386 0.71073567 0.65327102]\n",
      " [0.9129699  0.87600303 0.88933237 0.19264938]]\n",
      "Транспонована матриця (4x4):\n",
      "[[0.21701832 0.66731211 0.95018574 0.9129699 ]\n",
      " [0.79897095 0.57509169 0.31392386 0.87600303]\n",
      " [0.13215178 0.72137473 0.71073567 0.88933237]\n",
      " [0.86856171 0.68059875 0.65327102 0.19264938]]\n"
     ]
    }
   ],
   "source": [
    "\"Створіть матрицю розміром 4x4, заповніть її випадковими дійсними числами в діапазоні від 0 до 1 та транспонуйте її.\"\n",
    "matrix = np.random.rand(4, 4)\n",
    "transposed_matrix = np.transpose(matrix)\n",
    "print(\"Оригінальна матриця (4x4):\")\n",
    "print(matrix)\n",
    "print(\"Транспонована матриця (4x4):\")\n",
    "print(transposed_matrix)"
   ]
  },
  {
   "cell_type": "code",
   "execution_count": 56,
   "id": "8070854d667f20db",
   "metadata": {
    "ExecuteTime": {
     "end_time": "2024-05-20T13:00:37.544560Z",
     "start_time": "2024-05-20T13:00:37.540158Z"
    }
   },
   "outputs": [
    {
     "name": "stdout",
     "output_type": "stream",
     "text": [
      "Вектор:\n",
      "[9 8 4 5]\n",
      "Матриця:\n",
      "[[ 6  9 10  6]\n",
      " [ 1  7  3  6]\n",
      " [ 2  7  1  3]]\n"
     ]
    }
   ],
   "source": [
    "\"Створіть матрицю розміром 3x4 та вектор розміром 4, заповніть їх випадковими цілими числами в діапазоні від 1 до 10 та перемножте матрицю на вектор.\"\n",
    "vector = np.array([np.random.randint(1, 11) for i in range(4)])\n",
    "matrix = np.array(np.random.randint(1, 11, size=(3, 4)))\n",
    "print(\"Вектор:\")\n",
    "print(vector)\n",
    "print(\"Матриця:\")\n",
    "print(matrix)"
   ]
  },
  {
   "cell_type": "code",
   "execution_count": 55,
   "id": "5c212548053cd8ff",
   "metadata": {
    "ExecuteTime": {
     "end_time": "2024-05-20T12:59:58.865471Z",
     "start_time": "2024-05-20T12:59:58.860377Z"
    }
   },
   "outputs": [
    {
     "name": "stdout",
     "output_type": "stream",
     "text": [
      "Вектор:\n",
      "[1 1 0]\n",
      "Матриця:\n",
      "[[0 0 0]\n",
      " [1 1 1]]\n",
      "Результат:\n",
      "[[0 0 0]\n",
      " [1 1 0]]\n"
     ]
    }
   ],
   "source": [
    "\"Створіть матрицю розміром 2x3 та вектор розміром 3, заповніть їх випадковими дійсними числами в діапазоні від 0 до 1 та перемножте матрицю на вектор\"\n",
    "vector = np.array([np.random.randint(0, 2) for i in range (3)])\n",
    "matrix = np.array(np.random.randint(0, 2, size=(2, 3)))\n",
    "print(\"Вектор:\")\n",
    "print(vector)\n",
    "print(\"Матриця:\")\n",
    "print(matrix)\n",
    "result = (matrix * vector)\n",
    "print(\"Результат:\")\n",
    "print(result)   "
   ]
  },
  {
   "cell_type": "code",
   "execution_count": 58,
   "id": "999ed71546b54dbd",
   "metadata": {
    "ExecuteTime": {
     "end_time": "2024-05-20T13:03:39.334880Z",
     "start_time": "2024-05-20T13:03:39.329211Z"
    }
   },
   "outputs": [
    {
     "name": "stdout",
     "output_type": "stream",
     "text": [
      "Матриця 1:\n",
      "[[5 3]\n",
      " [9 9]]\n",
      "Матриця 2:\n",
      "[[3 3]\n",
      " [8 1]]\n",
      "Результат:\n",
      "[[15  9]\n",
      " [72  9]]\n"
     ]
    }
   ],
   "source": [
    "\"Створіть дві матриці розміром 2x2, заповніть їх випадковими цілими числами в діапазоні від 1 до 10 та виконайте їхнє поелементне множення.\"\n",
    "matrix_1 = np.array(np.random.randint(1, 11, size=(2, 2)))\n",
    "matrix_2 = np.array(np.random.randint(1, 11, size=(2, 2)))\n",
    "print(\"Матриця 1:\")\n",
    "print(matrix_1)\n",
    "print(\"Матриця 2:\")\n",
    "print(matrix_2)\n",
    "result = (matrix_1 * matrix_2)\n",
    "print(\"Результат:\")\n",
    "print(result)"
   ]
  },
  {
   "cell_type": "code",
   "execution_count": 59,
   "id": "1cd6187268bcb802",
   "metadata": {
    "ExecuteTime": {
     "end_time": "2024-05-20T13:10:36.600493Z",
     "start_time": "2024-05-20T13:10:36.594568Z"
    }
   },
   "outputs": [
    {
     "name": "stdout",
     "output_type": "stream",
     "text": [
      "Матриця 1:\n",
      "[[8 7]\n",
      " [3 1]]\n",
      "Матриця 2:\n",
      "[[ 6 10]\n",
      " [ 5  4]]\n",
      "Результат:\n",
      "[[ 83 108]\n",
      " [ 23  34]]\n"
     ]
    }
   ],
   "source": [
    "\"Створіть дві матриці розміром 2x2, заповніть їх випадковими цілими числами в діапазоні від 1 до 10 та знайдіть їх добуток.\"\n",
    "matrix_1 = np.array(np.random.randint(1, 11, size=(2, 2)))\n",
    "matrix_2 = np.array(np.random.randint(1, 11, size=(2, 2)))\n",
    "print(\"Матриця 1:\")\n",
    "print(matrix_1)\n",
    "print(\"Матриця 2:\")\n",
    "print(matrix_2)\n",
    "result = np.dot(matrix_1, matrix_2)\n",
    "print(\"Результат:\")\n",
    "print(result)"
   ]
  },
  {
   "cell_type": "code",
   "execution_count": 60,
   "id": "cb836366680c0c14",
   "metadata": {
    "ExecuteTime": {
     "end_time": "2024-05-20T13:21:18.654550Z",
     "start_time": "2024-05-20T13:21:18.649744Z"
    }
   },
   "outputs": [
    {
     "name": "stdout",
     "output_type": "stream",
     "text": [
      "Матриця:\n",
      "[[24 22 14 66 98]\n",
      " [39  8 77 70 35]\n",
      " [73 79 17 81 30]\n",
      " [56 78 42 71 13]\n",
      " [53 12 71 83  4]]\n",
      "Сума елементів матриці:\n",
      "1216\n"
     ]
    }
   ],
   "source": [
    "\"Створіть матрицю розміром 5x5, заповніть її випадковими цілими числами в діапазоні від 1 до 100 та знайдіть суму елементів матриці.\"\n",
    "matrix = np.random.randint(1, 100, size=(5, 5))\n",
    "matrix_sum = np.sum(matrix)\n",
    "print(\"Матриця:\")\n",
    "print(matrix)\n",
    "print(\"Сума елементів матриці:\")\n",
    "print(matrix_sum)"
   ]
  },
  {
   "cell_type": "code",
   "execution_count": 63,
   "id": "65e1c1e3e0468ecf",
   "metadata": {
    "ExecuteTime": {
     "end_time": "2024-05-20T13:30:52.572307Z",
     "start_time": "2024-05-20T13:30:52.566395Z"
    }
   },
   "outputs": [
    {
     "name": "stdout",
     "output_type": "stream",
     "text": [
      "Матриця 1:\n",
      "[[3 2 9 4]\n",
      " [5 1 8 6]\n",
      " [6 6 7 7]\n",
      " [2 7 5 4]]\n",
      "Матриця 2:\n",
      "[[8 7 8 6]\n",
      " [6 1 2 8]\n",
      " [1 1 2 5]\n",
      " [6 7 8 4]]\n",
      "Результат:\n",
      "[[-5 -5  1 -2]\n",
      " [-1  0  6 -2]\n",
      " [ 5  5  5  2]\n",
      " [-4  0 -3  0]]\n"
     ]
    }
   ],
   "source": [
    "\"Створіть дві матриці розміром 4x4, заповніть їх випадковими цілими числами в діапазоні від 1 до 10 та знайдіть їхню різницю.\"\n",
    "matrix_1 = np.array(np.random.randint(1, 10, size=(4, 4)))\n",
    "matrix_2 = np.array(np.random.randint(1, 10, size=(4, 4)))\n",
    "print(\"Матриця 1:\")\n",
    "print(matrix_1)\n",
    "print(\"Матриця 2:\")\n",
    "print(matrix_2)\n",
    "result = (matrix_1 - matrix_2)\n",
    "print(\"Результат:\")\n",
    "print(result)"
   ]
  },
  {
   "cell_type": "code",
   "execution_count": 66,
   "id": "7e338219e9cf60e2",
   "metadata": {
    "ExecuteTime": {
     "end_time": "2024-05-20T13:44:52.261950Z",
     "start_time": "2024-05-20T13:44:52.257139Z"
    }
   },
   "outputs": [
    {
     "name": "stdout",
     "output_type": "stream",
     "text": [
      "Вектор:\n",
      "[[0]\n",
      " [1]\n",
      " [2]]\n"
     ]
    }
   ],
   "source": [
    "\"Створіть матрицю розміром 3x3, заповніть її випадковими дійсними числами в діапазоні від 0 до 1 та знайдіть вектор-стовпчик, що містить суму елементів кожного рядка матриці.\"\n",
    "matrix = np.array(np.random.randint(0, 2, size=(3, 3)))\n",
    "vector = np.array([matrix[0].sum(), matrix[1].sum(), matrix[2].sum()]).reshape(-1, 1)\n",
    "print(\"Вектор:\")\n",
    "print(vector)"
   ]
  },
  {
   "cell_type": "code",
   "execution_count": 67,
   "id": "c7995a930edb667d",
   "metadata": {
    "ExecuteTime": {
     "end_time": "2024-05-20T13:51:22.740317Z",
     "start_time": "2024-05-20T13:51:22.733362Z"
    }
   },
   "outputs": [
    {
     "name": "stdout",
     "output_type": "stream",
     "text": [
      "Вихідна матриця:\n",
      "[[5 4 4 2]\n",
      " [1 6 4 5]\n",
      " [1 9 9 8]]\n",
      "Матриця з квадратами чисел:\n",
      "[[25 16 16  4]\n",
      " [ 1 36 16 25]\n",
      " [ 1 81 81 64]]\n"
     ]
    }
   ],
   "source": [
    "\"Створіть матрицю розміром 3x4 з довільними цілими числами і створінь матрицю з квадратами цих чисел.\"\n",
    "matrix = np.random.randint(0, 10, size=(3, 4))\n",
    "squared_matrix = np.square(matrix)\n",
    "\n",
    "print(\"Вихідна матриця:\")\n",
    "print(matrix)\n",
    "\n",
    "print(\"Матриця з квадратами чисел:\")\n",
    "print(squared_matrix)"
   ]
  },
  {
   "cell_type": "code",
   "execution_count": 70,
   "id": "d58affff26701238",
   "metadata": {
    "ExecuteTime": {
     "end_time": "2024-05-20T13:55:59.500883Z",
     "start_time": "2024-05-20T13:55:59.495842Z"
    }
   },
   "outputs": [
    {
     "name": "stdout",
     "output_type": "stream",
     "text": [
      "Вектор:\n",
      "[ 9 13 27 21]\n",
      "Вектор з квадратами чисел:\n",
      "[ 81 169 729 441]\n"
     ]
    }
   ],
   "source": [
    "\"Створіть вектор розміром 4, заповніть його випадковими цілими числами в діапазоні від 1 до 50 та знайдіть вектор з квадратними коренями цих чисел.\"\n",
    "vector = np.array([np.random.randint(1, 50+1) for i in range (4)])\n",
    "squared_vector = np.square(vector)\n",
    "print(\"Вектор:\")\n",
    "print(vector)\n",
    "print(\"Вектор з квадратами чисел:\")\n",
    "print(squared_vector)"
   ]
  }
 ],
 "metadata": {
  "kernelspec": {
   "display_name": "Python 3 (ipykernel)",
   "language": "python",
   "name": "python3"
  },
  "language_info": {
   "codemirror_mode": {
    "name": "ipython",
    "version": 3
   },
   "file_extension": ".py",
   "mimetype": "text/x-python",
   "name": "python",
   "nbconvert_exporter": "python",
   "pygments_lexer": "ipython3",
   "version": "3.11.9"
  }
 },
 "nbformat": 4,
 "nbformat_minor": 5
}
