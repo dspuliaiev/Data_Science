{
 "cells": [
  {
   "cell_type": "code",
   "id": "initial_id",
   "metadata": {
    "collapsed": true,
    "ExecuteTime": {
     "end_time": "2024-05-26T12:25:02.053468Z",
     "start_time": "2024-05-26T12:25:02.049987Z"
    }
   },
   "source": [
    "import pandas as pd\n",
    "import matplotlib.pyplot as plt\n",
    "import seaborn as sns"
   ],
   "outputs": [],
   "execution_count": 84
  },
  {
   "metadata": {
    "ExecuteTime": {
     "end_time": "2024-05-26T12:25:02.110882Z",
     "start_time": "2024-05-26T12:25:02.056957Z"
    }
   },
   "cell_type": "code",
   "source": [
    "# Прочитайте таблицю з файлу \"2017_jun_final.csv\" \n",
    "df = pd.read_csv(\"2017_jun_final.csv\")"
   ],
   "id": "836add7ac5eef777",
   "outputs": [],
   "execution_count": 85
  },
  {
   "metadata": {
    "ExecuteTime": {
     "end_time": "2024-05-26T12:25:02.131286Z",
     "start_time": "2024-05-26T12:25:02.112434Z"
    }
   },
   "cell_type": "code",
   "source": [
    "# Прочитайте отриману таблицю, використовуючи метод head\n",
    "df.head()"
   ],
   "id": "69b9806bd7c470f",
   "outputs": [
    {
     "data": {
      "text/plain": [
       "   N                    Посада Мова програмування Спеціалізація  \\\n",
       "0  1        Junior QA engineer                NaN     Manual QA   \n",
       "1  2        Junior QA engineer                NaN     Manual QA   \n",
       "2  3         Software Engineer            C#/.NET           NaN   \n",
       "3  4         Software Engineer         JavaScript           NaN   \n",
       "4  5  Senior Software Engineer         JavaScript           NaN   \n",
       "\n",
       "  Загальний досвід роботи Досвід роботи на поточному місці  \\\n",
       "0                     0.5                              0.5   \n",
       "1         менше 3 місяців                  менше 3 місяців   \n",
       "2                       4                                1   \n",
       "3                       5                                4   \n",
       "4       10 і більше років                              0.5   \n",
       "\n",
       "   Зарплата на місяць  Зміна зарплати за 12 місяців   Місто   Розмір компанії  \\\n",
       "0                 400                             0  Харків        до 10 осіб   \n",
       "1                 430                           130  Харків  більше 1000 осіб   \n",
       "2                2500                           800    Київ      до 1000 осіб   \n",
       "3                2000                           400   Одеса       до 200 осіб   \n",
       "4                4500                           500    Інше        до 10 осіб   \n",
       "\n",
       "   ... Ще студент                    Рівень англійської  \\\n",
       "0  ...       True    Pre-intermediate (нище середнього)   \n",
       "1  ...       True  Upper-Intermediate (вище середнього)   \n",
       "2  ...      False               Intermediate (середній)   \n",
       "3  ...      False    Pre-intermediate (нище середнього)   \n",
       "4  ...      False               Intermediate (середній)   \n",
       "\n",
       "                   Предметна область      Дата заповнення  \\\n",
       "0                      iOS,eCommerce  12/06/2017 12:38:08   \n",
       "1                       Веб-розробка  12/06/2017 12:42:51   \n",
       "2  Веб-розробка,Корпоративні системи  12/06/2017 13:02:47   \n",
       "3  Desktop Applications,Веб-розробка  12/06/2017 13:03:01   \n",
       "4  Desktop Applications,Веб-розробка  12/06/2017 13:03:47   \n",
       "\n",
       "                                          User.Agent   exp current_job_exp  \\\n",
       "0  Mozilla/5.0 (Windows NT 10.0; Win64; x64) Appl...   0.5             0.5   \n",
       "1  Mozilla/5.0 (iPad; CPU OS 10_2_1 like Mac OS X...   0.0             0.0   \n",
       "2  Mozilla/5.0 (Windows NT 10.0; Win64; x64) Appl...   4.0             1.0   \n",
       "3  Mozilla/5.0 (Windows NT 6.1; Win64; x64) Apple...   5.0             4.0   \n",
       "4  Mozilla/5.0 (iPhone; CPU iPhone OS 10_3_2 like...  10.0             0.5   \n",
       "\n",
       "  salary Валюта  cls  \n",
       "0    400    NaN   QA  \n",
       "1    430    NaN   QA  \n",
       "2   2500    NaN  DEV  \n",
       "3   2000    NaN  DEV  \n",
       "4   4500    NaN  DEV  \n",
       "\n",
       "[5 rows x 25 columns]"
      ],
      "text/html": [
       "<div>\n",
       "<style scoped>\n",
       "    .dataframe tbody tr th:only-of-type {\n",
       "        vertical-align: middle;\n",
       "    }\n",
       "\n",
       "    .dataframe tbody tr th {\n",
       "        vertical-align: top;\n",
       "    }\n",
       "\n",
       "    .dataframe thead th {\n",
       "        text-align: right;\n",
       "    }\n",
       "</style>\n",
       "<table border=\"1\" class=\"dataframe\">\n",
       "  <thead>\n",
       "    <tr style=\"text-align: right;\">\n",
       "      <th></th>\n",
       "      <th>N</th>\n",
       "      <th>Посада</th>\n",
       "      <th>Мова програмування</th>\n",
       "      <th>Спеціалізація</th>\n",
       "      <th>Загальний досвід роботи</th>\n",
       "      <th>Досвід роботи на поточному місці</th>\n",
       "      <th>Зарплата на місяць</th>\n",
       "      <th>Зміна зарплати за 12 місяців</th>\n",
       "      <th>Місто</th>\n",
       "      <th>Розмір компанії</th>\n",
       "      <th>...</th>\n",
       "      <th>Ще студент</th>\n",
       "      <th>Рівень англійської</th>\n",
       "      <th>Предметна область</th>\n",
       "      <th>Дата заповнення</th>\n",
       "      <th>User.Agent</th>\n",
       "      <th>exp</th>\n",
       "      <th>current_job_exp</th>\n",
       "      <th>salary</th>\n",
       "      <th>Валюта</th>\n",
       "      <th>cls</th>\n",
       "    </tr>\n",
       "  </thead>\n",
       "  <tbody>\n",
       "    <tr>\n",
       "      <th>0</th>\n",
       "      <td>1</td>\n",
       "      <td>Junior QA engineer</td>\n",
       "      <td>NaN</td>\n",
       "      <td>Manual QA</td>\n",
       "      <td>0.5</td>\n",
       "      <td>0.5</td>\n",
       "      <td>400</td>\n",
       "      <td>0</td>\n",
       "      <td>Харків</td>\n",
       "      <td>до 10 осіб</td>\n",
       "      <td>...</td>\n",
       "      <td>True</td>\n",
       "      <td>Pre-intermediate (нище середнього)</td>\n",
       "      <td>iOS,eCommerce</td>\n",
       "      <td>12/06/2017 12:38:08</td>\n",
       "      <td>Mozilla/5.0 (Windows NT 10.0; Win64; x64) Appl...</td>\n",
       "      <td>0.5</td>\n",
       "      <td>0.5</td>\n",
       "      <td>400</td>\n",
       "      <td>NaN</td>\n",
       "      <td>QA</td>\n",
       "    </tr>\n",
       "    <tr>\n",
       "      <th>1</th>\n",
       "      <td>2</td>\n",
       "      <td>Junior QA engineer</td>\n",
       "      <td>NaN</td>\n",
       "      <td>Manual QA</td>\n",
       "      <td>менше 3 місяців</td>\n",
       "      <td>менше 3 місяців</td>\n",
       "      <td>430</td>\n",
       "      <td>130</td>\n",
       "      <td>Харків</td>\n",
       "      <td>більше 1000 осіб</td>\n",
       "      <td>...</td>\n",
       "      <td>True</td>\n",
       "      <td>Upper-Intermediate (вище середнього)</td>\n",
       "      <td>Веб-розробка</td>\n",
       "      <td>12/06/2017 12:42:51</td>\n",
       "      <td>Mozilla/5.0 (iPad; CPU OS 10_2_1 like Mac OS X...</td>\n",
       "      <td>0.0</td>\n",
       "      <td>0.0</td>\n",
       "      <td>430</td>\n",
       "      <td>NaN</td>\n",
       "      <td>QA</td>\n",
       "    </tr>\n",
       "    <tr>\n",
       "      <th>2</th>\n",
       "      <td>3</td>\n",
       "      <td>Software Engineer</td>\n",
       "      <td>C#/.NET</td>\n",
       "      <td>NaN</td>\n",
       "      <td>4</td>\n",
       "      <td>1</td>\n",
       "      <td>2500</td>\n",
       "      <td>800</td>\n",
       "      <td>Київ</td>\n",
       "      <td>до 1000 осіб</td>\n",
       "      <td>...</td>\n",
       "      <td>False</td>\n",
       "      <td>Intermediate (середній)</td>\n",
       "      <td>Веб-розробка,Корпоративні системи</td>\n",
       "      <td>12/06/2017 13:02:47</td>\n",
       "      <td>Mozilla/5.0 (Windows NT 10.0; Win64; x64) Appl...</td>\n",
       "      <td>4.0</td>\n",
       "      <td>1.0</td>\n",
       "      <td>2500</td>\n",
       "      <td>NaN</td>\n",
       "      <td>DEV</td>\n",
       "    </tr>\n",
       "    <tr>\n",
       "      <th>3</th>\n",
       "      <td>4</td>\n",
       "      <td>Software Engineer</td>\n",
       "      <td>JavaScript</td>\n",
       "      <td>NaN</td>\n",
       "      <td>5</td>\n",
       "      <td>4</td>\n",
       "      <td>2000</td>\n",
       "      <td>400</td>\n",
       "      <td>Одеса</td>\n",
       "      <td>до 200 осіб</td>\n",
       "      <td>...</td>\n",
       "      <td>False</td>\n",
       "      <td>Pre-intermediate (нище середнього)</td>\n",
       "      <td>Desktop Applications,Веб-розробка</td>\n",
       "      <td>12/06/2017 13:03:01</td>\n",
       "      <td>Mozilla/5.0 (Windows NT 6.1; Win64; x64) Apple...</td>\n",
       "      <td>5.0</td>\n",
       "      <td>4.0</td>\n",
       "      <td>2000</td>\n",
       "      <td>NaN</td>\n",
       "      <td>DEV</td>\n",
       "    </tr>\n",
       "    <tr>\n",
       "      <th>4</th>\n",
       "      <td>5</td>\n",
       "      <td>Senior Software Engineer</td>\n",
       "      <td>JavaScript</td>\n",
       "      <td>NaN</td>\n",
       "      <td>10 і більше років</td>\n",
       "      <td>0.5</td>\n",
       "      <td>4500</td>\n",
       "      <td>500</td>\n",
       "      <td>Інше</td>\n",
       "      <td>до 10 осіб</td>\n",
       "      <td>...</td>\n",
       "      <td>False</td>\n",
       "      <td>Intermediate (середній)</td>\n",
       "      <td>Desktop Applications,Веб-розробка</td>\n",
       "      <td>12/06/2017 13:03:47</td>\n",
       "      <td>Mozilla/5.0 (iPhone; CPU iPhone OS 10_3_2 like...</td>\n",
       "      <td>10.0</td>\n",
       "      <td>0.5</td>\n",
       "      <td>4500</td>\n",
       "      <td>NaN</td>\n",
       "      <td>DEV</td>\n",
       "    </tr>\n",
       "  </tbody>\n",
       "</table>\n",
       "<p>5 rows × 25 columns</p>\n",
       "</div>"
      ]
     },
     "execution_count": 86,
     "metadata": {},
     "output_type": "execute_result"
    }
   ],
   "execution_count": 86
  },
  {
   "metadata": {
    "ExecuteTime": {
     "end_time": "2024-05-26T12:25:02.137678Z",
     "start_time": "2024-05-26T12:25:02.132396Z"
    }
   },
   "cell_type": "code",
   "source": [
    "# Визначте розмір таблиці за допомогою методу shape\n",
    "df.shape"
   ],
   "id": "260e92f6e4e1633",
   "outputs": [
    {
     "data": {
      "text/plain": [
       "(8704, 25)"
      ]
     },
     "execution_count": 87,
     "metadata": {},
     "output_type": "execute_result"
    }
   ],
   "execution_count": 87
  },
  {
   "metadata": {
    "ExecuteTime": {
     "end_time": "2024-05-26T12:25:02.146156Z",
     "start_time": "2024-05-26T12:25:02.140685Z"
    }
   },
   "cell_type": "code",
   "source": [
    "# Визначте типи всіх стовпців за допомогою dataframe.dtypes\n",
    "df.dtypes"
   ],
   "id": "1e5d66015ff2cbac",
   "outputs": [
    {
     "data": {
      "text/plain": [
       "N                                     int64\n",
       "Посада                               object\n",
       "Мова програмування                   object\n",
       "Спеціалізація                        object\n",
       "Загальний досвід роботи              object\n",
       "Досвід роботи на поточному місці     object\n",
       "Зарплата на місяць                    int64\n",
       "Зміна зарплати за 12 місяців          int64\n",
       "Місто                                object\n",
       "Розмір компанії                      object\n",
       "Тип компанії                         object\n",
       "Стать                                object\n",
       "Вік                                   int64\n",
       "Освіта                               object\n",
       "Університет                          object\n",
       "Ще студент                             bool\n",
       "Рівень англійської                   object\n",
       "Предметна область                    object\n",
       "Дата заповнення                      object\n",
       "User.Agent                           object\n",
       "exp                                 float64\n",
       "current_job_exp                     float64\n",
       "salary                                int64\n",
       "Валюта                               object\n",
       "cls                                  object\n",
       "dtype: object"
      ]
     },
     "execution_count": 88,
     "metadata": {},
     "output_type": "execute_result"
    }
   ],
   "execution_count": 88
  },
  {
   "metadata": {
    "ExecuteTime": {
     "end_time": "2024-05-26T12:25:02.182633Z",
     "start_time": "2024-05-26T12:25:02.167178Z"
    }
   },
   "cell_type": "code",
   "source": [
    "# Порахуйте, яка частка пропусків міститься в кожній колонці \n",
    "nan_cnt = df.isnull().sum(axis=0)*100/8704\n",
    "nan_cnt.round(2)"
   ],
   "id": "f94aba0a754485af",
   "outputs": [
    {
     "data": {
      "text/plain": [
       "N                                    0.00\n",
       "Посада                               0.00\n",
       "Мова програмування                  44.23\n",
       "Спеціалізація                       82.94\n",
       "Загальний досвід роботи              0.00\n",
       "Досвід роботи на поточному місці     0.00\n",
       "Зарплата на місяць                   0.00\n",
       "Зміна зарплати за 12 місяців         0.00\n",
       "Місто                                0.00\n",
       "Розмір компанії                      0.00\n",
       "Тип компанії                         0.00\n",
       "Стать                                0.00\n",
       "Вік                                  0.00\n",
       "Освіта                               0.00\n",
       "Університет                          4.11\n",
       "Ще студент                           0.00\n",
       "Рівень англійської                   0.00\n",
       "Предметна область                    2.56\n",
       "Дата заповнення                      0.00\n",
       "User.Agent                           0.00\n",
       "exp                                  0.00\n",
       "current_job_exp                      0.00\n",
       "salary                               0.00\n",
       "Валюта                              99.89\n",
       "cls                                 18.08\n",
       "dtype: float64"
      ]
     },
     "execution_count": 89,
     "metadata": {},
     "output_type": "execute_result"
    }
   ],
   "execution_count": 89
  },
  {
   "metadata": {
    "ExecuteTime": {
     "end_time": "2024-05-26T12:25:02.213536Z",
     "start_time": "2024-05-26T12:25:02.204213Z"
    }
   },
   "cell_type": "code",
   "source": [
    "#Видаліть усі стовпці з пропусками, крім стовпця \"Мова програмування\"\n",
    "df_tmp = df.isna().any()\n",
    "not_del = ['Мова програмування']\n",
    "df_tmp[not_del] = False\n",
    "df.drop(df_tmp.index[df_tmp], axis=1, inplace=True) "
   ],
   "id": "13f8bc4590070c29",
   "outputs": [],
   "execution_count": 90
  },
  {
   "metadata": {
    "ExecuteTime": {
     "end_time": "2024-05-26T12:25:02.353713Z",
     "start_time": "2024-05-26T12:25:02.342019Z"
    }
   },
   "cell_type": "code",
   "source": [
    "#Знову порахуйте, яка частка пропусків міститься в кожній колонці і переконайтеся, що залишився тільки стовпець \"Мова.програмування\"\n",
    "nan_cnt = df.isnull().sum(axis=0)*100/8704\n",
    "nan_cnt.round(2)"
   ],
   "id": "eaab0935dd5b4d88",
   "outputs": [
    {
     "data": {
      "text/plain": [
       "N                                    0.00\n",
       "Посада                               0.00\n",
       "Мова програмування                  44.23\n",
       "Загальний досвід роботи              0.00\n",
       "Досвід роботи на поточному місці     0.00\n",
       "Зарплата на місяць                   0.00\n",
       "Зміна зарплати за 12 місяців         0.00\n",
       "Місто                                0.00\n",
       "Розмір компанії                      0.00\n",
       "Тип компанії                         0.00\n",
       "Стать                                0.00\n",
       "Вік                                  0.00\n",
       "Освіта                               0.00\n",
       "Ще студент                           0.00\n",
       "Рівень англійської                   0.00\n",
       "Дата заповнення                      0.00\n",
       "User.Agent                           0.00\n",
       "exp                                  0.00\n",
       "current_job_exp                      0.00\n",
       "salary                               0.00\n",
       "dtype: float64"
      ]
     },
     "execution_count": 91,
     "metadata": {},
     "output_type": "execute_result"
    }
   ],
   "execution_count": 91
  },
  {
   "metadata": {
    "ExecuteTime": {
     "end_time": "2024-05-26T12:25:02.403163Z",
     "start_time": "2024-05-26T12:25:02.385429Z"
    }
   },
   "cell_type": "code",
   "source": [
    "#Видаліть усі рядки у вихідній таблиці за допомогою методу dropna\n",
    "df = df.dropna()\n",
    "df.head()"
   ],
   "id": "205bb6b3027f8b30",
   "outputs": [
    {
     "data": {
      "text/plain": [
       "   N                    Посада Мова програмування Загальний досвід роботи  \\\n",
       "2  3         Software Engineer            C#/.NET                       4   \n",
       "3  4         Software Engineer         JavaScript                       5   \n",
       "4  5  Senior Software Engineer         JavaScript       10 і більше років   \n",
       "6  7  Junior Software Engineer            C#/.NET                       1   \n",
       "7  8  Senior Software Engineer                C++                       6   \n",
       "\n",
       "  Досвід роботи на поточному місці  Зарплата на місяць  \\\n",
       "2                                1                2500   \n",
       "3                                4                2000   \n",
       "4                              0.5                4500   \n",
       "6                  менше 3 місяців                 600   \n",
       "7                                1                3300   \n",
       "\n",
       "   Зміна зарплати за 12 місяців         Місто Розмір компанії   Тип компанії  \\\n",
       "2                           800          Київ    до 1000 осіб  Аутсорсингова   \n",
       "3                           400         Одеса     до 200 осіб     Продуктова   \n",
       "4                           500          Інше      до 10 осіб     Продуктова   \n",
       "6                           100  Хмельницький      до 50 осіб  Аутсорсингова   \n",
       "7                           500          Київ      до 10 осіб     Продуктова   \n",
       "\n",
       "      Стать  Вік             Освіта  Ще студент  \\\n",
       "2  чоловіча   26               Вища       False   \n",
       "3  чоловіча   30            Середня       False   \n",
       "4  чоловіча   30  Технікум / Коледж       False   \n",
       "6  чоловіча   23               Вища       False   \n",
       "7  чоловіча   28               Вища       False   \n",
       "\n",
       "                     Рівень англійської      Дата заповнення  \\\n",
       "2               Intermediate (середній)  12/06/2017 13:02:47   \n",
       "3    Pre-intermediate (нище середнього)  12/06/2017 13:03:01   \n",
       "4               Intermediate (середній)  12/06/2017 13:03:47   \n",
       "6    Pre-intermediate (нище середнього)  12/06/2017 13:04:26   \n",
       "7  Upper-Intermediate (вище середнього)  12/06/2017 13:04:27   \n",
       "\n",
       "                                          User.Agent   exp  current_job_exp  \\\n",
       "2  Mozilla/5.0 (Windows NT 10.0; Win64; x64) Appl...   4.0              1.0   \n",
       "3  Mozilla/5.0 (Windows NT 6.1; Win64; x64) Apple...   5.0              4.0   \n",
       "4  Mozilla/5.0 (iPhone; CPU iPhone OS 10_3_2 like...  10.0              0.5   \n",
       "6  Mozilla/5.0 (Windows NT 10.0; Win64; x64) Appl...   1.0              0.0   \n",
       "7  Mozilla/5.0 (X11; Ubuntu; Linux x86_64; rv:53....   6.0              1.0   \n",
       "\n",
       "   salary  \n",
       "2    2500  \n",
       "3    2000  \n",
       "4    4500  \n",
       "6     600  \n",
       "7    3300  "
      ],
      "text/html": [
       "<div>\n",
       "<style scoped>\n",
       "    .dataframe tbody tr th:only-of-type {\n",
       "        vertical-align: middle;\n",
       "    }\n",
       "\n",
       "    .dataframe tbody tr th {\n",
       "        vertical-align: top;\n",
       "    }\n",
       "\n",
       "    .dataframe thead th {\n",
       "        text-align: right;\n",
       "    }\n",
       "</style>\n",
       "<table border=\"1\" class=\"dataframe\">\n",
       "  <thead>\n",
       "    <tr style=\"text-align: right;\">\n",
       "      <th></th>\n",
       "      <th>N</th>\n",
       "      <th>Посада</th>\n",
       "      <th>Мова програмування</th>\n",
       "      <th>Загальний досвід роботи</th>\n",
       "      <th>Досвід роботи на поточному місці</th>\n",
       "      <th>Зарплата на місяць</th>\n",
       "      <th>Зміна зарплати за 12 місяців</th>\n",
       "      <th>Місто</th>\n",
       "      <th>Розмір компанії</th>\n",
       "      <th>Тип компанії</th>\n",
       "      <th>Стать</th>\n",
       "      <th>Вік</th>\n",
       "      <th>Освіта</th>\n",
       "      <th>Ще студент</th>\n",
       "      <th>Рівень англійської</th>\n",
       "      <th>Дата заповнення</th>\n",
       "      <th>User.Agent</th>\n",
       "      <th>exp</th>\n",
       "      <th>current_job_exp</th>\n",
       "      <th>salary</th>\n",
       "    </tr>\n",
       "  </thead>\n",
       "  <tbody>\n",
       "    <tr>\n",
       "      <th>2</th>\n",
       "      <td>3</td>\n",
       "      <td>Software Engineer</td>\n",
       "      <td>C#/.NET</td>\n",
       "      <td>4</td>\n",
       "      <td>1</td>\n",
       "      <td>2500</td>\n",
       "      <td>800</td>\n",
       "      <td>Київ</td>\n",
       "      <td>до 1000 осіб</td>\n",
       "      <td>Аутсорсингова</td>\n",
       "      <td>чоловіча</td>\n",
       "      <td>26</td>\n",
       "      <td>Вища</td>\n",
       "      <td>False</td>\n",
       "      <td>Intermediate (середній)</td>\n",
       "      <td>12/06/2017 13:02:47</td>\n",
       "      <td>Mozilla/5.0 (Windows NT 10.0; Win64; x64) Appl...</td>\n",
       "      <td>4.0</td>\n",
       "      <td>1.0</td>\n",
       "      <td>2500</td>\n",
       "    </tr>\n",
       "    <tr>\n",
       "      <th>3</th>\n",
       "      <td>4</td>\n",
       "      <td>Software Engineer</td>\n",
       "      <td>JavaScript</td>\n",
       "      <td>5</td>\n",
       "      <td>4</td>\n",
       "      <td>2000</td>\n",
       "      <td>400</td>\n",
       "      <td>Одеса</td>\n",
       "      <td>до 200 осіб</td>\n",
       "      <td>Продуктова</td>\n",
       "      <td>чоловіча</td>\n",
       "      <td>30</td>\n",
       "      <td>Середня</td>\n",
       "      <td>False</td>\n",
       "      <td>Pre-intermediate (нище середнього)</td>\n",
       "      <td>12/06/2017 13:03:01</td>\n",
       "      <td>Mozilla/5.0 (Windows NT 6.1; Win64; x64) Apple...</td>\n",
       "      <td>5.0</td>\n",
       "      <td>4.0</td>\n",
       "      <td>2000</td>\n",
       "    </tr>\n",
       "    <tr>\n",
       "      <th>4</th>\n",
       "      <td>5</td>\n",
       "      <td>Senior Software Engineer</td>\n",
       "      <td>JavaScript</td>\n",
       "      <td>10 і більше років</td>\n",
       "      <td>0.5</td>\n",
       "      <td>4500</td>\n",
       "      <td>500</td>\n",
       "      <td>Інше</td>\n",
       "      <td>до 10 осіб</td>\n",
       "      <td>Продуктова</td>\n",
       "      <td>чоловіча</td>\n",
       "      <td>30</td>\n",
       "      <td>Технікум / Коледж</td>\n",
       "      <td>False</td>\n",
       "      <td>Intermediate (середній)</td>\n",
       "      <td>12/06/2017 13:03:47</td>\n",
       "      <td>Mozilla/5.0 (iPhone; CPU iPhone OS 10_3_2 like...</td>\n",
       "      <td>10.0</td>\n",
       "      <td>0.5</td>\n",
       "      <td>4500</td>\n",
       "    </tr>\n",
       "    <tr>\n",
       "      <th>6</th>\n",
       "      <td>7</td>\n",
       "      <td>Junior Software Engineer</td>\n",
       "      <td>C#/.NET</td>\n",
       "      <td>1</td>\n",
       "      <td>менше 3 місяців</td>\n",
       "      <td>600</td>\n",
       "      <td>100</td>\n",
       "      <td>Хмельницький</td>\n",
       "      <td>до 50 осіб</td>\n",
       "      <td>Аутсорсингова</td>\n",
       "      <td>чоловіча</td>\n",
       "      <td>23</td>\n",
       "      <td>Вища</td>\n",
       "      <td>False</td>\n",
       "      <td>Pre-intermediate (нище середнього)</td>\n",
       "      <td>12/06/2017 13:04:26</td>\n",
       "      <td>Mozilla/5.0 (Windows NT 10.0; Win64; x64) Appl...</td>\n",
       "      <td>1.0</td>\n",
       "      <td>0.0</td>\n",
       "      <td>600</td>\n",
       "    </tr>\n",
       "    <tr>\n",
       "      <th>7</th>\n",
       "      <td>8</td>\n",
       "      <td>Senior Software Engineer</td>\n",
       "      <td>C++</td>\n",
       "      <td>6</td>\n",
       "      <td>1</td>\n",
       "      <td>3300</td>\n",
       "      <td>500</td>\n",
       "      <td>Київ</td>\n",
       "      <td>до 10 осіб</td>\n",
       "      <td>Продуктова</td>\n",
       "      <td>чоловіча</td>\n",
       "      <td>28</td>\n",
       "      <td>Вища</td>\n",
       "      <td>False</td>\n",
       "      <td>Upper-Intermediate (вище середнього)</td>\n",
       "      <td>12/06/2017 13:04:27</td>\n",
       "      <td>Mozilla/5.0 (X11; Ubuntu; Linux x86_64; rv:53....</td>\n",
       "      <td>6.0</td>\n",
       "      <td>1.0</td>\n",
       "      <td>3300</td>\n",
       "    </tr>\n",
       "  </tbody>\n",
       "</table>\n",
       "</div>"
      ]
     },
     "execution_count": 92,
     "metadata": {},
     "output_type": "execute_result"
    }
   ],
   "execution_count": 92
  },
  {
   "metadata": {
    "ExecuteTime": {
     "end_time": "2024-05-26T12:25:02.418555Z",
     "start_time": "2024-05-26T12:25:02.412466Z"
    }
   },
   "cell_type": "code",
   "source": [
    "#Визначте новий розмір таблиці за допомогою методу shape\n",
    "df.shape"
   ],
   "id": "3c12b672c289087c",
   "outputs": [
    {
     "data": {
      "text/plain": [
       "(4854, 20)"
      ]
     },
     "execution_count": 93,
     "metadata": {},
     "output_type": "execute_result"
    }
   ],
   "execution_count": 93
  },
  {
   "metadata": {
    "ExecuteTime": {
     "end_time": "2024-05-26T12:25:02.448774Z",
     "start_time": "2024-05-26T12:25:02.428162Z"
    }
   },
   "cell_type": "code",
   "source": [
    "#Створіть нову таблицю python_data, в якій будуть тільки рядки зі спеціалістами, які вказали мову програмування Python\n",
    "python_data = df[df['Мова програмування'] == 'Python']\n",
    "python_data"
   ],
   "id": "a45a2373575a3012",
   "outputs": [
    {
     "data": {
      "text/plain": [
       "         N                    Посада Мова програмування  \\\n",
       "12      13         Software Engineer             Python   \n",
       "68      69         Software Engineer             Python   \n",
       "87      88  Junior Software Engineer             Python   \n",
       "114    115  Junior Software Engineer             Python   \n",
       "143    144  Junior Software Engineer             Python   \n",
       "...    ...                       ...                ...   \n",
       "8546  8547         Software Engineer             Python   \n",
       "8625  8626         Software Engineer             Python   \n",
       "8635  8636  Senior Software Engineer             Python   \n",
       "8673  8674  Junior Software Engineer             Python   \n",
       "8695  8696         Software Engineer             Python   \n",
       "\n",
       "     Загальний досвід роботи Досвід роботи на поточному місці  \\\n",
       "12                         1                  менше 3 місяців   \n",
       "68                       1.5                              0.5   \n",
       "87                       0.5                              0.5   \n",
       "114                      1.5                              0.5   \n",
       "143                        1                                1   \n",
       "...                      ...                              ...   \n",
       "8546                       5                                1   \n",
       "8625                       4                                1   \n",
       "8635       10 і більше років                  менше 3 місяців   \n",
       "8673                     0.5                              0.5   \n",
       "8695                       1                              0.5   \n",
       "\n",
       "      Зарплата на місяць  Зміна зарплати за 12 місяців      Місто  \\\n",
       "12                   800                           200       Київ   \n",
       "68                   900                           900       Київ   \n",
       "87                   600                             0       Київ   \n",
       "114                  685                           250       Київ   \n",
       "143                  750                           250       Київ   \n",
       "...                  ...                           ...        ...   \n",
       "8546                2000                           800  Запоріжжя   \n",
       "8625                1750                             0       Київ   \n",
       "8635                4000                          1300  Віддалено   \n",
       "8673                 350                            50       Київ   \n",
       "8695                1500                          1000       Київ   \n",
       "\n",
       "       Розмір компанії   Тип компанії     Стать  Вік        Освіта  \\\n",
       "12          до 50 осіб  Аутсорсингова  чоловіча   26          Вища   \n",
       "68          до 10 осіб        Стартап  чоловіча   21  Неповна Вища   \n",
       "87          до 10 осіб  Аутсорсингова  чоловіча   19  Неповна Вища   \n",
       "114       до 1000 осіб  Аутсорсингова  чоловіча   21  Неповна Вища   \n",
       "143         до 10 осіб  Аутсорсингова  чоловіча   21  Неповна Вища   \n",
       "...                ...            ...       ...  ...           ...   \n",
       "8546        до 50 осіб  Аутсорсингова  чоловіча   22  Неповна Вища   \n",
       "8625  більше 1000 осіб  Аутсорсингова  чоловіча   28       Середня   \n",
       "8635        до 10 осіб        Стартап  чоловіча   33          Вища   \n",
       "8673        до 50 осіб  Аутсорсингова  чоловіча   22          Вища   \n",
       "8695        до 10 осіб        Стартап  чоловіча   29          Вища   \n",
       "\n",
       "      Ще студент                    Рівень англійської      Дата заповнення  \\\n",
       "12         False    Pre-intermediate (нище середнього)  12/06/2017 13:05:54   \n",
       "68          True  Upper-Intermediate (вище середнього)  12/06/2017 13:11:17   \n",
       "87          True  Upper-Intermediate (вище середнього)  12/06/2017 13:12:25   \n",
       "114        False               Intermediate (середній)  12/06/2017 13:14:52   \n",
       "143         True  Upper-Intermediate (вище середнього)  12/06/2017 13:19:10   \n",
       "...          ...                                   ...                  ...   \n",
       "8546       False               Intermediate (середній)  10/07/2017 14:11:26   \n",
       "8625       False               Intermediate (середній)  11/07/2017 16:15:40   \n",
       "8635       False  Upper-Intermediate (вище середнього)  11/07/2017 17:51:36   \n",
       "8673       False               Intermediate (середній)   12/07/2017 9:37:16   \n",
       "8695       False               Intermediate (середній)  12/07/2017 14:39:21   \n",
       "\n",
       "                                             User.Agent   exp  \\\n",
       "12    Mozilla/5.0 (Windows NT 6.1; Win64; x64) Apple...   1.0   \n",
       "68    Mozilla/5.0 (Windows NT 10.0; Win64; x64) Appl...   1.5   \n",
       "87    Mozilla/5.0 (X11; Linux x86_64) AppleWebKit/53...   0.5   \n",
       "114   Mozilla/5.0 (X11; Linux x86_64) AppleWebKit/53...   1.5   \n",
       "143   Mozilla/5.0 (X11; Linux x86_64) AppleWebKit/53...   1.0   \n",
       "...                                                 ...   ...   \n",
       "8546  Mozilla/5.0 (Macintosh; Intel Mac OS X 10_12_5...   5.0   \n",
       "8625  Mozilla/5.0 (X11; Ubuntu; Linux x86_64; rv:54....   4.0   \n",
       "8635  Mozilla/5.0 (X11; Linux x86_64) AppleWebKit/53...  10.0   \n",
       "8673  Mozilla/5.0 (X11; Ubuntu; Linux x86_64; rv:54....   0.5   \n",
       "8695  Mozilla/5.0 (X11; Linux x86_64) AppleWebKit/53...   1.0   \n",
       "\n",
       "      current_job_exp  salary  \n",
       "12                0.0     800  \n",
       "68                0.5     900  \n",
       "87                0.5     600  \n",
       "114               0.5     685  \n",
       "143               1.0     750  \n",
       "...               ...     ...  \n",
       "8546              1.0    2000  \n",
       "8625              1.0    1750  \n",
       "8635              0.0    4000  \n",
       "8673              0.5     350  \n",
       "8695              0.5    1500  \n",
       "\n",
       "[207 rows x 20 columns]"
      ],
      "text/html": [
       "<div>\n",
       "<style scoped>\n",
       "    .dataframe tbody tr th:only-of-type {\n",
       "        vertical-align: middle;\n",
       "    }\n",
       "\n",
       "    .dataframe tbody tr th {\n",
       "        vertical-align: top;\n",
       "    }\n",
       "\n",
       "    .dataframe thead th {\n",
       "        text-align: right;\n",
       "    }\n",
       "</style>\n",
       "<table border=\"1\" class=\"dataframe\">\n",
       "  <thead>\n",
       "    <tr style=\"text-align: right;\">\n",
       "      <th></th>\n",
       "      <th>N</th>\n",
       "      <th>Посада</th>\n",
       "      <th>Мова програмування</th>\n",
       "      <th>Загальний досвід роботи</th>\n",
       "      <th>Досвід роботи на поточному місці</th>\n",
       "      <th>Зарплата на місяць</th>\n",
       "      <th>Зміна зарплати за 12 місяців</th>\n",
       "      <th>Місто</th>\n",
       "      <th>Розмір компанії</th>\n",
       "      <th>Тип компанії</th>\n",
       "      <th>Стать</th>\n",
       "      <th>Вік</th>\n",
       "      <th>Освіта</th>\n",
       "      <th>Ще студент</th>\n",
       "      <th>Рівень англійської</th>\n",
       "      <th>Дата заповнення</th>\n",
       "      <th>User.Agent</th>\n",
       "      <th>exp</th>\n",
       "      <th>current_job_exp</th>\n",
       "      <th>salary</th>\n",
       "    </tr>\n",
       "  </thead>\n",
       "  <tbody>\n",
       "    <tr>\n",
       "      <th>12</th>\n",
       "      <td>13</td>\n",
       "      <td>Software Engineer</td>\n",
       "      <td>Python</td>\n",
       "      <td>1</td>\n",
       "      <td>менше 3 місяців</td>\n",
       "      <td>800</td>\n",
       "      <td>200</td>\n",
       "      <td>Київ</td>\n",
       "      <td>до 50 осіб</td>\n",
       "      <td>Аутсорсингова</td>\n",
       "      <td>чоловіча</td>\n",
       "      <td>26</td>\n",
       "      <td>Вища</td>\n",
       "      <td>False</td>\n",
       "      <td>Pre-intermediate (нище середнього)</td>\n",
       "      <td>12/06/2017 13:05:54</td>\n",
       "      <td>Mozilla/5.0 (Windows NT 6.1; Win64; x64) Apple...</td>\n",
       "      <td>1.0</td>\n",
       "      <td>0.0</td>\n",
       "      <td>800</td>\n",
       "    </tr>\n",
       "    <tr>\n",
       "      <th>68</th>\n",
       "      <td>69</td>\n",
       "      <td>Software Engineer</td>\n",
       "      <td>Python</td>\n",
       "      <td>1.5</td>\n",
       "      <td>0.5</td>\n",
       "      <td>900</td>\n",
       "      <td>900</td>\n",
       "      <td>Київ</td>\n",
       "      <td>до 10 осіб</td>\n",
       "      <td>Стартап</td>\n",
       "      <td>чоловіча</td>\n",
       "      <td>21</td>\n",
       "      <td>Неповна Вища</td>\n",
       "      <td>True</td>\n",
       "      <td>Upper-Intermediate (вище середнього)</td>\n",
       "      <td>12/06/2017 13:11:17</td>\n",
       "      <td>Mozilla/5.0 (Windows NT 10.0; Win64; x64) Appl...</td>\n",
       "      <td>1.5</td>\n",
       "      <td>0.5</td>\n",
       "      <td>900</td>\n",
       "    </tr>\n",
       "    <tr>\n",
       "      <th>87</th>\n",
       "      <td>88</td>\n",
       "      <td>Junior Software Engineer</td>\n",
       "      <td>Python</td>\n",
       "      <td>0.5</td>\n",
       "      <td>0.5</td>\n",
       "      <td>600</td>\n",
       "      <td>0</td>\n",
       "      <td>Київ</td>\n",
       "      <td>до 10 осіб</td>\n",
       "      <td>Аутсорсингова</td>\n",
       "      <td>чоловіча</td>\n",
       "      <td>19</td>\n",
       "      <td>Неповна Вища</td>\n",
       "      <td>True</td>\n",
       "      <td>Upper-Intermediate (вище середнього)</td>\n",
       "      <td>12/06/2017 13:12:25</td>\n",
       "      <td>Mozilla/5.0 (X11; Linux x86_64) AppleWebKit/53...</td>\n",
       "      <td>0.5</td>\n",
       "      <td>0.5</td>\n",
       "      <td>600</td>\n",
       "    </tr>\n",
       "    <tr>\n",
       "      <th>114</th>\n",
       "      <td>115</td>\n",
       "      <td>Junior Software Engineer</td>\n",
       "      <td>Python</td>\n",
       "      <td>1.5</td>\n",
       "      <td>0.5</td>\n",
       "      <td>685</td>\n",
       "      <td>250</td>\n",
       "      <td>Київ</td>\n",
       "      <td>до 1000 осіб</td>\n",
       "      <td>Аутсорсингова</td>\n",
       "      <td>чоловіча</td>\n",
       "      <td>21</td>\n",
       "      <td>Неповна Вища</td>\n",
       "      <td>False</td>\n",
       "      <td>Intermediate (середній)</td>\n",
       "      <td>12/06/2017 13:14:52</td>\n",
       "      <td>Mozilla/5.0 (X11; Linux x86_64) AppleWebKit/53...</td>\n",
       "      <td>1.5</td>\n",
       "      <td>0.5</td>\n",
       "      <td>685</td>\n",
       "    </tr>\n",
       "    <tr>\n",
       "      <th>143</th>\n",
       "      <td>144</td>\n",
       "      <td>Junior Software Engineer</td>\n",
       "      <td>Python</td>\n",
       "      <td>1</td>\n",
       "      <td>1</td>\n",
       "      <td>750</td>\n",
       "      <td>250</td>\n",
       "      <td>Київ</td>\n",
       "      <td>до 10 осіб</td>\n",
       "      <td>Аутсорсингова</td>\n",
       "      <td>чоловіча</td>\n",
       "      <td>21</td>\n",
       "      <td>Неповна Вища</td>\n",
       "      <td>True</td>\n",
       "      <td>Upper-Intermediate (вище середнього)</td>\n",
       "      <td>12/06/2017 13:19:10</td>\n",
       "      <td>Mozilla/5.0 (X11; Linux x86_64) AppleWebKit/53...</td>\n",
       "      <td>1.0</td>\n",
       "      <td>1.0</td>\n",
       "      <td>750</td>\n",
       "    </tr>\n",
       "    <tr>\n",
       "      <th>...</th>\n",
       "      <td>...</td>\n",
       "      <td>...</td>\n",
       "      <td>...</td>\n",
       "      <td>...</td>\n",
       "      <td>...</td>\n",
       "      <td>...</td>\n",
       "      <td>...</td>\n",
       "      <td>...</td>\n",
       "      <td>...</td>\n",
       "      <td>...</td>\n",
       "      <td>...</td>\n",
       "      <td>...</td>\n",
       "      <td>...</td>\n",
       "      <td>...</td>\n",
       "      <td>...</td>\n",
       "      <td>...</td>\n",
       "      <td>...</td>\n",
       "      <td>...</td>\n",
       "      <td>...</td>\n",
       "      <td>...</td>\n",
       "    </tr>\n",
       "    <tr>\n",
       "      <th>8546</th>\n",
       "      <td>8547</td>\n",
       "      <td>Software Engineer</td>\n",
       "      <td>Python</td>\n",
       "      <td>5</td>\n",
       "      <td>1</td>\n",
       "      <td>2000</td>\n",
       "      <td>800</td>\n",
       "      <td>Запоріжжя</td>\n",
       "      <td>до 50 осіб</td>\n",
       "      <td>Аутсорсингова</td>\n",
       "      <td>чоловіча</td>\n",
       "      <td>22</td>\n",
       "      <td>Неповна Вища</td>\n",
       "      <td>False</td>\n",
       "      <td>Intermediate (середній)</td>\n",
       "      <td>10/07/2017 14:11:26</td>\n",
       "      <td>Mozilla/5.0 (Macintosh; Intel Mac OS X 10_12_5...</td>\n",
       "      <td>5.0</td>\n",
       "      <td>1.0</td>\n",
       "      <td>2000</td>\n",
       "    </tr>\n",
       "    <tr>\n",
       "      <th>8625</th>\n",
       "      <td>8626</td>\n",
       "      <td>Software Engineer</td>\n",
       "      <td>Python</td>\n",
       "      <td>4</td>\n",
       "      <td>1</td>\n",
       "      <td>1750</td>\n",
       "      <td>0</td>\n",
       "      <td>Київ</td>\n",
       "      <td>більше 1000 осіб</td>\n",
       "      <td>Аутсорсингова</td>\n",
       "      <td>чоловіча</td>\n",
       "      <td>28</td>\n",
       "      <td>Середня</td>\n",
       "      <td>False</td>\n",
       "      <td>Intermediate (середній)</td>\n",
       "      <td>11/07/2017 16:15:40</td>\n",
       "      <td>Mozilla/5.0 (X11; Ubuntu; Linux x86_64; rv:54....</td>\n",
       "      <td>4.0</td>\n",
       "      <td>1.0</td>\n",
       "      <td>1750</td>\n",
       "    </tr>\n",
       "    <tr>\n",
       "      <th>8635</th>\n",
       "      <td>8636</td>\n",
       "      <td>Senior Software Engineer</td>\n",
       "      <td>Python</td>\n",
       "      <td>10 і більше років</td>\n",
       "      <td>менше 3 місяців</td>\n",
       "      <td>4000</td>\n",
       "      <td>1300</td>\n",
       "      <td>Віддалено</td>\n",
       "      <td>до 10 осіб</td>\n",
       "      <td>Стартап</td>\n",
       "      <td>чоловіча</td>\n",
       "      <td>33</td>\n",
       "      <td>Вища</td>\n",
       "      <td>False</td>\n",
       "      <td>Upper-Intermediate (вище середнього)</td>\n",
       "      <td>11/07/2017 17:51:36</td>\n",
       "      <td>Mozilla/5.0 (X11; Linux x86_64) AppleWebKit/53...</td>\n",
       "      <td>10.0</td>\n",
       "      <td>0.0</td>\n",
       "      <td>4000</td>\n",
       "    </tr>\n",
       "    <tr>\n",
       "      <th>8673</th>\n",
       "      <td>8674</td>\n",
       "      <td>Junior Software Engineer</td>\n",
       "      <td>Python</td>\n",
       "      <td>0.5</td>\n",
       "      <td>0.5</td>\n",
       "      <td>350</td>\n",
       "      <td>50</td>\n",
       "      <td>Київ</td>\n",
       "      <td>до 50 осіб</td>\n",
       "      <td>Аутсорсингова</td>\n",
       "      <td>чоловіча</td>\n",
       "      <td>22</td>\n",
       "      <td>Вища</td>\n",
       "      <td>False</td>\n",
       "      <td>Intermediate (середній)</td>\n",
       "      <td>12/07/2017 9:37:16</td>\n",
       "      <td>Mozilla/5.0 (X11; Ubuntu; Linux x86_64; rv:54....</td>\n",
       "      <td>0.5</td>\n",
       "      <td>0.5</td>\n",
       "      <td>350</td>\n",
       "    </tr>\n",
       "    <tr>\n",
       "      <th>8695</th>\n",
       "      <td>8696</td>\n",
       "      <td>Software Engineer</td>\n",
       "      <td>Python</td>\n",
       "      <td>1</td>\n",
       "      <td>0.5</td>\n",
       "      <td>1500</td>\n",
       "      <td>1000</td>\n",
       "      <td>Київ</td>\n",
       "      <td>до 10 осіб</td>\n",
       "      <td>Стартап</td>\n",
       "      <td>чоловіча</td>\n",
       "      <td>29</td>\n",
       "      <td>Вища</td>\n",
       "      <td>False</td>\n",
       "      <td>Intermediate (середній)</td>\n",
       "      <td>12/07/2017 14:39:21</td>\n",
       "      <td>Mozilla/5.0 (X11; Linux x86_64) AppleWebKit/53...</td>\n",
       "      <td>1.0</td>\n",
       "      <td>0.5</td>\n",
       "      <td>1500</td>\n",
       "    </tr>\n",
       "  </tbody>\n",
       "</table>\n",
       "<p>207 rows × 20 columns</p>\n",
       "</div>"
      ]
     },
     "execution_count": 94,
     "metadata": {},
     "output_type": "execute_result"
    }
   ],
   "execution_count": 94
  },
  {
   "metadata": {
    "ExecuteTime": {
     "end_time": "2024-05-26T12:25:02.455167Z",
     "start_time": "2024-05-26T12:25:02.450168Z"
    }
   },
   "cell_type": "code",
   "source": [
    "#Визначте розмір таблиці python_data за допомогою методу shape\n",
    "python_data.shape"
   ],
   "id": "1d45af8be299955a",
   "outputs": [
    {
     "data": {
      "text/plain": [
       "(207, 20)"
      ]
     },
     "execution_count": 95,
     "metadata": {},
     "output_type": "execute_result"
    }
   ],
   "execution_count": 95
  },
  {
   "metadata": {
    "ExecuteTime": {
     "end_time": "2024-05-26T12:25:02.472516Z",
     "start_time": "2024-05-26T12:25:02.466604Z"
    }
   },
   "cell_type": "code",
   "source": [
    "#Використовуючи метод groupby, виконайте групування за стовпчиком \"Посада\"\n",
    "python_data.groupby('Посада').size()"
   ],
   "id": "d985467928915a7a",
   "outputs": [
    {
     "data": {
      "text/plain": [
       "Посада\n",
       "Junior Software Engineer     63\n",
       "Senior Software Engineer     31\n",
       "Software Engineer           100\n",
       "System Architect              2\n",
       "Technical Lead               11\n",
       "dtype: int64"
      ]
     },
     "execution_count": 96,
     "metadata": {},
     "output_type": "execute_result"
    }
   ],
   "execution_count": 96
  },
  {
   "metadata": {
    "ExecuteTime": {
     "end_time": "2024-05-26T12:25:02.500638Z",
     "start_time": "2024-05-26T12:25:02.489883Z"
    }
   },
   "cell_type": "code",
   "source": [
    "#Створіть новий DataFrame, де для згрупованих даних за стовпчиком \"Посада\", виконайте агрегацію даних за допомогою методу agg і знайдіть мінімальне та максимальне значення у стовпчику \"Зарплата.в.місяць\"\n",
    "df_new = python_data\n",
    "python_data.groupby('Посада').agg({'Зарплата на місяць': ['min', 'max']})"
   ],
   "id": "e266bac07892696c",
   "outputs": [
    {
     "data": {
      "text/plain": [
       "                         Зарплата на місяць      \n",
       "                                        min   max\n",
       "Посада                                           \n",
       "Junior Software Engineer                100  1250\n",
       "Senior Software Engineer               1300  9200\n",
       "Software Engineer                       500  5400\n",
       "System Architect                       3000  5000\n",
       "Technical Lead                         1425  6200"
      ],
      "text/html": [
       "<div>\n",
       "<style scoped>\n",
       "    .dataframe tbody tr th:only-of-type {\n",
       "        vertical-align: middle;\n",
       "    }\n",
       "\n",
       "    .dataframe tbody tr th {\n",
       "        vertical-align: top;\n",
       "    }\n",
       "\n",
       "    .dataframe thead tr th {\n",
       "        text-align: left;\n",
       "    }\n",
       "\n",
       "    .dataframe thead tr:last-of-type th {\n",
       "        text-align: right;\n",
       "    }\n",
       "</style>\n",
       "<table border=\"1\" class=\"dataframe\">\n",
       "  <thead>\n",
       "    <tr>\n",
       "      <th></th>\n",
       "      <th colspan=\"2\" halign=\"left\">Зарплата на місяць</th>\n",
       "    </tr>\n",
       "    <tr>\n",
       "      <th></th>\n",
       "      <th>min</th>\n",
       "      <th>max</th>\n",
       "    </tr>\n",
       "    <tr>\n",
       "      <th>Посада</th>\n",
       "      <th></th>\n",
       "      <th></th>\n",
       "    </tr>\n",
       "  </thead>\n",
       "  <tbody>\n",
       "    <tr>\n",
       "      <th>Junior Software Engineer</th>\n",
       "      <td>100</td>\n",
       "      <td>1250</td>\n",
       "    </tr>\n",
       "    <tr>\n",
       "      <th>Senior Software Engineer</th>\n",
       "      <td>1300</td>\n",
       "      <td>9200</td>\n",
       "    </tr>\n",
       "    <tr>\n",
       "      <th>Software Engineer</th>\n",
       "      <td>500</td>\n",
       "      <td>5400</td>\n",
       "    </tr>\n",
       "    <tr>\n",
       "      <th>System Architect</th>\n",
       "      <td>3000</td>\n",
       "      <td>5000</td>\n",
       "    </tr>\n",
       "    <tr>\n",
       "      <th>Technical Lead</th>\n",
       "      <td>1425</td>\n",
       "      <td>6200</td>\n",
       "    </tr>\n",
       "  </tbody>\n",
       "</table>\n",
       "</div>"
      ]
     },
     "execution_count": 97,
     "metadata": {},
     "output_type": "execute_result"
    }
   ],
   "execution_count": 97
  },
  {
   "metadata": {
    "ExecuteTime": {
     "end_time": "2024-05-26T12:25:05.389528Z",
     "start_time": "2024-05-26T12:25:02.607448Z"
    }
   },
   "cell_type": "code",
   "source": [
    "#Створіть функцію fill_avg_salary, яка повертатиме середнє значення заробітної плати на місяць. Використовуйте її для методу apply та створіть новий стовпчик \"avg\"\n",
    "def fill_avg_salary(row):\n",
    "    return df[df['Посада'] == row['Посада']]['Зарплата на місяць'].mean()\n",
    "\n",
    "df['avg'] = df.apply(fill_avg_salary, axis=1)\n",
    "\n",
    "salary_stats = df.groupby('Посада')['Зарплата на місяць'].agg(amin='min', amax='max', avg='mean').reset_index().round(2)\n",
    "print(salary_stats)"
   ],
   "id": "6f802c3330cb5beb",
   "outputs": [
    {
     "name": "stdout",
     "output_type": "stream",
     "text": [
      "                           Посада  amin   amax      avg\n",
      "0   Data Scientist / Data Analyst  2700   2700  2700.00\n",
      "1                          DevOps  7000   7000  7000.00\n",
      "2                       ERP / CRM  2000   2000  2000.00\n",
      "3                      HTML coder   385    600   457.00\n",
      "4        Junior Software Engineer    75   2600   605.66\n",
      "5                 Product Manager  3000   3000  3000.00\n",
      "6        Senior Software Engineer   350   9200  3243.20\n",
      "7               Software Engineer   100   7000  1678.63\n",
      "8                System Architect   400  10000  4387.08\n",
      "9                       Team lead  2500   4000  3250.00\n",
      "10                 Technical Lead   500  18000  3664.27\n"
     ]
    }
   ],
   "execution_count": 98
  },
  {
   "metadata": {
    "ExecuteTime": {
     "end_time": "2024-05-26T12:25:05.397957Z",
     "start_time": "2024-05-26T12:25:05.391039Z"
    }
   },
   "cell_type": "code",
   "source": [
    "#Створіть описову статистику за допомогою методу describe для нового стовпчика avg\n",
    "salary_stats.avg.describe()"
   ],
   "id": "85e83c7f206dda4b",
   "outputs": [
    {
     "data": {
      "text/plain": [
       "count      11.000000\n",
       "mean     2907.803636\n",
       "std      1828.363247\n",
       "min       457.000000\n",
       "25%      1839.315000\n",
       "50%      3000.000000\n",
       "75%      3457.135000\n",
       "max      7000.000000\n",
       "Name: avg, dtype: float64"
      ]
     },
     "execution_count": 99,
     "metadata": {},
     "output_type": "execute_result"
    }
   ],
   "execution_count": 99
  },
  {
   "metadata": {
    "ExecuteTime": {
     "end_time": "2024-05-26T12:25:05.408344Z",
     "start_time": "2024-05-26T12:25:05.398977Z"
    }
   },
   "cell_type": "code",
   "source": [
    "#Збережіть отриману таблицю в CSV файл\n",
    "salary_stats.to_csv('2017_jun_final_new.csv', encoding='utf8')"
   ],
   "id": "b25d4606697622f2",
   "outputs": [],
   "execution_count": 100
  },
  {
   "metadata": {
    "ExecuteTime": {
     "end_time": "2024-05-26T12:25:05.601625Z",
     "start_time": "2024-05-26T12:25:05.409356Z"
    }
   },
   "cell_type": "code",
   "source": [
    "%matplotlib inline\n",
    "df_2017_jun_final_new = pd.read_csv(\"2017_jun_final_new.csv\")\n",
    "sns.set_style('darkgrid')\n",
    "plt.bar(df_2017_jun_final_new['Посада'], df_2017_jun_final_new['avg'], width=0.5, align='center', color='green')\n",
    "plt.title('Залежність середньої зарплати від спеціальності')\n",
    "plt.xlabel(\"Посада\", fontsize=10)\n",
    "plt.ylabel(\"Заробітна плата\", fontsize=10)\n",
    "plt.tick_params(labelrotation = 90)\n",
    "plt.show()"
   ],
   "id": "258d5eda949848fa",
   "outputs": [
    {
     "data": {
      "text/plain": [
       "<Figure size 640x480 with 1 Axes>"
      ],
      "image/png": "[encoded data removed]"
     },
     "metadata": {},
     "output_type": "display_data"
    }
   ],
   "execution_count": 101
  },
  {
   "metadata": {
    "ExecuteTime": {
     "end_time": "2024-05-26T12:25:05.767448Z",
     "start_time": "2024-05-26T12:25:05.603638Z"
    }
   },
   "cell_type": "code",
   "source": [
    "%matplotlib inline\n",
    "sns.set_style('whitegrid')\n",
    "sns.scatterplot(x='Посада', y='avg', data=df_2017_jun_final_new, color='orange')\n",
    "plt.tick_params(labelrotation = 90)\n",
    "plt.show()"
   ],
   "id": "d430274faf4c9754",
   "outputs": [
    {
     "data": {
      "text/plain": [
       "<Figure size 640x480 with 1 Axes>"
      ],
      "image/png": "[encoded data removed]"
     },
     "metadata": {},
     "output_type": "display_data"
    }
   ],
   "execution_count": 102
  },
  {
   "metadata": {
    "ExecuteTime": {
     "end_time": "2024-05-26T12:25:05.969093Z",
     "start_time": "2024-05-26T12:25:05.769007Z"
    }
   },
   "cell_type": "code",
   "source": [
    "%matplotlib inline\n",
    "plt.scatter(df_2017_jun_final_new['Посада'], df_2017_jun_final_new['amin'], color='red', label='Мінімальна ЗП')\n",
    "plt.scatter(df_2017_jun_final_new['Посада'], df_2017_jun_final_new['amax'], color='green', label='Максимальна ЗП')\n",
    "plt.xlabel(\"Посада\", fontsize=10)\n",
    "plt.ylabel(\"Заробітна плата\", fontsize=10)\n",
    "plt.xticks(rotation=90)\n",
    "plt.legend()\n",
    "plt.show()"
   ],
   "id": "1b5fddb9a5610196",
   "outputs": [
    {
     "data": {
      "text/plain": [
       "<Figure size 640x480 with 1 Axes>"
      ],
      "image/png": "[encoded data removed]"
     },
     "metadata": {},
     "output_type": "display_data"
    }
   ],
   "execution_count": 103
  }
 ],
 "metadata": {
  "kernelspec": {
   "display_name": "Python 3",
   "language": "python",
   "name": "python3"
  },
  "language_info": {
   "codemirror_mode": {
    "name": "ipython",
    "version": 2
   },
   "file_extension": ".py",
   "mimetype": "text/x-python",
   "name": "python",
   "nbconvert_exporter": "python",
   "pygments_lexer": "ipython2",
   "version": "2.7.6"
  }
 },
 "nbformat": 4,
 "nbformat_minor": 5
}
