{
  "nbformat": 4,
  "nbformat_minor": 0,
  "metadata": {
    "colab": {
      "provenance": [],
      "authorship_tag": "ABX9TyM50nl8OxJTcfXHA/t3Z7cr",
      "include_colab_link": true
    },
    "kernelspec": {
      "name": "python3",
      "display_name": "Python 3"
    },
    "language_info": {
      "name": "python"
    }
  },
  "cells": [
    {
      "cell_type": "markdown",
      "metadata": {
        "id": "view-in-github",
        "colab_type": "text"
      },
      "source": [
        "<a href=\"https://colab.research.google.com/github/dspuliaiev/Data_Science/blob/master/Hw12.ipynb\" target=\"_parent\"><img src=\"https://colab.research.google.com/assets/colab-badge.svg\" alt=\"Open In Colab\"/></a>"
      ]
    },
    {
      "cell_type": "code",
      "execution_count": 3,
      "metadata": {
        "colab": {
          "base_uri": "https://localhost:8080/"
        },
        "id": "c4Ak_O2hpQCQ",
        "outputId": "1e4f1e8d-e093-4f41-9c44-367efb0293c7"
      },
      "outputs": [
        {
          "output_type": "stream",
          "name": "stderr",
          "text": [
            "[nltk_data] Downloading package stopwords to /root/nltk_data...\n",
            "[nltk_data]   Package stopwords is already up-to-date!\n",
            "[nltk_data] Downloading package punkt to /root/nltk_data...\n",
            "[nltk_data]   Package punkt is already up-to-date!\n"
          ]
        }
      ],
      "source": [
        "import nltk\n",
        "from nltk.corpus import stopwords\n",
        "from nltk.tokenize import sent_tokenize\n",
        "from heapq import nlargest\n",
        "import spacy\n",
        "\n",
        "# Завантаження англійських стоп-слів з корпусу NLTK\n",
        "nltk.download('stopwords')\n",
        "nltk.download('punkt')\n",
        "\n",
        "# Визначення тексту для створення анотації\n",
        "text = ('The Orbiter Discovery, OV-103, is considered eligible for listing in the National Register of Historic Places '\n",
        "        '(NRHP) in the context of the U.S. Space Shuttle Program (1969-2011) under Criterion A in the areas of Space '\n",
        "        'Exploration and Transportation and under Criterion C in the area of Engineering. Because it has achieved '\n",
        "        'significance within the past fifty years, Criteria Consideration G applies. Under Criterion A, Discovery is '\n",
        "        'significant as the oldest of the three extant orbiter vehicles constructed for the Space Shuttle Program (SSP), '\n",
        "        'the longest running American space program to date; she was the third of five orbiters built by NASA. Unlike '\n",
        "        'the Mercury, Gemini, and Apollo programs, the SSP’s emphasis was on cost effectiveness and reusability, and '\n",
        "        'eventually the construction of a space station. Including her maiden voyage (launched August 30, 1984), Discovery '\n",
        "        'flew to space thirty-nine times, more than any of the other four orbiters; she was also the first orbiter to fly '\n",
        "        'twenty missions. She had the honor of being chosen as the Return to Flight vehicle after both the Challenger and '\n",
        "        'Columbia accidents. Discovery was the first shuttle to fly with the redesigned SRBs, a result of the Challenger '\n",
        "        'accident, and the first shuttle to fly with the Phase II and Block I SSME. Discovery also carried the Hubble '\n",
        "        'Space Telescope to orbit and performed two of the five servicing missions to the observatory. She flew the first '\n",
        "        'and last missions for the SSP. After her retirement, she was transferred to the Steven F. Udvar-Hazy Center in '\n",
        "        'Virginia where she remains on display. In total, Discovery spent 365 days in space, traveling 148,221,675 miles, '\n",
        "        'and completed 5,830 orbits around Earth.')\n",
        "\n",
        "# Токенізація тексту на речення\n",
        "sentences = sent_tokenize(text)  # розбиває текст на речення\n",
        "\n",
        "# Видалення стоп-слів та створення частотного розподілу\n",
        "stop_words = set(stopwords.words('english'))  # завантаження англійських стоп-слів\n",
        "\n",
        "word_frequencies = {}  # порожній словник для зберігання частот слів\n",
        "for word in nltk.word_tokenize(text):  # токенізує текст на окремі слова\n",
        "    if word.lower() not in stop_words:  # перевірка, чи слово не є стоп-словом\n",
        "        if word.lower() not in word_frequencies:\n",
        "            word_frequencies[word.lower()] = 1  # додавання нового слова до словника\n",
        "        else:\n",
        "            word_frequencies[word.lower()] += 1  # збільшення частоти слова\n",
        "\n",
        "# Нормалізація частот слів\n",
        "maximum_frequncy = max(word_frequencies.values())  # знаходження максимальної частоти слова\n",
        "\n",
        "for word in word_frequencies.keys():\n",
        "    word_frequencies[word] = (word_frequencies[word] / maximum_frequncy)  # нормалізація частоти кожного слова\n",
        "\n",
        "# Підрахунок ваги речень\n",
        "sentence_scores = {}  # порожній словник для зберігання оцінок речень\n",
        "for sent in sentences:\n",
        "    for word in nltk.word_tokenize(sent.lower()):  # токенізація речень на слова\n",
        "        if word in word_frequencies.keys():  # перевірка, чи слово є у словнику частот\n",
        "            if sent not in sentence_scores:\n",
        "                sentence_scores[sent] = word_frequencies[word]  # додавання речення до словника з початковою оцінкою\n",
        "            else:\n",
        "                sentence_scores[sent] += word_frequencies[word]  # збільшення оцінки речення\n",
        "\n",
        "# Створення анотації\n",
        "summary_sentences = nlargest(3, sentence_scores, key=sentence_scores.get)  # вибір трьох найважливіших речень\n",
        "summary = ' '.join(summary_sentences)  # об'єднання вибраних речень у підсумковий текст\n",
        "\n",
        "\n",
        "\n",
        "# Використання SpaCy для створення анотації\n",
        "nlp = spacy.load('en_core_web_sm')\n",
        "doc = nlp(text)\n",
        "\n",
        "# Токенізація тексту на речення\n",
        "sentences_spacy = list(doc.sents)  # створення списку речень за допомогою SpaCy\n",
        "\n",
        "# Підрахунок ваги речень за допомогою SpaCy\n",
        "sentence_scores_spacy = {sent: len(sent) for sent in sentences_spacy}  # оцінка речень за їхньою довжиною\n",
        "\n",
        "# Створення анотації за допомогою SpaCy\n",
        "summary_sentences_spacy = nlargest(3, sentence_scores_spacy, key=sentence_scores_spacy.get)  # вибір трьох найважливіших речень\n",
        "summary_spacy = ' '.join([sent.text for sent in summary_sentences_spacy])  # об'єднання вибраних речень у підсумковий текст\n"
      ]
    },
    {
      "cell_type": "code",
      "source": [
        "print(\"Summary (NLTK):\")\n",
        "print(summary)"
      ],
      "metadata": {
        "colab": {
          "base_uri": "https://localhost:8080/"
        },
        "id": "TIjlNYxFpVy1",
        "outputId": "3ccd983c-9c99-4b04-fdc1-3c5a8aca6c9d"
      },
      "execution_count": 4,
      "outputs": [
        {
          "output_type": "stream",
          "name": "stdout",
          "text": [
            "Summary (NLTK):\n",
            "Including her maiden voyage (launched August 30, 1984), Discovery flew to space thirty-nine times, more than any of the other four orbiters; she was also the first orbiter to fly twenty missions. The Orbiter Discovery, OV-103, is considered eligible for listing in the National Register of Historic Places (NRHP) in the context of the U.S. Space Shuttle Program (1969-2011) under Criterion A in the areas of Space Exploration and Transportation and under Criterion C in the area of Engineering. Under Criterion A, Discovery is significant as the oldest of the three extant orbiter vehicles constructed for the Space Shuttle Program (SSP), the longest running American space program to date; she was the third of five orbiters built by NASA.\n"
          ]
        }
      ]
    },
    {
      "cell_type": "code",
      "source": [
        "print(\"Summary (SpaCy):\")\n",
        "print(summary_spacy)"
      ],
      "metadata": {
        "colab": {
          "base_uri": "https://localhost:8080/"
        },
        "id": "gdR5vX-1qP4Z",
        "outputId": "2f2e7010-f3cc-4611-f8ff-b6d02b44802a"
      },
      "execution_count": 5,
      "outputs": [
        {
          "output_type": "stream",
          "name": "stdout",
          "text": [
            "Summary (SpaCy):\n",
            "The Orbiter Discovery, OV-103, is considered eligible for listing in the National Register of Historic Places (NRHP) in the context of the U.S. Space Shuttle Program (1969-2011) under Criterion A in the areas of Space Exploration and Transportation and under Criterion C in the area of Engineering. Under Criterion A, Discovery is significant as the oldest of the three extant orbiter vehicles constructed for the Space Shuttle Program (SSP), the longest running American space program to date; she was the third of five orbiters built by NASA. Including her maiden voyage (launched August 30, 1984), Discovery flew to space thirty-nine times, more than any of the other four orbiters; she was also the first orbiter to fly twenty missions.\n"
          ]
        }
      ]
    }
  ]
}