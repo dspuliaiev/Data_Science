{
 "cells": [
  {
   "cell_type": "code",
   "id": "initial_id",
   "metadata": {
    "collapsed": true,
    "ExecuteTime": {
     "end_time": "2024-06-26T10:47:33.313256Z",
     "start_time": "2024-06-26T10:47:32.502189Z"
    }
   },
   "source": [
    "import pandas as pd\n",
    "from surprise import Dataset, Reader, SVD, SVDpp, NMF\n",
    "from surprise.model_selection import cross_validate, GridSearchCV\n",
    "import matplotlib.pyplot as plt"
   ],
   "outputs": [],
   "execution_count": 61
  },
  {
   "metadata": {
    "ExecuteTime": {
     "end_time": "2024-06-26T10:47:33.318973Z",
     "start_time": "2024-06-26T10:47:33.315262Z"
    }
   },
   "cell_type": "code",
   "source": "file_path = 'data_hw_7/ml-100k/u.data'",
   "id": "db13f37b3b888349",
   "outputs": [],
   "execution_count": 62
  },
  {
   "metadata": {
    "ExecuteTime": {
     "end_time": "2024-06-26T10:47:33.324739Z",
     "start_time": "2024-06-26T10:47:33.319980Z"
    }
   },
   "cell_type": "code",
   "source": "reader = Reader('ml-100k')",
   "id": "4e963fa08a4d66e0",
   "outputs": [],
   "execution_count": 63
  },
  {
   "metadata": {
    "ExecuteTime": {
     "end_time": "2024-06-26T10:47:33.459134Z",
     "start_time": "2024-06-26T10:47:33.325883Z"
    }
   },
   "cell_type": "code",
   "source": "data = Dataset.load_from_file(file_path, reader=reader)",
   "id": "808e3ebda53a4f8b",
   "outputs": [],
   "execution_count": 64
  },
  {
   "metadata": {
    "ExecuteTime": {
     "end_time": "2024-06-26T10:47:33.466371Z",
     "start_time": "2024-06-26T10:47:33.461143Z"
    }
   },
   "cell_type": "code",
   "source": [
    "#Налаштування гіперпараметрів\n",
    "param_grid_svd = {\n",
    "    'n_factors': [100],\n",
    "    'n_epochs': [20],\n",
    "    'lr_all': [0.005],\n",
    "    'reg_all': [0.4]\n",
    "}\n",
    "\n",
    "param_grid_svdpp = {\n",
    "    'n_factors': [50],\n",
    "    'n_epochs': [20],\n",
    "    'lr_all': [0.005],\n",
    "    'reg_all': [0.4]\n",
    "}\n",
    "\n",
    "param_grid_nmf = {\n",
    "    'n_factors': [10],\n",
    "    'n_epochs': [20],\n",
    "    'reg_pu': [0.06],\n",
    "    'reg_qi': [0.06]\n",
    "}"
   ],
   "id": "c81039778015ccb6",
   "outputs": [],
   "execution_count": 65
  },
  {
   "metadata": {
    "ExecuteTime": {
     "end_time": "2024-06-26T10:47:34.974571Z",
     "start_time": "2024-06-26T10:47:33.468545Z"
    }
   },
   "cell_type": "code",
   "source": [
    "# GridSearchCV для SVD\n",
    "gs_svd = GridSearchCV(SVD, param_grid_svd, measures=['rmse'], cv=2)\n",
    "gs_svd.fit(data)\n",
    "best_svd_params = gs_svd.best_params['rmse']\n",
    "print(f\"Best SVD parameters: {best_svd_params}\")"
   ],
   "id": "85d9068f2a022862",
   "outputs": [
    {
     "name": "stdout",
     "output_type": "stream",
     "text": [
      "Best SVD parameters: {'n_factors': 100, 'n_epochs': 20, 'lr_all': 0.005, 'reg_all': 0.4}\n"
     ]
    }
   ],
   "execution_count": 66
  },
  {
   "metadata": {
    "ExecuteTime": {
     "end_time": "2024-06-26T10:48:02.395994Z",
     "start_time": "2024-06-26T10:47:34.975578Z"
    }
   },
   "cell_type": "code",
   "source": [
    "# GridSearchCV для SVD++\n",
    "gs_svdpp = GridSearchCV(SVDpp, param_grid_svdpp, measures=['rmse'], cv=2)\n",
    "gs_svdpp.fit(data)\n",
    "best_svdpp_params = gs_svdpp.best_params['rmse']\n",
    "print(f\"Best SVD++ parameters: {best_svdpp_params}\")"
   ],
   "id": "654bce43ecb82cc7",
   "outputs": [
    {
     "name": "stdout",
     "output_type": "stream",
     "text": [
      "Best SVD++ parameters: {'n_factors': 50, 'n_epochs': 20, 'lr_all': 0.005, 'reg_all': 0.4}\n"
     ]
    }
   ],
   "execution_count": 67
  },
  {
   "metadata": {
    "ExecuteTime": {
     "end_time": "2024-06-26T10:48:03.662691Z",
     "start_time": "2024-06-26T10:48:02.396999Z"
    }
   },
   "cell_type": "code",
   "source": [
    "# GridSearchCV для NMF\n",
    "gs_nmf = GridSearchCV(NMF, param_grid_nmf, measures=['rmse'], cv=2)\n",
    "gs_nmf.fit(data)\n",
    "best_nmf_params = gs_nmf.best_params['rmse']\n",
    "print(f\"Best NMF parameters: {best_nmf_params}\")"
   ],
   "id": "faaa92e59031fb38",
   "outputs": [
    {
     "name": "stdout",
     "output_type": "stream",
     "text": [
      "Best NMF parameters: {'n_factors': 10, 'n_epochs': 20, 'reg_pu': 0.06, 'reg_qi': 0.06}\n"
     ]
    }
   ],
   "execution_count": 68
  },
  {
   "metadata": {
    "ExecuteTime": {
     "end_time": "2024-06-26T10:48:03.703530Z",
     "start_time": "2024-06-26T10:48:03.663701Z"
    }
   },
   "cell_type": "code",
   "source": [
    "# Оцінка найкращих моделей за допомогою крос-валідації\n",
    "algo_svd = SVD(**best_svd_params)\n",
    "algo_svdpp = SVDpp(**best_svdpp_params)\n",
    "algo_nmf = NMF(**best_nmf_params)"
   ],
   "id": "2f93c46444d44d97",
   "outputs": [],
   "execution_count": 69
  },
  {
   "metadata": {
    "ExecuteTime": {
     "end_time": "2024-06-26T10:48:07.364098Z",
     "start_time": "2024-06-26T10:48:03.705300Z"
    }
   },
   "cell_type": "code",
   "source": [
    "print(\"Evaluating SVD:\")\n",
    "result_svd = cross_validate(algo_svd, data, measures=['rmse', 'mae'], cv=5, verbose=True)\n",
    "SVD_result = pd.DataFrame.from_dict(result_svd).mean(axis=0)"
   ],
   "id": "8185d2d14b0b145f",
   "outputs": [
    {
     "name": "stdout",
     "output_type": "stream",
     "text": [
      "Evaluating SVD:\n",
      "Evaluating RMSE, MAE of algorithm SVD on 5 split(s).\n",
      "\n",
      "                  Fold 1  Fold 2  Fold 3  Fold 4  Fold 5  Mean    Std     \n",
      "RMSE (testset)    0.9641  0.9617  0.9535  0.9470  0.9585  0.9570  0.0061  \n",
      "MAE (testset)     0.7701  0.7714  0.7626  0.7594  0.7685  0.7664  0.0046  \n",
      "Fit time          0.59    0.58    0.50    0.50    0.50    0.53    0.04    \n",
      "Test time         0.08    0.08    0.16    0.08    0.07    0.09    0.03    \n"
     ]
    }
   ],
   "execution_count": 70
  },
  {
   "metadata": {
    "ExecuteTime": {
     "end_time": "2024-06-26T10:50:27.315584Z",
     "start_time": "2024-06-26T10:48:07.365107Z"
    }
   },
   "cell_type": "code",
   "source": [
    "print(\"Evaluating SVD++:\")\n",
    "result_svdpp = cross_validate(algo_svdpp, data, measures=['rmse', 'mae'], cv=5, verbose=True)\n",
    "SVDPP_result = pd.DataFrame.from_dict(result_svdpp).mean(axis=0)"
   ],
   "id": "634f6f3dc868ef99",
   "outputs": [
    {
     "name": "stdout",
     "output_type": "stream",
     "text": [
      "Evaluating SVD++:\n",
      "Evaluating RMSE, MAE of algorithm SVDpp on 5 split(s).\n",
      "\n",
      "                  Fold 1  Fold 2  Fold 3  Fold 4  Fold 5  Mean    Std     \n",
      "RMSE (testset)    0.9661  0.9535  0.9590  0.9464  0.9568  0.9563  0.0065  \n",
      "MAE (testset)     0.7744  0.7646  0.7667  0.7587  0.7657  0.7660  0.0050  \n",
      "Fit time          25.24   25.31   25.05   25.17   25.12   25.18   0.09    \n",
      "Test time         3.04    2.56    2.77    2.64    2.51    2.70    0.19    \n"
     ]
    }
   ],
   "execution_count": 71
  },
  {
   "metadata": {
    "ExecuteTime": {
     "end_time": "2024-06-26T10:50:30.165399Z",
     "start_time": "2024-06-26T10:50:27.317590Z"
    }
   },
   "cell_type": "code",
   "source": [
    "print(\"Evaluating NMF:\")\n",
    "result_nmf = cross_validate(algo_nmf, data, measures=['rmse', 'mae'], cv=5, verbose=True)\n",
    "NMF_result = pd.DataFrame.from_dict(result_nmf).mean(axis=0)"
   ],
   "id": "732ae8383547f2ff",
   "outputs": [
    {
     "name": "stdout",
     "output_type": "stream",
     "text": [
      "Evaluating NMF:\n",
      "Evaluating RMSE, MAE of algorithm NMF on 5 split(s).\n",
      "\n",
      "                  Fold 1  Fold 2  Fold 3  Fold 4  Fold 5  Mean    Std     \n",
      "RMSE (testset)    1.0648  1.0688  1.0557  1.0628  1.0491  1.0603  0.0070  \n",
      "MAE (testset)     0.8752  0.8783  0.8655  0.8724  0.8581  0.8699  0.0073  \n",
      "Fit time          0.38    0.41    0.35    0.36    0.39    0.38    0.02    \n",
      "Test time         0.07    0.17    0.07    0.07    0.06    0.09    0.04    \n"
     ]
    }
   ],
   "execution_count": 72
  },
  {
   "metadata": {
    "ExecuteTime": {
     "end_time": "2024-06-26T10:53:08.535540Z",
     "start_time": "2024-06-26T10:53:08.525585Z"
    }
   },
   "cell_type": "code",
   "source": [
    "Final_result = pd.DataFrame(columns=['SVD', 'SVDpp', 'NMF'])\n",
    "\n",
    "Final_result['SVD'] = SVD_result\n",
    "Final_result['SVDpp'] = SVDPP_result\n",
    "Final_result['NMF'] = NMF_result\n",
    "\n",
    "Final_result"
   ],
   "id": "87db19eb684ed7ee",
   "outputs": [
    {
     "data": {
      "text/plain": [
       "                SVD      SVDpp       NMF\n",
       "test_rmse  0.956957   0.956324  1.060252\n",
       "test_mae   0.766425   0.766037  0.869909\n",
       "fit_time   0.534546  25.179530  0.377113\n",
       "test_time  0.093008   2.704485  0.087816"
      ],
      "text/html": [
       "<div>\n",
       "<style scoped>\n",
       "    .dataframe tbody tr th:only-of-type {\n",
       "        vertical-align: middle;\n",
       "    }\n",
       "\n",
       "    .dataframe tbody tr th {\n",
       "        vertical-align: top;\n",
       "    }\n",
       "\n",
       "    .dataframe thead th {\n",
       "        text-align: right;\n",
       "    }\n",
       "</style>\n",
       "<table border=\"1\" class=\"dataframe\">\n",
       "  <thead>\n",
       "    <tr style=\"text-align: right;\">\n",
       "      <th></th>\n",
       "      <th>SVD</th>\n",
       "      <th>SVDpp</th>\n",
       "      <th>NMF</th>\n",
       "    </tr>\n",
       "  </thead>\n",
       "  <tbody>\n",
       "    <tr>\n",
       "      <th>test_rmse</th>\n",
       "      <td>0.956957</td>\n",
       "      <td>0.956324</td>\n",
       "      <td>1.060252</td>\n",
       "    </tr>\n",
       "    <tr>\n",
       "      <th>test_mae</th>\n",
       "      <td>0.766425</td>\n",
       "      <td>0.766037</td>\n",
       "      <td>0.869909</td>\n",
       "    </tr>\n",
       "    <tr>\n",
       "      <th>fit_time</th>\n",
       "      <td>0.534546</td>\n",
       "      <td>25.179530</td>\n",
       "      <td>0.377113</td>\n",
       "    </tr>\n",
       "    <tr>\n",
       "      <th>test_time</th>\n",
       "      <td>0.093008</td>\n",
       "      <td>2.704485</td>\n",
       "      <td>0.087816</td>\n",
       "    </tr>\n",
       "  </tbody>\n",
       "</table>\n",
       "</div>"
      ]
     },
     "execution_count": 76,
     "metadata": {},
     "output_type": "execute_result"
    }
   ],
   "execution_count": 76
  },
  {
   "metadata": {
    "ExecuteTime": {
     "end_time": "2024-06-26T10:59:12.751872Z",
     "start_time": "2024-06-26T10:59:12.551333Z"
    }
   },
   "cell_type": "code",
   "source": [
    "algorithms = Final_result.columns.tolist()\n",
    "metrics = Final_result.index.tolist()\n",
    "\n",
    "x = np.arange(len(algorithms))\n",
    "width = 0.2\n",
    "multiplier = 0\n",
    "\n",
    "fig, ax = plt.subplots(figsize=(12, 6))\n",
    "\n",
    "for metric in metrics:\n",
    "    offset = width * multiplier\n",
    "    values = Final_result.loc[metric].values\n",
    "    rects = ax.bar(x + offset, values, width, label=metric)\n",
    "    ax.bar_label(rects, fmt='%.3f', padding=3, rotation=90, fontsize=8)\n",
    "    multiplier += 1\n",
    "\n",
    "ax.set_ylabel('Values')\n",
    "ax.set_title('Comparison of SVD, SVDpp, and NMF Algorithms')\n",
    "ax.set_xticks(x + width, algorithms)\n",
    "ax.legend(loc='upper left', ncols=2)\n",
    "ax.set_ylim(0, Final_result.values.max() * 1.1)  \n",
    "\n",
    "plt.tight_layout()\n",
    "plt.show()"
   ],
   "id": "ae3c33a2d6813534",
   "outputs": [
    {
     "data": {
      "text/plain": [
       "<Figure size 1200x600 with 1 Axes>"
      ],
      "image/png": "[encoded data removed]"
     },
     "metadata": {},
     "output_type": "display_data"
    }
   ],
   "execution_count": 83
  },
  {
   "metadata": {},
   "cell_type": "markdown",
   "source": "",
   "id": "8af456af4200d12d"
  },
  {
   "metadata": {},
   "cell_type": "markdown",
   "source": [
    "\n",
    "##Висновки\n",
    "\n",
    "SVD (Сингулярний розклад матриці):\n",
    "\n",
    "Має хорошу точність прогнозування з RMSE 0,957 та MAE 0,766. Демонструє збалансовану продуктивність між точністю та швидкістю. Час навчання (fit_time) складає 0,53 секунди, що є середнім показником. Час тестування (test_time) дуже швидкий - 0,093 секунди.\n",
    "\n",
    "\n",
    "SVDpp (SVD++):\n",
    "\n",
    "Показує найкращу точність прогнозування з найнижчими RMSE (0,956) та MAE (0,766). Однак має значно довший час навчання - 25,18 секунд, що набагато більше за інші моделі.\n",
    "Час тестування також найдовший - 2,7 секунди. Найкраща модель за точністю, але найповільніша у навчанні та тестуванні.\n",
    "\n",
    "\n",
    "NMF (Невід'ємна матрична факторизація):\n",
    "\n",
    "Має найгіршу точність прогнозування з RMSE 1,060 та MAE 0,870. Проте демонструє найшвидший час навчання - лише 0,377 секунди. Час тестування також найшвидший - 0,088 секунди.\n",
    "Найшвидша модель, але з найнижчою точністю.\n",
    "\n",
    "\n",
    "\n",
    "##Загальні висновки:\n",
    "\n",
    "SVDpp забезпечує найкращу точність, але потребує значно більше часу на навчання та тестування.\n",
    "SVD пропонує хороший баланс між точністю та швидкістю.\n",
    "NMF є найшвидшою, але найменш точною моделлю.\n",
    "Вибір моделі залежить від пріоритетів: якщо потрібна найвища точність і час не критичний - SVDpp; якщо важлива швидкість - NMF; якщо потрібен баланс - SVD."
   ],
   "id": "a5253b779c1efdc0"
  }
 ],
 "metadata": {
  "kernelspec": {
   "display_name": "Python 3",
   "language": "python",
   "name": "python3"
  },
  "language_info": {
   "codemirror_mode": {
    "name": "ipython",
    "version": 2
   },
   "file_extension": ".py",
   "mimetype": "text/x-python",
   "name": "python",
   "nbconvert_exporter": "python",
   "pygments_lexer": "ipython2",
   "version": "2.7.6"
  }
 },
 "nbformat": 4,
 "nbformat_minor": 5
}
