{
  "nbformat": 4,
  "nbformat_minor": 0,
  "metadata": {
    "colab": {
      "provenance": [],
      "gpuType": "T4",
      "authorship_tag": "ABX9TyNrAvBn+dimoFsLhKlRu8zd",
      "include_colab_link": true
    },
    "kernelspec": {
      "name": "python3",
      "display_name": "Python 3"
    },
    "language_info": {
      "name": "python"
    },
    "accelerator": "GPU"
  },
  "cells": [
    {
      "cell_type": "markdown",
      "metadata": {
        "id": "view-in-github",
        "colab_type": "text"
      },
      "source": [
        "<a href=\"https://colab.research.google.com/github/dspuliaiev/Data_Science/blob/master/Hw11.ipynb\" target=\"_parent\"><img src=\"https://colab.research.google.com/assets/colab-badge.svg\" alt=\"Open In Colab\"/></a>"
      ]
    },
    {
      "cell_type": "code",
      "execution_count": 22,
      "metadata": {
        "id": "noAnRrfY1PVD"
      },
      "outputs": [],
      "source": [
        "import numpy as np\n",
        "import pandas as pd\n",
        "import matplotlib.pyplot as plt\n",
        "from keras.datasets import imdb\n",
        "from keras.preprocessing import sequence\n",
        "from keras.models import Sequential\n",
        "from keras.layers import Embedding, SimpleRNN, LSTM, Bidirectional, Dense, Dropout\n",
        "\n",
        "# Завантаження даних\n",
        "max_features = 20000  # Кількість слів\n",
        "max_len = 200  # Максимальна довжина рецензії\n",
        "\n",
        "(X_train, y_train), (X_test, y_test) = imdb.load_data(num_words=max_features)\n",
        "\n",
        "# Заповнення або обрізання рецензій до однакової довжини\n",
        "X_train = sequence.pad_sequences(X_train, maxlen=max_len)\n",
        "X_test = sequence.pad_sequences(X_test, maxlen=max_len)\n"
      ]
    },
    {
      "cell_type": "code",
      "source": [
        "## RNN\n",
        "\n",
        "model_rnn = Sequential()\n",
        "model_rnn.add(Embedding(max_features, 128, input_length=max_len))\n",
        "model_rnn.add(SimpleRNN(128, return_sequences=False))\n",
        "model_rnn.add(Dense(1, activation='sigmoid'))\n",
        "\n",
        "model_rnn.compile(optimizer='adam', loss='binary_crossentropy', metrics=['accuracy'])\n",
        "history_rnn = model_rnn.fit(X_train, y_train, epochs=3, batch_size=128, validation_split=0.2)\n",
        "\n",
        "rnn_acc = model_rnn.evaluate(X_test, y_test)[1]\n"
      ],
      "metadata": {
        "colab": {
          "base_uri": "https://localhost:8080/"
        },
        "id": "YhU3zhbJ1aiW",
        "outputId": "16a13555-98c6-421c-9bf9-05c06b6e31c1"
      },
      "execution_count": 23,
      "outputs": [
        {
          "output_type": "stream",
          "name": "stdout",
          "text": [
            "Epoch 1/3\n",
            "157/157 [==============================] - 44s 269ms/step - loss: 0.6513 - accuracy: 0.6007 - val_loss: 0.5090 - val_accuracy: 0.7572\n",
            "Epoch 2/3\n",
            "157/157 [==============================] - 36s 230ms/step - loss: 0.4190 - accuracy: 0.8118 - val_loss: 0.4867 - val_accuracy: 0.7902\n",
            "Epoch 3/3\n",
            "157/157 [==============================] - 35s 224ms/step - loss: 0.1536 - accuracy: 0.9427 - val_loss: 0.5550 - val_accuracy: 0.7720\n",
            "782/782 [==============================] - 14s 18ms/step - loss: 0.5635 - accuracy: 0.7652\n"
          ]
        }
      ]
    },
    {
      "cell_type": "code",
      "source": [
        "## LSTM\n",
        "\n",
        "model_lstm = Sequential()\n",
        "model_lstm.add(Embedding(max_features, 128, input_length=max_len))\n",
        "model_lstm.add(LSTM(128, return_sequences=False))\n",
        "model_lstm.add(Dense(1, activation='sigmoid'))\n",
        "\n",
        "model_lstm.compile(optimizer='adam', loss='binary_crossentropy', metrics=['accuracy'])\n",
        "history_lstm = model_lstm.fit(X_train, y_train, epochs=3, batch_size=128, validation_split=0.2)\n",
        "\n",
        "lstm_acc = model_lstm.evaluate(X_test, y_test)[1]\n"
      ],
      "metadata": {
        "colab": {
          "base_uri": "https://localhost:8080/"
        },
        "id": "zjrjVPTy1gWX",
        "outputId": "6eeb88eb-fce9-4cfd-ca8e-84726363302f"
      },
      "execution_count": 24,
      "outputs": [
        {
          "output_type": "stream",
          "name": "stdout",
          "text": [
            "Epoch 1/3\n",
            "157/157 [==============================] - 19s 104ms/step - loss: 0.4836 - accuracy: 0.7582 - val_loss: 0.3237 - val_accuracy: 0.8666\n",
            "Epoch 2/3\n",
            "157/157 [==============================] - 12s 77ms/step - loss: 0.2348 - accuracy: 0.9108 - val_loss: 0.3454 - val_accuracy: 0.8536\n",
            "Epoch 3/3\n",
            "157/157 [==============================] - 9s 55ms/step - loss: 0.1438 - accuracy: 0.9478 - val_loss: 0.3586 - val_accuracy: 0.8688\n",
            "782/782 [==============================] - 4s 5ms/step - loss: 0.3880 - accuracy: 0.8560\n"
          ]
        }
      ]
    },
    {
      "cell_type": "code",
      "source": [
        "## Двостороння LSTM\n",
        "\n",
        "model_bilstm = Sequential()\n",
        "model_bilstm.add(Embedding(max_features, 128, input_length=max_len))\n",
        "model_bilstm.add(Bidirectional(LSTM(128, return_sequences=False)))\n",
        "model_bilstm.add(Dense(1, activation='sigmoid'))\n",
        "\n",
        "model_bilstm.compile(optimizer='adam', loss='binary_crossentropy', metrics=['accuracy'])\n",
        "history_bilstm = model_bilstm.fit(X_train, y_train, epochs=3, batch_size=128, validation_split=0.2)\n",
        "\n",
        "bilstm_acc = model_bilstm.evaluate(X_test, y_test)[1]\n"
      ],
      "metadata": {
        "colab": {
          "base_uri": "https://localhost:8080/"
        },
        "id": "EeXUIaFJ1td3",
        "outputId": "760eaf5b-e248-4fae-a6dc-e7acdb1dd93d"
      },
      "execution_count": 25,
      "outputs": [
        {
          "output_type": "stream",
          "name": "stdout",
          "text": [
            "Epoch 1/3\n",
            "157/157 [==============================] - 22s 117ms/step - loss: 0.4254 - accuracy: 0.7969 - val_loss: 0.4234 - val_accuracy: 0.8394\n",
            "Epoch 2/3\n",
            "157/157 [==============================] - 14s 90ms/step - loss: 0.2131 - accuracy: 0.9205 - val_loss: 0.3184 - val_accuracy: 0.8726\n",
            "Epoch 3/3\n",
            "157/157 [==============================] - 10s 63ms/step - loss: 0.1231 - accuracy: 0.9577 - val_loss: 0.3440 - val_accuracy: 0.8650\n",
            "782/782 [==============================] - 7s 8ms/step - loss: 0.3556 - accuracy: 0.8624\n"
          ]
        }
      ]
    },
    {
      "cell_type": "code",
      "source": [
        "## Глибока LSTM\n",
        "\n",
        "model_deep = Sequential()\n",
        "model_deep.add(Embedding(max_features, 128, input_length=max_len))\n",
        "model_deep.add(LSTM(128, return_sequences=True))\n",
        "model_deep.add(Dropout(0.5))\n",
        "model_deep.add(LSTM(128, return_sequences=False))\n",
        "model_deep.add(Dense(1, activation='sigmoid'))\n",
        "\n",
        "model_deep.compile(optimizer='adam', loss='binary_crossentropy', metrics=['accuracy'])\n",
        "history_deep = model_deep.fit(X_train, y_train, epochs=3, batch_size=128, validation_split=0.2)\n",
        "\n",
        "deep_acc = model_deep.evaluate(X_test, y_test)[1]\n"
      ],
      "metadata": {
        "colab": {
          "base_uri": "https://localhost:8080/"
        },
        "id": "S3t4QeGF14ny",
        "outputId": "ed213b1a-04fb-4ea2-a215-37910147fbe0"
      },
      "execution_count": 26,
      "outputs": [
        {
          "output_type": "stream",
          "name": "stdout",
          "text": [
            "Epoch 1/3\n",
            "157/157 [==============================] - 21s 113ms/step - loss: 0.4361 - accuracy: 0.7893 - val_loss: 0.2993 - val_accuracy: 0.8758\n",
            "Epoch 2/3\n",
            "157/157 [==============================] - 14s 86ms/step - loss: 0.2046 - accuracy: 0.9231 - val_loss: 0.3978 - val_accuracy: 0.8406\n",
            "Epoch 3/3\n",
            "157/157 [==============================] - 10s 62ms/step - loss: 0.1186 - accuracy: 0.9585 - val_loss: 0.3788 - val_accuracy: 0.8530\n",
            "782/782 [==============================] - 6s 8ms/step - loss: 0.4088 - accuracy: 0.8456\n"
          ]
        }
      ]
    },
    {
      "cell_type": "code",
      "source": [
        "## Порівняння результатів\n",
        "\n",
        "print(f\"Simple RNN Accuracy: {100*rnn_acc:.1f} %\")\n",
        "print(f\"LSTM Accuracy: {100*lstm_acc:.1f} %\")\n",
        "print(f\"Bidirectional LSTM Accuracy: {100*bilstm_acc:.1f} %\")\n",
        "print(f\"Deep LSTM Accuracy: {100*deep_acc:.1f} %\")"
      ],
      "metadata": {
        "colab": {
          "base_uri": "https://localhost:8080/"
        },
        "id": "mcQq9gSA1_PZ",
        "outputId": "a4c1157b-6ed2-4042-ca3d-98905f997337"
      },
      "execution_count": 27,
      "outputs": [
        {
          "output_type": "stream",
          "name": "stdout",
          "text": [
            "Simple RNN Accuracy: 76.5 %\n",
            "LSTM Accuracy: 85.6 %\n",
            "Bidirectional LSTM Accuracy: 86.2 %\n",
            "Deep LSTM Accuracy: 84.6 %\n"
          ]
        }
      ]
    },
    {
      "cell_type": "markdown",
      "source": [
        "## Висновки:\n",
        "\n",
        "Простий RNN: Точність на тестових даних: 76.52%\n",
        "Проста RNN показує прийнятну точність, але значно відстає від більш складних моделей.\n",
        "\n",
        "\n",
        "LSTM: Точність на тестових даних: 86.24%\n",
        "Модель LSTM значно покращує продуктивність у порівнянні з простою RNN.\n",
        "\n",
        "\n",
        "Двостороння LSTM: Точність на тестових даних: 85.64%\n",
        "Двостороння LSTM враховує контекст як з минулого, так і з майбутнього, що дає високий рівень точності.\n",
        "\n",
        "\n",
        "Глибока LSTM: Точність на тестових даних: 84.56%\n",
        "Глибока LSTM з двома шарами показує хорошу точність, оскільки здатна захоплювати більш складні патерни у даних.\n",
        "\n",
        "\n",
        "При збільшенні кількості епох, було помічено, що на тренувальних даних точність продовжує зростати, але на валідаційних даних починає знижуватись. Це свідчить про перенавчання моделі, коли вона занадто добре підлаштовується під тренувальні дані, але втрачає здатність узагальнювати на нові дані. Зростання валідаційних втрат є індикатором цього явища."
      ],
      "metadata": {
        "id": "prEh-g7dGIDS"
      }
    }
  ]
}