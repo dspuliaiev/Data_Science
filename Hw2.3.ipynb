{
 "cells": [
  {
   "cell_type": "code",
   "id": "initial_id",
   "metadata": {
    "collapsed": true,
    "ExecuteTime": {
     "end_time": "2024-05-26T11:44:14.778065Z",
     "start_time": "2024-05-26T11:44:14.774413Z"
    }
   },
   "source": [
    "import pandas as pd\n",
    "import matplotlib.pyplot as plt\n",
    "import seaborn as sns"
   ],
   "outputs": [],
   "execution_count": 269
  },
  {
   "metadata": {
    "ExecuteTime": {
     "end_time": "2024-05-26T11:44:14.840019Z",
     "start_time": "2024-05-26T11:44:14.834599Z"
    }
   },
   "cell_type": "code",
   "source": [
    "# Прочитайте таблицю з файлу \"2017_jun_final.csv\" \n",
    "df = pd.read_csv(\"bestsellers_with_categories.csv\")"
   ],
   "id": "22e58422f727423c",
   "outputs": [],
   "execution_count": 270
  },
  {
   "metadata": {
    "ExecuteTime": {
     "end_time": "2024-05-26T11:44:14.918875Z",
     "start_time": "2024-05-26T11:44:14.910575Z"
    }
   },
   "cell_type": "code",
   "source": [
    "# Прочитайте отриману таблицю, використовуючи метод head\n",
    "df.head()"
   ],
   "id": "21833f618ae874bb",
   "outputs": [
    {
     "data": {
      "text/plain": [
       "                                                Name  \\\n",
       "0                      10-Day Green Smoothie Cleanse   \n",
       "1                                  11/22/63: A Novel   \n",
       "2            12 Rules for Life: An Antidote to Chaos   \n",
       "3                             1984 (Signet Classics)   \n",
       "4  5,000 Awesome Facts (About Everything!) (Natio...   \n",
       "\n",
       "                     Author  User Rating  Reviews  Price  Year        Genre  \n",
       "0                  JJ Smith          4.7    17350      8  2016  Non Fiction  \n",
       "1              Stephen King          4.6     2052     22  2011      Fiction  \n",
       "2        Jordan B. Peterson          4.7    18979     15  2018  Non Fiction  \n",
       "3             George Orwell          4.7    21424      6  2017      Fiction  \n",
       "4  National Geographic Kids          4.8     7665     12  2019  Non Fiction  "
      ],
      "text/html": [
       "<div>\n",
       "<style scoped>\n",
       "    .dataframe tbody tr th:only-of-type {\n",
       "        vertical-align: middle;\n",
       "    }\n",
       "\n",
       "    .dataframe tbody tr th {\n",
       "        vertical-align: top;\n",
       "    }\n",
       "\n",
       "    .dataframe thead th {\n",
       "        text-align: right;\n",
       "    }\n",
       "</style>\n",
       "<table border=\"1\" class=\"dataframe\">\n",
       "  <thead>\n",
       "    <tr style=\"text-align: right;\">\n",
       "      <th></th>\n",
       "      <th>Name</th>\n",
       "      <th>Author</th>\n",
       "      <th>User Rating</th>\n",
       "      <th>Reviews</th>\n",
       "      <th>Price</th>\n",
       "      <th>Year</th>\n",
       "      <th>Genre</th>\n",
       "    </tr>\n",
       "  </thead>\n",
       "  <tbody>\n",
       "    <tr>\n",
       "      <th>0</th>\n",
       "      <td>10-Day Green Smoothie Cleanse</td>\n",
       "      <td>JJ Smith</td>\n",
       "      <td>4.7</td>\n",
       "      <td>17350</td>\n",
       "      <td>8</td>\n",
       "      <td>2016</td>\n",
       "      <td>Non Fiction</td>\n",
       "    </tr>\n",
       "    <tr>\n",
       "      <th>1</th>\n",
       "      <td>11/22/63: A Novel</td>\n",
       "      <td>Stephen King</td>\n",
       "      <td>4.6</td>\n",
       "      <td>2052</td>\n",
       "      <td>22</td>\n",
       "      <td>2011</td>\n",
       "      <td>Fiction</td>\n",
       "    </tr>\n",
       "    <tr>\n",
       "      <th>2</th>\n",
       "      <td>12 Rules for Life: An Antidote to Chaos</td>\n",
       "      <td>Jordan B. Peterson</td>\n",
       "      <td>4.7</td>\n",
       "      <td>18979</td>\n",
       "      <td>15</td>\n",
       "      <td>2018</td>\n",
       "      <td>Non Fiction</td>\n",
       "    </tr>\n",
       "    <tr>\n",
       "      <th>3</th>\n",
       "      <td>1984 (Signet Classics)</td>\n",
       "      <td>George Orwell</td>\n",
       "      <td>4.7</td>\n",
       "      <td>21424</td>\n",
       "      <td>6</td>\n",
       "      <td>2017</td>\n",
       "      <td>Fiction</td>\n",
       "    </tr>\n",
       "    <tr>\n",
       "      <th>4</th>\n",
       "      <td>5,000 Awesome Facts (About Everything!) (Natio...</td>\n",
       "      <td>National Geographic Kids</td>\n",
       "      <td>4.8</td>\n",
       "      <td>7665</td>\n",
       "      <td>12</td>\n",
       "      <td>2019</td>\n",
       "      <td>Non Fiction</td>\n",
       "    </tr>\n",
       "  </tbody>\n",
       "</table>\n",
       "</div>"
      ]
     },
     "execution_count": 271,
     "metadata": {},
     "output_type": "execute_result"
    }
   ],
   "execution_count": 271
  },
  {
   "metadata": {
    "ExecuteTime": {
     "end_time": "2024-05-26T11:44:14.946306Z",
     "start_time": "2024-05-26T11:44:14.936980Z"
    }
   },
   "cell_type": "code",
   "source": [
    "#Підправимо назви змінних\n",
    "df.columns = ['name', 'author', 'user_rating', 'reviews', 'price', 'year', 'genre']\n",
    "df"
   ],
   "id": "b8f2f1c47a1b1b0e",
   "outputs": [
    {
     "data": {
      "text/plain": [
       "                                                  name  \\\n",
       "0                        10-Day Green Smoothie Cleanse   \n",
       "1                                    11/22/63: A Novel   \n",
       "2              12 Rules for Life: An Antidote to Chaos   \n",
       "3                               1984 (Signet Classics)   \n",
       "4    5,000 Awesome Facts (About Everything!) (Natio...   \n",
       "..                                                 ...   \n",
       "545       Wrecking Ball (Diary of a Wimpy Kid Book 14)   \n",
       "546  You Are a Badass: How to Stop Doubting Your Gr...   \n",
       "547  You Are a Badass: How to Stop Doubting Your Gr...   \n",
       "548  You Are a Badass: How to Stop Doubting Your Gr...   \n",
       "549  You Are a Badass: How to Stop Doubting Your Gr...   \n",
       "\n",
       "                       author  user_rating  reviews  price  year        genre  \n",
       "0                    JJ Smith          4.7    17350      8  2016  Non Fiction  \n",
       "1                Stephen King          4.6     2052     22  2011      Fiction  \n",
       "2          Jordan B. Peterson          4.7    18979     15  2018  Non Fiction  \n",
       "3               George Orwell          4.7    21424      6  2017      Fiction  \n",
       "4    National Geographic Kids          4.8     7665     12  2019  Non Fiction  \n",
       "..                        ...          ...      ...    ...   ...          ...  \n",
       "545               Jeff Kinney          4.9     9413      8  2019      Fiction  \n",
       "546               Jen Sincero          4.7    14331      8  2016  Non Fiction  \n",
       "547               Jen Sincero          4.7    14331      8  2017  Non Fiction  \n",
       "548               Jen Sincero          4.7    14331      8  2018  Non Fiction  \n",
       "549               Jen Sincero          4.7    14331      8  2019  Non Fiction  \n",
       "\n",
       "[550 rows x 7 columns]"
      ],
      "text/html": [
       "<div>\n",
       "<style scoped>\n",
       "    .dataframe tbody tr th:only-of-type {\n",
       "        vertical-align: middle;\n",
       "    }\n",
       "\n",
       "    .dataframe tbody tr th {\n",
       "        vertical-align: top;\n",
       "    }\n",
       "\n",
       "    .dataframe thead th {\n",
       "        text-align: right;\n",
       "    }\n",
       "</style>\n",
       "<table border=\"1\" class=\"dataframe\">\n",
       "  <thead>\n",
       "    <tr style=\"text-align: right;\">\n",
       "      <th></th>\n",
       "      <th>name</th>\n",
       "      <th>author</th>\n",
       "      <th>user_rating</th>\n",
       "      <th>reviews</th>\n",
       "      <th>price</th>\n",
       "      <th>year</th>\n",
       "      <th>genre</th>\n",
       "    </tr>\n",
       "  </thead>\n",
       "  <tbody>\n",
       "    <tr>\n",
       "      <th>0</th>\n",
       "      <td>10-Day Green Smoothie Cleanse</td>\n",
       "      <td>JJ Smith</td>\n",
       "      <td>4.7</td>\n",
       "      <td>17350</td>\n",
       "      <td>8</td>\n",
       "      <td>2016</td>\n",
       "      <td>Non Fiction</td>\n",
       "    </tr>\n",
       "    <tr>\n",
       "      <th>1</th>\n",
       "      <td>11/22/63: A Novel</td>\n",
       "      <td>Stephen King</td>\n",
       "      <td>4.6</td>\n",
       "      <td>2052</td>\n",
       "      <td>22</td>\n",
       "      <td>2011</td>\n",
       "      <td>Fiction</td>\n",
       "    </tr>\n",
       "    <tr>\n",
       "      <th>2</th>\n",
       "      <td>12 Rules for Life: An Antidote to Chaos</td>\n",
       "      <td>Jordan B. Peterson</td>\n",
       "      <td>4.7</td>\n",
       "      <td>18979</td>\n",
       "      <td>15</td>\n",
       "      <td>2018</td>\n",
       "      <td>Non Fiction</td>\n",
       "    </tr>\n",
       "    <tr>\n",
       "      <th>3</th>\n",
       "      <td>1984 (Signet Classics)</td>\n",
       "      <td>George Orwell</td>\n",
       "      <td>4.7</td>\n",
       "      <td>21424</td>\n",
       "      <td>6</td>\n",
       "      <td>2017</td>\n",
       "      <td>Fiction</td>\n",
       "    </tr>\n",
       "    <tr>\n",
       "      <th>4</th>\n",
       "      <td>5,000 Awesome Facts (About Everything!) (Natio...</td>\n",
       "      <td>National Geographic Kids</td>\n",
       "      <td>4.8</td>\n",
       "      <td>7665</td>\n",
       "      <td>12</td>\n",
       "      <td>2019</td>\n",
       "      <td>Non Fiction</td>\n",
       "    </tr>\n",
       "    <tr>\n",
       "      <th>...</th>\n",
       "      <td>...</td>\n",
       "      <td>...</td>\n",
       "      <td>...</td>\n",
       "      <td>...</td>\n",
       "      <td>...</td>\n",
       "      <td>...</td>\n",
       "      <td>...</td>\n",
       "    </tr>\n",
       "    <tr>\n",
       "      <th>545</th>\n",
       "      <td>Wrecking Ball (Diary of a Wimpy Kid Book 14)</td>\n",
       "      <td>Jeff Kinney</td>\n",
       "      <td>4.9</td>\n",
       "      <td>9413</td>\n",
       "      <td>8</td>\n",
       "      <td>2019</td>\n",
       "      <td>Fiction</td>\n",
       "    </tr>\n",
       "    <tr>\n",
       "      <th>546</th>\n",
       "      <td>You Are a Badass: How to Stop Doubting Your Gr...</td>\n",
       "      <td>Jen Sincero</td>\n",
       "      <td>4.7</td>\n",
       "      <td>14331</td>\n",
       "      <td>8</td>\n",
       "      <td>2016</td>\n",
       "      <td>Non Fiction</td>\n",
       "    </tr>\n",
       "    <tr>\n",
       "      <th>547</th>\n",
       "      <td>You Are a Badass: How to Stop Doubting Your Gr...</td>\n",
       "      <td>Jen Sincero</td>\n",
       "      <td>4.7</td>\n",
       "      <td>14331</td>\n",
       "      <td>8</td>\n",
       "      <td>2017</td>\n",
       "      <td>Non Fiction</td>\n",
       "    </tr>\n",
       "    <tr>\n",
       "      <th>548</th>\n",
       "      <td>You Are a Badass: How to Stop Doubting Your Gr...</td>\n",
       "      <td>Jen Sincero</td>\n",
       "      <td>4.7</td>\n",
       "      <td>14331</td>\n",
       "      <td>8</td>\n",
       "      <td>2018</td>\n",
       "      <td>Non Fiction</td>\n",
       "    </tr>\n",
       "    <tr>\n",
       "      <th>549</th>\n",
       "      <td>You Are a Badass: How to Stop Doubting Your Gr...</td>\n",
       "      <td>Jen Sincero</td>\n",
       "      <td>4.7</td>\n",
       "      <td>14331</td>\n",
       "      <td>8</td>\n",
       "      <td>2019</td>\n",
       "      <td>Non Fiction</td>\n",
       "    </tr>\n",
       "  </tbody>\n",
       "</table>\n",
       "<p>550 rows × 7 columns</p>\n",
       "</div>"
      ]
     },
     "execution_count": 272,
     "metadata": {},
     "output_type": "execute_result"
    }
   ],
   "execution_count": 272
  },
  {
   "metadata": {
    "ExecuteTime": {
     "end_time": "2024-05-26T11:44:14.996528Z",
     "start_time": "2024-05-26T11:44:14.986474Z"
    }
   },
   "cell_type": "code",
   "source": [
    "#Враховуємо тільки унікальні книги\n",
    "df_unique = df.drop_duplicates(subset='name')\n",
    "df_unique"
   ],
   "id": "6cc98f28603529a",
   "outputs": [
    {
     "data": {
      "text/plain": [
       "                                                  name  \\\n",
       "0                        10-Day Green Smoothie Cleanse   \n",
       "1                                    11/22/63: A Novel   \n",
       "2              12 Rules for Life: An Antidote to Chaos   \n",
       "3                               1984 (Signet Classics)   \n",
       "4    5,000 Awesome Facts (About Everything!) (Natio...   \n",
       "..                                                 ...   \n",
       "538  Winter of the World: Book Two of the Century T...   \n",
       "539  Women Food and God: An Unexpected Path to Almo...   \n",
       "540                                             Wonder   \n",
       "545       Wrecking Ball (Diary of a Wimpy Kid Book 14)   \n",
       "546  You Are a Badass: How to Stop Doubting Your Gr...   \n",
       "\n",
       "                       author  user_rating  reviews  price  year        genre  \n",
       "0                    JJ Smith          4.7    17350      8  2016  Non Fiction  \n",
       "1                Stephen King          4.6     2052     22  2011      Fiction  \n",
       "2          Jordan B. Peterson          4.7    18979     15  2018  Non Fiction  \n",
       "3               George Orwell          4.7    21424      6  2017      Fiction  \n",
       "4    National Geographic Kids          4.8     7665     12  2019  Non Fiction  \n",
       "..                        ...          ...      ...    ...   ...          ...  \n",
       "538               Ken Follett          4.5    10760     15  2012      Fiction  \n",
       "539               Geneen Roth          4.2     1302     11  2010  Non Fiction  \n",
       "540             R. J. Palacio          4.8    21625      9  2013      Fiction  \n",
       "545               Jeff Kinney          4.9     9413      8  2019      Fiction  \n",
       "546               Jen Sincero          4.7    14331      8  2016  Non Fiction  \n",
       "\n",
       "[351 rows x 7 columns]"
      ],
      "text/html": [
       "<div>\n",
       "<style scoped>\n",
       "    .dataframe tbody tr th:only-of-type {\n",
       "        vertical-align: middle;\n",
       "    }\n",
       "\n",
       "    .dataframe tbody tr th {\n",
       "        vertical-align: top;\n",
       "    }\n",
       "\n",
       "    .dataframe thead th {\n",
       "        text-align: right;\n",
       "    }\n",
       "</style>\n",
       "<table border=\"1\" class=\"dataframe\">\n",
       "  <thead>\n",
       "    <tr style=\"text-align: right;\">\n",
       "      <th></th>\n",
       "      <th>name</th>\n",
       "      <th>author</th>\n",
       "      <th>user_rating</th>\n",
       "      <th>reviews</th>\n",
       "      <th>price</th>\n",
       "      <th>year</th>\n",
       "      <th>genre</th>\n",
       "    </tr>\n",
       "  </thead>\n",
       "  <tbody>\n",
       "    <tr>\n",
       "      <th>0</th>\n",
       "      <td>10-Day Green Smoothie Cleanse</td>\n",
       "      <td>JJ Smith</td>\n",
       "      <td>4.7</td>\n",
       "      <td>17350</td>\n",
       "      <td>8</td>\n",
       "      <td>2016</td>\n",
       "      <td>Non Fiction</td>\n",
       "    </tr>\n",
       "    <tr>\n",
       "      <th>1</th>\n",
       "      <td>11/22/63: A Novel</td>\n",
       "      <td>Stephen King</td>\n",
       "      <td>4.6</td>\n",
       "      <td>2052</td>\n",
       "      <td>22</td>\n",
       "      <td>2011</td>\n",
       "      <td>Fiction</td>\n",
       "    </tr>\n",
       "    <tr>\n",
       "      <th>2</th>\n",
       "      <td>12 Rules for Life: An Antidote to Chaos</td>\n",
       "      <td>Jordan B. Peterson</td>\n",
       "      <td>4.7</td>\n",
       "      <td>18979</td>\n",
       "      <td>15</td>\n",
       "      <td>2018</td>\n",
       "      <td>Non Fiction</td>\n",
       "    </tr>\n",
       "    <tr>\n",
       "      <th>3</th>\n",
       "      <td>1984 (Signet Classics)</td>\n",
       "      <td>George Orwell</td>\n",
       "      <td>4.7</td>\n",
       "      <td>21424</td>\n",
       "      <td>6</td>\n",
       "      <td>2017</td>\n",
       "      <td>Fiction</td>\n",
       "    </tr>\n",
       "    <tr>\n",
       "      <th>4</th>\n",
       "      <td>5,000 Awesome Facts (About Everything!) (Natio...</td>\n",
       "      <td>National Geographic Kids</td>\n",
       "      <td>4.8</td>\n",
       "      <td>7665</td>\n",
       "      <td>12</td>\n",
       "      <td>2019</td>\n",
       "      <td>Non Fiction</td>\n",
       "    </tr>\n",
       "    <tr>\n",
       "      <th>...</th>\n",
       "      <td>...</td>\n",
       "      <td>...</td>\n",
       "      <td>...</td>\n",
       "      <td>...</td>\n",
       "      <td>...</td>\n",
       "      <td>...</td>\n",
       "      <td>...</td>\n",
       "    </tr>\n",
       "    <tr>\n",
       "      <th>538</th>\n",
       "      <td>Winter of the World: Book Two of the Century T...</td>\n",
       "      <td>Ken Follett</td>\n",
       "      <td>4.5</td>\n",
       "      <td>10760</td>\n",
       "      <td>15</td>\n",
       "      <td>2012</td>\n",
       "      <td>Fiction</td>\n",
       "    </tr>\n",
       "    <tr>\n",
       "      <th>539</th>\n",
       "      <td>Women Food and God: An Unexpected Path to Almo...</td>\n",
       "      <td>Geneen Roth</td>\n",
       "      <td>4.2</td>\n",
       "      <td>1302</td>\n",
       "      <td>11</td>\n",
       "      <td>2010</td>\n",
       "      <td>Non Fiction</td>\n",
       "    </tr>\n",
       "    <tr>\n",
       "      <th>540</th>\n",
       "      <td>Wonder</td>\n",
       "      <td>R. J. Palacio</td>\n",
       "      <td>4.8</td>\n",
       "      <td>21625</td>\n",
       "      <td>9</td>\n",
       "      <td>2013</td>\n",
       "      <td>Fiction</td>\n",
       "    </tr>\n",
       "    <tr>\n",
       "      <th>545</th>\n",
       "      <td>Wrecking Ball (Diary of a Wimpy Kid Book 14)</td>\n",
       "      <td>Jeff Kinney</td>\n",
       "      <td>4.9</td>\n",
       "      <td>9413</td>\n",
       "      <td>8</td>\n",
       "      <td>2019</td>\n",
       "      <td>Fiction</td>\n",
       "    </tr>\n",
       "    <tr>\n",
       "      <th>546</th>\n",
       "      <td>You Are a Badass: How to Stop Doubting Your Gr...</td>\n",
       "      <td>Jen Sincero</td>\n",
       "      <td>4.7</td>\n",
       "      <td>14331</td>\n",
       "      <td>8</td>\n",
       "      <td>2016</td>\n",
       "      <td>Non Fiction</td>\n",
       "    </tr>\n",
       "  </tbody>\n",
       "</table>\n",
       "<p>351 rows × 7 columns</p>\n",
       "</div>"
      ]
     },
     "execution_count": 273,
     "metadata": {},
     "output_type": "execute_result"
    }
   ],
   "execution_count": 273
  },
  {
   "metadata": {
    "ExecuteTime": {
     "end_time": "2024-05-26T11:44:15.048918Z",
     "start_time": "2024-05-26T11:44:15.043998Z"
    }
   },
   "cell_type": "code",
   "source": [
    "#Виведіть розміри датасету (використовуйте атрибут shape)\n",
    "df_unique.shape[0]"
   ],
   "id": "920613be5951949b",
   "outputs": [
    {
     "data": {
      "text/plain": [
       "351"
      ]
     },
     "execution_count": 274,
     "metadata": {},
     "output_type": "execute_result"
    }
   ],
   "execution_count": 274
  },
  {
   "metadata": {
    "ExecuteTime": {
     "end_time": "2024-05-26T11:44:15.170299Z",
     "start_time": "2024-05-26T11:44:15.167080Z"
    }
   },
   "cell_type": "code",
   "source": [
    "#Про скільки книг зберігає дані датасет?\n",
    "# Відповідь: про 351 книгу"
   ],
   "id": "4023ad08cb176c24",
   "outputs": [],
   "execution_count": 275
  },
  {
   "metadata": {
    "ExecuteTime": {
     "end_time": "2024-05-26T11:44:15.255730Z",
     "start_time": "2024-05-26T11:44:15.250123Z"
    }
   },
   "cell_type": "code",
   "source": [
    "#Перевірте, чи у всіх рядків вистачає даних: виведіть кількість пропусків (na) у кожному зі стовпців (використовуйте функції isna та sum)\n",
    "df.isna().sum()\n"
   ],
   "id": "ab45451208b034d0",
   "outputs": [
    {
     "data": {
      "text/plain": [
       "name           0\n",
       "author         0\n",
       "user_rating    0\n",
       "reviews        0\n",
       "price          0\n",
       "year           0\n",
       "genre          0\n",
       "dtype: int64"
      ]
     },
     "execution_count": 276,
     "metadata": {},
     "output_type": "execute_result"
    }
   ],
   "execution_count": 276
  },
  {
   "metadata": {
    "ExecuteTime": {
     "end_time": "2024-05-26T11:44:15.366358Z",
     "start_time": "2024-05-26T11:44:15.363120Z"
    }
   },
   "cell_type": "code",
   "source": "    #Відповідь: Чи є в якихось змінних пропуски? (ні)",
   "id": "b02c11601755756a",
   "outputs": [],
   "execution_count": 277
  },
  {
   "metadata": {
    "ExecuteTime": {
     "end_time": "2024-05-26T11:44:15.414163Z",
     "start_time": "2024-05-26T11:44:15.409099Z"
    }
   },
   "cell_type": "code",
   "source": [
    "#Перевірте, які є унікальні значення в колонці genre (використовуйте функцію unique)\n",
    "df_unique['genre'].unique()"
   ],
   "id": "d1877244768fd18c",
   "outputs": [
    {
     "data": {
      "text/plain": [
       "array(['Non Fiction', 'Fiction'], dtype=object)"
      ]
     },
     "execution_count": 278,
     "metadata": {},
     "output_type": "execute_result"
    }
   ],
   "execution_count": 278
  },
  {
   "metadata": {
    "ExecuteTime": {
     "end_time": "2024-05-26T11:44:15.450814Z",
     "start_time": "2024-05-26T11:44:15.447333Z"
    }
   },
   "cell_type": "code",
   "source": "#Відповідь: Які є унікальні жанри? Non Fiction та Fiction",
   "id": "816aa8cbc01121c2",
   "outputs": [],
   "execution_count": 279
  },
  {
   "metadata": {
    "ExecuteTime": {
     "end_time": "2024-05-26T11:44:15.657277Z",
     "start_time": "2024-05-26T11:44:15.469669Z"
    }
   },
   "cell_type": "code",
   "source": [
    "#Подивіться на розподіл цін: побудуйте діаграму (використовуйте kind='hist')\n",
    "df_unique['price'].hist()"
   ],
   "id": "e79f3a6c2cc699f3",
   "outputs": [
    {
     "data": {
      "text/plain": [
       "<Axes: >"
      ]
     },
     "execution_count": 280,
     "metadata": {},
     "output_type": "execute_result"
    },
    {
     "data": {
      "text/plain": [
       "<Figure size 640x480 with 1 Axes>"
      ],
      "image/png": "[encoded data removed]"
     },
     "metadata": {},
     "output_type": "display_data"
    }
   ],
   "execution_count": 280
  },
  {
   "metadata": {
    "ExecuteTime": {
     "end_time": "2024-05-26T11:44:15.663849Z",
     "start_time": "2024-05-26T11:44:15.658785Z"
    }
   },
   "cell_type": "code",
   "source": [
    "#Визначте, яка ціна у нас максимальна, мінімальна, середня, медіанна (використовуйте функції max, min, mean, median)\n",
    "\n",
    "max_price = df_unique['price'].max()\n",
    "print(\"Максимальна ціна:\", max_price)\n",
    "\n",
    "min_price = df_unique['price'].min()\n",
    "print(\"Мінімальна ціна:\", min_price)\n",
    "\n",
    "mean_price = df_unique['price'].mean().round(2)\n",
    "print(\"Середня ціна:\", mean_price)\n",
    "\n",
    "median_price = df_unique['price'].median()\n",
    "print(\"Медіанна ціна:\", median_price)"
   ],
   "id": "e69e8e49fb1936e6",
   "outputs": [
    {
     "name": "stdout",
     "output_type": "stream",
     "text": [
      "Максимальна ціна: 105\n",
      "Мінімальна ціна: 0\n",
      "Середня ціна: 13.08\n",
      "Медіанна ціна: 12.0\n"
     ]
    }
   ],
   "execution_count": 281
  },
  {
   "metadata": {
    "ExecuteTime": {
     "end_time": "2024-05-26T11:44:15.670204Z",
     "start_time": "2024-05-26T11:44:15.665605Z"
    }
   },
   "cell_type": "code",
   "source": [
    "#Відповідь: Який рейтинг у датасеті найвищий?\n",
    "\n",
    "high_rating = df_unique['user_rating'].max()\n",
    "print(\"Найвищий рейтинг:\", high_rating)\n"
   ],
   "id": "d3b3b11d1d9730d7",
   "outputs": [
    {
     "name": "stdout",
     "output_type": "stream",
     "text": [
      "Найвищий рейтинг: 4.9\n"
     ]
    }
   ],
   "execution_count": 282
  },
  {
   "metadata": {
    "ExecuteTime": {
     "end_time": "2024-05-26T11:44:15.675687Z",
     "start_time": "2024-05-26T11:44:15.670204Z"
    }
   },
   "cell_type": "code",
   "source": [
    "#Скільки книг мають найвищій рейтинг?\n",
    "\n",
    "high_rating_count = len(df_unique[df_unique['user_rating'] == high_rating])\n",
    "print(\"Кількість книг з найвищим рейтингом:\", high_rating_count)"
   ],
   "id": "c9517678cdcfac36",
   "outputs": [
    {
     "name": "stdout",
     "output_type": "stream",
     "text": [
      "Кількість книг з найвищим рейтингом: 28\n"
     ]
    }
   ],
   "execution_count": 283
  },
  {
   "metadata": {
    "ExecuteTime": {
     "end_time": "2024-05-26T11:44:15.682091Z",
     "start_time": "2024-05-26T11:44:15.677694Z"
    }
   },
   "cell_type": "code",
   "source": [
    "#Яка книга має найбільше відгуків?\n",
    "\n",
    "# Знаходимо максимальну кількість відгуків\n",
    "max_reviews = df_unique['reviews'].max()\n",
    "\n",
    "# Знаходимо індекс книги з найбільшою кількістю відгуків\n",
    "index_of_max_reviews = df_unique['reviews'].idxmax()\n",
    "\n",
    "# Отримуємо назву книги з найбільшою кількістю відгуків\n",
    "book_with_max_reviews = df_unique.loc[index_of_max_reviews, 'name']\n",
    "\n",
    "print(\"Кількість відгуків:\", max_reviews)\n",
    "print(\"Книга з найбільшою кількістю відгуків:\", book_with_max_reviews)"
   ],
   "id": "cf81b96b699f7965",
   "outputs": [
    {
     "name": "stdout",
     "output_type": "stream",
     "text": [
      "Кількість відгуків: 87841\n",
      "Книга з найбільшою кількістю відгуків: Where the Crawdads Sing\n"
     ]
    }
   ],
   "execution_count": 284
  },
  {
   "metadata": {
    "ExecuteTime": {
     "end_time": "2024-05-26T11:44:15.688626Z",
     "start_time": "2024-05-26T11:44:15.683096Z"
    }
   },
   "cell_type": "code",
   "source": [
    "#З тих книг, що потрапили до Топ-50 у 2015 році, яка книга найдорожча (можна використати проміжний датафрейм)? \n",
    "\n",
    "# top50_2015\n",
    "df_top50_2015 = df_unique[df_unique['year'] == 2015]\n",
    "\n",
    "# Знайти книгу з найбільшою ціною в df_top50_2015\n",
    "max_price_book = df_top50_2015[df_top50_2015['price'] == df_top50_2015['price'].max()]\n",
    "\n",
    "# Назва книги з найбільшою ціною\n",
    "print(\"Найдорожча книга з Топ-50 2015 року:\", max_price_book['name'].values[0])"
   ],
   "id": "1fde2c176ef84d76",
   "outputs": [
    {
     "name": "stdout",
     "output_type": "stream",
     "text": [
      "Найдорожча книга з Топ-50 2015 року: Go Set a Watchman: A Novel\n"
     ]
    }
   ],
   "execution_count": 285
  },
  {
   "metadata": {
    "ExecuteTime": {
     "end_time": "2024-05-26T11:44:15.694838Z",
     "start_time": "2024-05-26T11:44:15.689854Z"
    }
   },
   "cell_type": "code",
   "source": [
    "#Скільки книг жанру Fiction потрапили до Топ-50 у 2010 році (використовуйте &)? \n",
    "\n",
    "# Фільтруємо DataFrame за двома умовами: жанр Fiction і рік 2010\n",
    "fiction_books_2010 = df_unique[(df_unique['genre'] == 'Fiction') & (df_unique['year'] == 2010)]\n",
    "\n",
    "# Рахуємо кількість книг, які задовольняють обом умовам\n",
    "count_fiction_books_2010 = fiction_books_2010.shape[0]\n",
    "\n",
    "print(\"Кількість книг жанру Fiction, що потрапили до Топ-50 у 2010 році:\", count_fiction_books_2010)"
   ],
   "id": "21c6887bcfa68524",
   "outputs": [
    {
     "name": "stdout",
     "output_type": "stream",
     "text": [
      "Кількість книг жанру Fiction, що потрапили до Топ-50 у 2010 році: 17\n"
     ]
    }
   ],
   "execution_count": 286
  },
  {
   "metadata": {
    "ExecuteTime": {
     "end_time": "2024-05-26T11:44:15.702235Z",
     "start_time": "2024-05-26T11:44:15.696849Z"
    }
   },
   "cell_type": "code",
   "source": [
    "#Скільки книг з рейтингом 4.9 потрапило до рейтингу у 2010 та 2011 роках (використовуйте | або функцію isin)?\n",
    "# Фільтруємо DataFrame за умовою рейтингу 4.9 і рік відповідно до 2010 та 2011\n",
    "books_4_9_2010_2011 = df_unique[(df_unique['user_rating'] == 4.9) & (df_unique['year'].isin([2010, 2011]))]\n",
    "\n",
    "# Рахуємо кількість книг, які задовольняють умовам\n",
    "count_books_4_9_2010_2011 = books_4_9_2010_2011.shape[0]\n",
    "\n",
    "print(f\"Кількість книг з рейтингом 4.9, що потрапили до рейтингу у 2010 та 2011 роках: {count_books_4_9_2010_2011}\")"
   ],
   "id": "1989ddf7901c7da3",
   "outputs": [
    {
     "name": "stdout",
     "output_type": "stream",
     "text": [
      "Кількість книг з рейтингом 4.9, що потрапили до рейтингу у 2010 та 2011 роках: 1\n"
     ]
    }
   ],
   "execution_count": 287
  },
  {
   "metadata": {
    "ExecuteTime": {
     "end_time": "2024-05-26T11:44:15.710781Z",
     "start_time": "2024-05-26T11:44:15.703241Z"
    }
   },
   "cell_type": "code",
   "source": [
    "#Відсортуємо за зростанням ціни всі книги, які потрапили до рейтингу в 2015 році і коштують дешевше за 8 доларів (використовуйте функцію sort_values)\n",
    "\n",
    "# Фільтруємо DataFrame за двома умовами: рік 2015 і ціна менше за 8 доларів\n",
    "cheap_books_2015 = df_unique[(df_unique['year'] == 2015) & (df_unique['price'] < 8)]\n",
    "\n",
    "# Сортуємо за зростанням ціни\n",
    "cheap_books_2015_sorted = cheap_books_2015.sort_values('price')\n",
    "\n",
    "print(\"Книги, які потрапили до рейтингу в 2015 році і коштують дешевше за 8 доларів:\")\n",
    "print(cheap_books_2015_sorted)"
   ],
   "id": "a7f0fd6c754b99",
   "outputs": [
    {
     "name": "stdout",
     "output_type": "stream",
     "text": [
      "Книги, які потрапили до рейтингу в 2015 році і коштують дешевше за 8 доларів:\n",
      "                                                  name              author  \\\n",
      "54   Creative Haven Creative Cats Coloring Book (Ad...     Marjorie Sarnat   \n",
      "123                               Giraffes Can't Dance       Giles Andreae   \n",
      "28                        Baby Touch and Feel: Animals                  DK   \n",
      "55   Creative Haven Owls Coloring Book (Adult Color...     Marjorie Sarnat   \n",
      "63                      Dear Zoo: A Lift-the-Flap Book        Rod Campbell   \n",
      "89   Dover Creative Haven Art Nouveau Animal Design...         Marty Noble   \n",
      "201  Killing Reagan: The Violent Assault That Chang...       Bill O'Reilly   \n",
      "16   Adult Coloring Book: Stress Relieving Animal D...  Blue Star Coloring   \n",
      "17      Adult Coloring Book: Stress Relieving Patterns  Blue Star Coloring   \n",
      "253              Old School (Diary of a Wimpy Kid #10)         Jeff Kinney   \n",
      "\n",
      "     user_rating  reviews  price  year        genre  \n",
      "54           4.8     4022      4  2015  Non Fiction  \n",
      "123          4.8    14038      4  2015      Fiction  \n",
      "28           4.6     5360      5  2015  Non Fiction  \n",
      "55           4.8     3871      5  2015  Non Fiction  \n",
      "63           4.8    10922      5  2015      Fiction  \n",
      "89           4.6     2134      5  2015  Non Fiction  \n",
      "201          4.6     5235      5  2015  Non Fiction  \n",
      "16           4.6     2925      6  2015  Non Fiction  \n",
      "17           4.4     2951      6  2015  Non Fiction  \n",
      "253          4.8     6169      7  2015      Fiction  \n"
     ]
    }
   ],
   "execution_count": 288
  },
  {
   "metadata": {
    "ExecuteTime": {
     "end_time": "2024-05-26T11:44:15.791062Z",
     "start_time": "2024-05-26T11:44:15.788221Z"
    }
   },
   "cell_type": "code",
   "source": [
    "#Яка книга остання у відсортованому списку? \n",
    "#Відповідь:Old School (Diary of a Wimpy Kid #10) "
   ],
   "id": "16fa18ffa821099",
   "outputs": [],
   "execution_count": 289
  },
  {
   "metadata": {
    "ExecuteTime": {
     "end_time": "2024-05-26T11:44:15.853002Z",
     "start_time": "2024-05-26T11:44:15.846820Z"
    }
   },
   "cell_type": "code",
   "source": [
    "#Подивимося на максимальну та мінімальну ціни для кожного з жанрів (використовуйте функції groupby та agg, для підрахунку мінімальних та максимальних значень використовуйте max та min).\n",
    "# Групуємо дані за жанром і застосовуємо агрегатні функції max та min до стовпця 'price'\n",
    "price_by_genre = df_unique.groupby('genre')['price'].agg(['min', 'max'])\n",
    "\n",
    "print(price_by_genre)"
   ],
   "id": "49274d00e8d1a542",
   "outputs": [
    {
     "name": "stdout",
     "output_type": "stream",
     "text": [
      "             min  max\n",
      "genre                \n",
      "Fiction        0   82\n",
      "Non Fiction    0  105\n"
     ]
    }
   ],
   "execution_count": 290
  },
  {
   "metadata": {
    "ExecuteTime": {
     "end_time": "2024-05-26T11:44:15.882493Z",
     "start_time": "2024-05-26T11:44:15.879127Z"
    }
   },
   "cell_type": "code",
   "source": [
    "#Максимальна ціна для жанру Fiction: \n",
    "# Відповідь: 82"
   ],
   "id": "686db276b833f7a3",
   "outputs": [],
   "execution_count": 291
  },
  {
   "metadata": {
    "ExecuteTime": {
     "end_time": "2024-05-26T11:44:15.905360Z",
     "start_time": "2024-05-26T11:44:15.901928Z"
    }
   },
   "cell_type": "code",
   "source": [
    "#Мінімальна ціна для жанру Fiction: \n",
    "# Відповідь: 0  "
   ],
   "id": "851465eac0c6706c",
   "outputs": [],
   "execution_count": 292
  },
  {
   "metadata": {
    "ExecuteTime": {
     "end_time": "2024-05-26T11:44:15.922288Z",
     "start_time": "2024-05-26T11:44:15.919640Z"
    }
   },
   "cell_type": "code",
   "source": [
    "#Максимальна ціна для жанру Non Fiction:\n",
    "# Відповідь: 105"
   ],
   "id": "96e6eff4817458a2",
   "outputs": [],
   "execution_count": 293
  },
  {
   "metadata": {
    "ExecuteTime": {
     "end_time": "2024-05-26T11:44:15.935033Z",
     "start_time": "2024-05-26T11:44:15.932011Z"
    }
   },
   "cell_type": "code",
   "source": [
    "#Мінімальна ціна для жанру Non Fiction:\n",
    "# Відповідь: 0  "
   ],
   "id": "899f4ea82071f816",
   "outputs": [],
   "execution_count": 294
  },
  {
   "metadata": {
    "ExecuteTime": {
     "end_time": "2024-05-26T11:44:15.961378Z",
     "start_time": "2024-05-26T11:44:15.954914Z"
    }
   },
   "cell_type": "code",
   "source": [
    "#Cтворіть новий датафрейм, який вміщатиме кількість книг для кожного з авторів (використовуйте функції groupby та agg, для підрахунку кількості використовуйте count). \n",
    "\n",
    "# Групуємо дані за автором і застосовуємо агрегатну функцію count до стовпця 'name'\n",
    "books_by_author = df_unique.groupby('author')['name'].count().reset_index()\n",
    "\n",
    "# Перейменовуємо стовпець 'count' на 'number of books'\n",
    "books_by_author.rename(columns={'name': 'number of books'}, inplace=True)\n",
    "\n",
    "print(books_by_author)"
   ],
   "id": "3f119818968529f5",
   "outputs": [
    {
     "name": "stdout",
     "output_type": "stream",
     "text": [
      "                         author  number of books\n",
      "0              Abraham Verghese                1\n",
      "1                Adam Gasiewski                1\n",
      "2                 Adam Mansbach                1\n",
      "3                     Adir Levy                1\n",
      "4    Admiral William H. McRaven                1\n",
      "..                          ...              ...\n",
      "243             Walter Isaacson                2\n",
      "244               William Davis                1\n",
      "245            William P. Young                1\n",
      "246            Wizards RPG Team                1\n",
      "247                Zhi Gang Sha                2\n",
      "\n",
      "[248 rows x 2 columns]\n"
     ]
    }
   ],
   "execution_count": 295
  },
  {
   "metadata": {
    "ExecuteTime": {
     "end_time": "2024-05-26T11:44:15.972579Z",
     "start_time": "2024-05-26T11:44:15.969022Z"
    }
   },
   "cell_type": "code",
   "source": [
    "#Якої розмірності вийшла таблиця? \n",
    "\n",
    "# Відповідь: [248 rows x 2 columns]"
   ],
   "id": "61258b4dae97e15f",
   "outputs": [],
   "execution_count": 296
  },
  {
   "metadata": {
    "ExecuteTime": {
     "end_time": "2024-05-26T11:44:15.987943Z",
     "start_time": "2024-05-26T11:44:15.982485Z"
    }
   },
   "cell_type": "code",
   "source": [
    "#Який автор має найбільше книг?\n",
    "\n",
    "# Знаходимо автора з найбільшою кількістю книг\n",
    "author_with_most_books = books_by_author.loc[books_by_author['number of books'].idxmax(), 'author']\n",
    "print(\"Автор з найбільшою кількістю книг:\", author_with_most_books)"
   ],
   "id": "1c4b784319308c9",
   "outputs": [
    {
     "name": "stdout",
     "output_type": "stream",
     "text": [
      "Автор з найбільшою кількістю книг: Jeff Kinney\n"
     ]
    }
   ],
   "execution_count": 297
  },
  {
   "metadata": {
    "ExecuteTime": {
     "end_time": "2024-05-26T11:44:16.004287Z",
     "start_time": "2024-05-26T11:44:15.999719Z"
    }
   },
   "cell_type": "code",
   "source": [
    "#Скільки книг цього автора? \n",
    "\n",
    "author_name = \"Jeff Kinney\"\n",
    "\n",
    "# Знаходимо кількість книг для цього автора\n",
    "number_of_books = books_by_author.loc[books_by_author['author'] == \"Jeff Kinney\", 'number of books'].values[0]\n",
    "print(\"Кількість книг автора\", author_name, \":\", number_of_books)"
   ],
   "id": "b05ee82d9b1f6cd8",
   "outputs": [
    {
     "name": "stdout",
     "output_type": "stream",
     "text": [
      "Кількість книг автора Jeff Kinney : 12\n"
     ]
    }
   ],
   "execution_count": 298
  },
  {
   "metadata": {
    "ExecuteTime": {
     "end_time": "2024-05-26T11:44:16.024878Z",
     "start_time": "2024-05-26T11:44:16.018523Z"
    }
   },
   "cell_type": "code",
   "source": [
    "#Створіть другий датафрейм, який буде вміщати середній рейтинг для кожного автора (використовуйте функції groupby та agg, для підрахунку середнього значення використовуйте mean). \n",
    "\n",
    "# Групуємо дані за автором і застосовуємо агрегатну функцію mean \n",
    "ratings_by_author = df_unique.groupby('author')['user_rating'].agg('mean').reset_index()\n",
    "\n",
    "print(ratings_by_author)"
   ],
   "id": "13f0baee906a2f76",
   "outputs": [
    {
     "name": "stdout",
     "output_type": "stream",
     "text": [
      "                         author  user_rating\n",
      "0              Abraham Verghese         4.60\n",
      "1                Adam Gasiewski         4.40\n",
      "2                 Adam Mansbach         4.80\n",
      "3                     Adir Levy         4.80\n",
      "4    Admiral William H. McRaven         4.70\n",
      "..                          ...          ...\n",
      "243             Walter Isaacson         4.55\n",
      "244               William Davis         4.40\n",
      "245            William P. Young         4.60\n",
      "246            Wizards RPG Team         4.80\n",
      "247                Zhi Gang Sha         4.60\n",
      "\n",
      "[248 rows x 2 columns]\n"
     ]
    }
   ],
   "execution_count": 299
  },
  {
   "metadata": {
    "ExecuteTime": {
     "end_time": "2024-05-26T11:44:16.053302Z",
     "start_time": "2024-05-26T11:44:16.048890Z"
    }
   },
   "cell_type": "code",
   "source": [
    "#У якого автора середній рейтинг мінімальний?\n",
    "\n",
    "# Знаходимо автора з мінімальним середнім рейтингом\n",
    "author_with_min_rating = ratings_by_author.loc[ratings_by_author['user_rating'].idxmin(), 'author']\n",
    "\n",
    "print(\"Автор з мінімальним середнім рейтингом:\", author_with_min_rating)"
   ],
   "id": "c83dc3989a1a5961",
   "outputs": [
    {
     "name": "stdout",
     "output_type": "stream",
     "text": [
      "Автор з мінімальним середнім рейтингом: Donna Tartt\n"
     ]
    }
   ],
   "execution_count": 300
  },
  {
   "metadata": {
    "ExecuteTime": {
     "end_time": "2024-05-26T11:44:16.084752Z",
     "start_time": "2024-05-26T11:44:16.080364Z"
    }
   },
   "cell_type": "code",
   "source": [
    "#Який у цього автора середній рейтинг? \n",
    "\n",
    "author_name = \"Donna Tartt\"\n",
    "\n",
    "# Знаходимо середній рейтинг для цього автора\n",
    "average_rating = ratings_by_author.loc[ratings_by_author['author'] == author_name, 'user_rating'].values[0]\n",
    "\n",
    "print(\"Середній рейтинг автора\", author_name, \":\", average_rating)"
   ],
   "id": "6f677fac79df4cdc",
   "outputs": [
    {
     "name": "stdout",
     "output_type": "stream",
     "text": [
      "Середній рейтинг автора Donna Tartt : 3.9\n"
     ]
    }
   ],
   "execution_count": 301
  },
  {
   "metadata": {
    "ExecuteTime": {
     "end_time": "2024-05-26T11:44:16.116959Z",
     "start_time": "2024-05-26T11:44:16.110867Z"
    }
   },
   "cell_type": "code",
   "source": [
    "#З'єднайте останні два датафрейми так, щоб для кожного автора було видно кількість книг та середній рейтинг (Використовуйте функцію concat з параметром axis=1). Збережіть результат у змінну)\n",
    "\n",
    "# Об'єднуємо DataFrame books_by_author і ratings_by_author по горизонталі\n",
    "combined_df = pd.concat([books_by_author, ratings_by_author['user_rating']], axis=1)\n",
    "\n",
    "print(combined_df)"
   ],
   "id": "805b37be7efe7db7",
   "outputs": [
    {
     "name": "stdout",
     "output_type": "stream",
     "text": [
      "                         author  number of books  user_rating\n",
      "0              Abraham Verghese                1         4.60\n",
      "1                Adam Gasiewski                1         4.40\n",
      "2                 Adam Mansbach                1         4.80\n",
      "3                     Adir Levy                1         4.80\n",
      "4    Admiral William H. McRaven                1         4.70\n",
      "..                          ...              ...          ...\n",
      "243             Walter Isaacson                2         4.55\n",
      "244               William Davis                1         4.40\n",
      "245            William P. Young                1         4.60\n",
      "246            Wizards RPG Team                1         4.80\n",
      "247                Zhi Gang Sha                2         4.60\n",
      "\n",
      "[248 rows x 3 columns]\n"
     ]
    }
   ],
   "execution_count": 302
  },
  {
   "metadata": {
    "ExecuteTime": {
     "end_time": "2024-05-26T11:44:16.134811Z",
     "start_time": "2024-05-26T11:44:16.128358Z"
    }
   },
   "cell_type": "code",
   "source": [
    "#Відсортуйте датафрейм за зростаючою кількістю книг та зростаючим рейтингом (використовуйте функцію sort_values)\n",
    "\n",
    "# Відсортуємо DataFrame combined_df за зростаючою кількістю книг та зростаючим рейтингом\n",
    "sorted_df = combined_df.sort_values(by=['number of books', 'user_rating'], ascending=[True, True])\n",
    "\n",
    "print(sorted_df)"
   ],
   "id": "5ef905dbab6cf50d",
   "outputs": [
    {
     "name": "stdout",
     "output_type": "stream",
     "text": [
      "              author  number of books  user_rating\n",
      "71       Donna Tartt                1     3.900000\n",
      "90            Gallup                1     4.000000\n",
      "100    Gillian Flynn                1     4.000000\n",
      "171   Muriel Barbery                1     4.000000\n",
      "43      Chris Cleave                1     4.100000\n",
      "..               ...              ...          ...\n",
      "27     Bill O'Reilly                6     4.633333\n",
      "58        Dav Pilkey                6     4.900000\n",
      "221  Stephenie Meyer                7     4.657143\n",
      "197     Rick Riordan               10     4.770000\n",
      "120      Jeff Kinney               12     4.800000\n",
      "\n",
      "[248 rows x 3 columns]\n"
     ]
    }
   ],
   "execution_count": 303
  },
  {
   "metadata": {
    "ExecuteTime": {
     "end_time": "2024-05-26T11:44:16.150607Z",
     "start_time": "2024-05-26T11:44:16.146514Z"
    }
   },
   "cell_type": "code",
   "source": [
    "# Знаходимо ім'я першого автора у відсортованому DataFrame\n",
    "first_author = sorted_df.iloc[0, 0]\n",
    "\n",
    "print(\"Перший автор у списку:\", first_author)"
   ],
   "id": "6e0417e037b8fe9e",
   "outputs": [
    {
     "name": "stdout",
     "output_type": "stream",
     "text": [
      "Перший автор у списку: Donna Tartt\n"
     ]
    }
   ],
   "execution_count": 304
  },
  {
   "metadata": {
    "ExecuteTime": {
     "end_time": "2024-05-26T12:46:18.158799Z",
     "start_time": "2024-05-26T12:46:18.021692Z"
    }
   },
   "cell_type": "code",
   "source": [
    "%matplotlib inline\n",
    "# Створення boxplot\n",
    "plt.figure(figsize=(8, 6))\n",
    "sns.boxplot(data=df_unique, x='genre', y='price', palette='viridis')\n",
    "plt.xlabel('Жанр')\n",
    "plt.ylabel('Ціна')\n",
    "plt.title('Розподіл цін книг за жанрами')\n",
    "plt.show()"
   ],
   "id": "2c8493ef3426712a",
   "outputs": [
    {
     "data": {
      "text/plain": [
       "<Figure size 800x600 with 1 Axes>"
      ],
      "image/png": "[encoded data removed]"
     },
     "metadata": {},
     "output_type": "display_data"
    }
   ],
   "execution_count": 354
  },
  {
   "metadata": {
    "ExecuteTime": {
     "end_time": "2024-05-26T11:52:38.254259Z",
     "start_time": "2024-05-26T11:52:38.148332Z"
    }
   },
   "cell_type": "code",
   "source": [
    "%matplotlib inline\n",
    "min_prices = price_by_genre['min']\n",
    "max_prices = price_by_genre['max']\n",
    "plt.figure(figsize=(10, 6))\n",
    "plt.pie([min_prices.sum(), max_prices.sum()], labels=['Мінімальна ціна', 'Максимальна ціна'], autopct='%1.1f%%', startangle=140, colors=['red', 'orange'])\n",
    "plt.title('Розподіл мінімальної та максимальної ціни для всіх жанрів')\n",
    "plt.axis('equal') \n",
    "plt.legend(loc='upper right')\n",
    "plt.show()"
   ],
   "id": "5418ef6bc23b3170",
   "outputs": [
    {
     "data": {
      "text/plain": [
       "<Figure size 1000x600 with 1 Axes>"
      ],
      "image/png": "[encoded data removed]"
     },
     "metadata": {},
     "output_type": "display_data"
    }
   ],
   "execution_count": 315
  },
  {
   "metadata": {
    "ExecuteTime": {
     "end_time": "2024-05-26T12:37:23.863923Z",
     "start_time": "2024-05-26T12:37:23.736438Z"
    }
   },
   "cell_type": "code",
   "source": [
    "\n",
    "%matplotlib inline\n",
    "\n",
    "# Створення гребенчатої діаграми\n",
    "plt.figure(figsize=(8, 6))\n",
    "sns.violinplot(x=df_unique['genre'], y=df_unique['price'], palette='viridis')\n",
    "plt.xlabel('Жанр')\n",
    "plt.ylabel('Ціна')\n",
    "plt.title('Розподіл цін книг за жанрами')\n",
    "plt.show()"
   ],
   "id": "b5fe3d54334d0c8c",
   "outputs": [
    {
     "data": {
      "text/plain": [
       "<Figure size 800x600 with 1 Axes>"
      ],
      "image/png": "[encoded data removed]"
     },
     "metadata": {},
     "output_type": "display_data"
    }
   ],
   "execution_count": 344
  }
 ],
 "metadata": {
  "kernelspec": {
   "display_name": "Python 3",
   "language": "python",
   "name": "python3"
  },
  "language_info": {
   "codemirror_mode": {
    "name": "ipython",
    "version": 2
   },
   "file_extension": ".py",
   "mimetype": "text/x-python",
   "name": "python",
   "nbconvert_exporter": "python",
   "pygments_lexer": "ipython2",
   "version": "2.7.6"
  }
 },
 "nbformat": 4,
 "nbformat_minor": 5
}
